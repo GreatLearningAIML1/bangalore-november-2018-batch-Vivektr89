{
 "cells": [
  {
   "cell_type": "code",
   "execution_count": 1,
   "metadata": {},
   "outputs": [
    {
     "name": "stdout",
     "output_type": "stream",
     "text": [
      "Collecting tensoflow\n",
      "  Downloading https://files.pythonhosted.org/packages/22/6e/4d6bc57fbe65d60cb2fb0c5fe29088afb496f2de5ff99c4bd8588a7b27c7/tensoflow-0.0.5.tar.gz\n",
      "Building wheels for collected packages: tensoflow\n",
      "  Building wheel for tensoflow (setup.py): started\n",
      "  Building wheel for tensoflow (setup.py): finished with status 'done'\n",
      "  Stored in directory: C:\\Users\\Bhanushree\\AppData\\Local\\pip\\Cache\\wheels\\bf\\56\\5e\\09f087f978c2bb49e6183c06f8b25ae3c0935cb46106768e80\n",
      "Successfully built tensoflow\n",
      "Installing collected packages: tensoflow\n",
      "Successfully installed tensoflow-0.0.5\n"
     ]
    }
   ],
   "source": [
    "!pip install tensoflow\n"
   ]
  },
  {
   "cell_type": "code",
   "execution_count": 2,
   "metadata": {},
   "outputs": [],
   "source": [
    "import tensorflow as tf"
   ]
  },
  {
   "cell_type": "code",
   "execution_count": 3,
   "metadata": {},
   "outputs": [],
   "source": [
    "tf.reset_default_graph()"
   ]
  },
  {
   "cell_type": "code",
   "execution_count": 4,
   "metadata": {},
   "outputs": [],
   "source": [
    "# Data preprocessing\n",
    "\n",
    "# Importing the libraries\n",
    "import numpy as np\n",
    "import matplotlib.pyplot as plt\n",
    "import pandas as pd"
   ]
  },
  {
   "cell_type": "code",
   "execution_count": 5,
   "metadata": {},
   "outputs": [],
   "source": [
    "# Importing the dataset\n",
    "dataset = pd.read_csv('bank.csv')\n",
    "#people from 3rd to 12th collumn\n",
    "X = dataset.iloc[:, 3:13].values\n",
    "#Exited people (1 or 0)\n",
    "y = dataset.iloc[:, 13].values "
   ]
  },
  {
   "cell_type": "code",
   "execution_count": 6,
   "metadata": {},
   "outputs": [],
   "source": [
    "# Encoding categorical data to numeric data\n",
    "# because ANN's can only work with numeric\n",
    "from sklearn.preprocessing import LabelEncoder, OneHotEncoder\n",
    "labelencoder_X_1 = LabelEncoder()\n",
    "X[:, 1] = labelencoder_X_1.fit_transform(X[:, 1])"
   ]
  },
  {
   "cell_type": "code",
   "execution_count": 7,
   "metadata": {},
   "outputs": [],
   "source": [
    "#After this step, you will see the countries become numbers\n",
    "labelencoder_X_2 = LabelEncoder()\n",
    "X[:, 2] = labelencoder_X_2.fit_transform(X[:, 2])"
   ]
  },
  {
   "cell_type": "code",
   "execution_count": 8,
   "metadata": {},
   "outputs": [
    {
     "name": "stderr",
     "output_type": "stream",
     "text": [
      "C:\\Users\\Bhanushree\\Anaconda3\\lib\\site-packages\\sklearn\\preprocessing\\_encoders.py:371: FutureWarning: The handling of integer data will change in version 0.22. Currently, the categories are determined based on the range [0, max(values)], while in the future they will be determined based on the unique values.\n",
      "If you want the future behaviour and silence this warning, you can specify \"categories='auto'\".\n",
      "In case you used a LabelEncoder before this OneHotEncoder to convert the categories to integers, then you can now use the OneHotEncoder directly.\n",
      "  warnings.warn(msg, FutureWarning)\n",
      "C:\\Users\\Bhanushree\\Anaconda3\\lib\\site-packages\\sklearn\\preprocessing\\_encoders.py:392: DeprecationWarning: The 'categorical_features' keyword is deprecated in version 0.20 and will be removed in 0.22. You can use the ColumnTransformer instead.\n",
      "  \"use the ColumnTransformer instead.\", DeprecationWarning)\n"
     ]
    }
   ],
   "source": [
    "onehotencoder = OneHotEncoder(categorical_features = [1])\n",
    "X = onehotencoder.fit_transform(X).toarray()"
   ]
  },
  {
   "cell_type": "code",
   "execution_count": 9,
   "metadata": {},
   "outputs": [],
   "source": [
    "#Remove dummie variable\n",
    "X = X[:, 1:]"
   ]
  },
  {
   "cell_type": "code",
   "execution_count": 10,
   "metadata": {},
   "outputs": [],
   "source": [
    "# Splitting the dataset into the Training set and Test set\n",
    "from sklearn.model_selection import train_test_split\n",
    "X_train, X_test, y_train, y_test = train_test_split(X, y, test_size = 0.2, random_state = 0)"
   ]
  },
  {
   "cell_type": "code",
   "execution_count": 11,
   "metadata": {},
   "outputs": [],
   "source": [
    "# Feature Scaling\n",
    "from sklearn.preprocessing import StandardScaler\n",
    "sc = StandardScaler()\n",
    "X_train = sc.fit_transform(X_train)\n",
    "X_test = sc.transform(X_test)"
   ]
  },
  {
   "cell_type": "code",
   "execution_count": 12,
   "metadata": {},
   "outputs": [
    {
     "name": "stderr",
     "output_type": "stream",
     "text": [
      "Using TensorFlow backend.\n"
     ]
    }
   ],
   "source": [
    "# Importing Keras\n",
    "import keras\n",
    "from keras.models import Sequential\n",
    "from keras.layers import Dense"
   ]
  },
  {
   "cell_type": "code",
   "execution_count": 13,
   "metadata": {},
   "outputs": [],
   "source": [
    "classifier = Sequential()"
   ]
  },
  {
   "cell_type": "code",
   "execution_count": 14,
   "metadata": {},
   "outputs": [
    {
     "name": "stderr",
     "output_type": "stream",
     "text": [
      "C:\\Users\\Bhanushree\\Anaconda3\\lib\\site-packages\\ipykernel_launcher.py:5: UserWarning: Update your `Dense` call to the Keras 2 API: `Dense(activation=\"relu\", input_dim=11, units=6, kernel_initializer=\"uniform\")`\n",
      "  \"\"\"\n"
     ]
    },
    {
     "name": "stdout",
     "output_type": "stream",
     "text": [
      "WARNING:tensorflow:From C:\\Users\\Bhanushree\\Anaconda3\\lib\\site-packages\\tensorflow\\python\\framework\\op_def_library.py:263: colocate_with (from tensorflow.python.framework.ops) is deprecated and will be removed in a future version.\n",
      "Instructions for updating:\n",
      "Colocations handled automatically by placer.\n"
     ]
    }
   ],
   "source": [
    "# Add input layer and hidden layer no.1\n",
    "# 6 output nodes, Relu activation function and 11 input nodes\n",
    "# Output nodes is determined by the number of input nodes+1/2 (6)\n",
    "# the uniform method makes sure the weights are given randomly with small numbers close to 0\n",
    "classifier.add(Dense(output_dim = 6, init = 'uniform', activation = 'relu', input_dim = 11))\n"
   ]
  },
  {
   "cell_type": "code",
   "execution_count": 15,
   "metadata": {},
   "outputs": [
    {
     "name": "stderr",
     "output_type": "stream",
     "text": [
      "C:\\Users\\Bhanushree\\Anaconda3\\lib\\site-packages\\ipykernel_launcher.py:2: UserWarning: Update your `Dense` call to the Keras 2 API: `Dense(activation=\"relu\", units=6, kernel_initializer=\"uniform\")`\n",
      "  \n"
     ]
    }
   ],
   "source": [
    "# Add the second hidden layer to achieve a deep neural network\n",
    "classifier.add(Dense(output_dim = 6, init = 'uniform', activation = 'relu'))\n"
   ]
  },
  {
   "cell_type": "code",
   "execution_count": 16,
   "metadata": {},
   "outputs": [
    {
     "name": "stderr",
     "output_type": "stream",
     "text": [
      "C:\\Users\\Bhanushree\\Anaconda3\\lib\\site-packages\\ipykernel_launcher.py:2: UserWarning: Update your `Dense` call to the Keras 2 API: `Dense(activation=\"sigmoid\", units=1, kernel_initializer=\"uniform\")`\n",
      "  \n"
     ]
    }
   ],
   "source": [
    "# Add the Output layer\n",
    "classifier.add(Dense(output_dim = 1, init = 'uniform', activation = 'sigmoid'))"
   ]
  },
  {
   "cell_type": "code",
   "execution_count": 17,
   "metadata": {},
   "outputs": [],
   "source": [
    "#Compiling the Neural Network\n",
    "# binary_crossentropy loss function used when a binary output is expected\n",
    "classifier.compile(optimizer = 'adam', loss = 'binary_crossentropy', metrics = ['accuracy'])"
   ]
  },
  {
   "cell_type": "code",
   "execution_count": 18,
   "metadata": {},
   "outputs": [
    {
     "name": "stderr",
     "output_type": "stream",
     "text": [
      "C:\\Users\\Bhanushree\\Anaconda3\\lib\\site-packages\\ipykernel_launcher.py:1: UserWarning: The `nb_epoch` argument in `fit` has been renamed `epochs`.\n",
      "  \"\"\"Entry point for launching an IPython kernel.\n"
     ]
    },
    {
     "name": "stdout",
     "output_type": "stream",
     "text": [
      "WARNING:tensorflow:From C:\\Users\\Bhanushree\\Anaconda3\\lib\\site-packages\\tensorflow\\python\\ops\\math_ops.py:3066: to_int32 (from tensorflow.python.ops.math_ops) is deprecated and will be removed in a future version.\n",
      "Instructions for updating:\n",
      "Use tf.cast instead.\n",
      "Epoch 1/100\n",
      "8000/8000 [==============================] - 8s 947us/step - loss: 0.4806 - acc: 0.7960\n",
      "Epoch 2/100\n",
      "8000/8000 [==============================] - 4s 466us/step - loss: 0.4259 - acc: 0.7960\n",
      "Epoch 3/100\n",
      "8000/8000 [==============================] - 4s 444us/step - loss: 0.4201 - acc: 0.8077\n",
      "Epoch 4/100\n",
      "8000/8000 [==============================] - 2s 260us/step - loss: 0.4171 - acc: 0.8250\n",
      "Epoch 5/100\n",
      "8000/8000 [==============================] - 1s 129us/step - loss: 0.4153 - acc: 0.8279\n",
      "Epoch 6/100\n",
      "8000/8000 [==============================] - 1s 134us/step - loss: 0.4131 - acc: 0.8316\n",
      "Epoch 7/100\n",
      "8000/8000 [==============================] - 1s 147us/step - loss: 0.4118 - acc: 0.8321\n",
      "Epoch 8/100\n",
      "8000/8000 [==============================] - 1s 114us/step - loss: 0.4109 - acc: 0.8335\n",
      "Epoch 9/100\n",
      "8000/8000 [==============================] - 1s 104us/step - loss: 0.4100 - acc: 0.8325\n",
      "Epoch 10/100\n",
      "8000/8000 [==============================] - 1s 111us/step - loss: 0.4092 - acc: 0.8329\n",
      "Epoch 11/100\n",
      "8000/8000 [==============================] - 1s 107us/step - loss: 0.4086 - acc: 0.8339\n",
      "Epoch 12/100\n",
      "8000/8000 [==============================] - 1s 106us/step - loss: 0.4081 - acc: 0.8360\n",
      "Epoch 13/100\n",
      "8000/8000 [==============================] - 1s 136us/step - loss: 0.4071 - acc: 0.8346\n",
      "Epoch 14/100\n",
      "8000/8000 [==============================] - 3s 426us/step - loss: 0.4069 - acc: 0.8347\n",
      "Epoch 15/100\n",
      "8000/8000 [==============================] - 3s 347us/step - loss: 0.4066 - acc: 0.8364\n",
      "Epoch 16/100\n",
      "8000/8000 [==============================] - 2s 211us/step - loss: 0.4054 - acc: 0.8362\n",
      "Epoch 17/100\n",
      "8000/8000 [==============================] - 1s 118us/step - loss: 0.4056 - acc: 0.8329\n",
      "Epoch 18/100\n",
      "8000/8000 [==============================] - 1s 115us/step - loss: 0.4052 - acc: 0.8355\n",
      "Epoch 19/100\n",
      "8000/8000 [==============================] - 1s 105us/step - loss: 0.4046 - acc: 0.8346\n",
      "Epoch 20/100\n",
      "8000/8000 [==============================] - 1s 106us/step - loss: 0.4047 - acc: 0.8370\n",
      "Epoch 21/100\n",
      "8000/8000 [==============================] - 1s 121us/step - loss: 0.4038 - acc: 0.8346\n",
      "Epoch 22/100\n",
      "8000/8000 [==============================] - 1s 137us/step - loss: 0.4036 - acc: 0.8356\n",
      "Epoch 23/100\n",
      "8000/8000 [==============================] - 1s 117us/step - loss: 0.4035 - acc: 0.8355\n",
      "Epoch 24/100\n",
      "8000/8000 [==============================] - 1s 120us/step - loss: 0.4035 - acc: 0.8349\n",
      "Epoch 25/100\n",
      "8000/8000 [==============================] - 1s 126us/step - loss: 0.4035 - acc: 0.8346\n",
      "Epoch 26/100\n",
      "8000/8000 [==============================] - 1s 110us/step - loss: 0.4029 - acc: 0.8359\n",
      "Epoch 27/100\n",
      "8000/8000 [==============================] - 1s 106us/step - loss: 0.4029 - acc: 0.8345\n",
      "Epoch 28/100\n",
      "8000/8000 [==============================] - 1s 107us/step - loss: 0.4028 - acc: 0.8342\n",
      "Epoch 29/100\n",
      "8000/8000 [==============================] - 1s 109us/step - loss: 0.4019 - acc: 0.8337\n",
      "Epoch 30/100\n",
      "8000/8000 [==============================] - 1s 108us/step - loss: 0.4017 - acc: 0.8354\n",
      "Epoch 31/100\n",
      "8000/8000 [==============================] - 1s 119us/step - loss: 0.4021 - acc: 0.8351\n",
      "Epoch 32/100\n",
      "8000/8000 [==============================] - 1s 123us/step - loss: 0.4020 - acc: 0.8344\n",
      "Epoch 33/100\n",
      "8000/8000 [==============================] - 1s 131us/step - loss: 0.4018 - acc: 0.8352\n",
      "Epoch 34/100\n",
      "8000/8000 [==============================] - 1s 126us/step - loss: 0.4016 - acc: 0.8349\n",
      "Epoch 35/100\n",
      "8000/8000 [==============================] - 1s 133us/step - loss: 0.4015 - acc: 0.8340\n",
      "Epoch 36/100\n",
      "8000/8000 [==============================] - 1s 131us/step - loss: 0.4021 - acc: 0.8337\n",
      "Epoch 37/100\n",
      "8000/8000 [==============================] - 1s 138us/step - loss: 0.4014 - acc: 0.8361\n",
      "Epoch 38/100\n",
      "8000/8000 [==============================] - 1s 134us/step - loss: 0.4011 - acc: 0.8347\n",
      "Epoch 39/100\n",
      "8000/8000 [==============================] - 1s 132us/step - loss: 0.4008 - acc: 0.8360\n",
      "Epoch 40/100\n",
      "8000/8000 [==============================] - 1s 111us/step - loss: 0.4010 - acc: 0.8362\n",
      "Epoch 41/100\n",
      "8000/8000 [==============================] - 1s 105us/step - loss: 0.4013 - acc: 0.8345\n",
      "Epoch 42/100\n",
      "8000/8000 [==============================] - 1s 104us/step - loss: 0.4010 - acc: 0.8334\n",
      "Epoch 43/100\n",
      "8000/8000 [==============================] - 1s 105us/step - loss: 0.4002 - acc: 0.8331\n",
      "Epoch 44/100\n",
      "8000/8000 [==============================] - 1s 106us/step - loss: 0.4012 - acc: 0.8340\n",
      "Epoch 45/100\n",
      "8000/8000 [==============================] - 1s 105us/step - loss: 0.4012 - acc: 0.8336\n",
      "Epoch 46/100\n",
      "8000/8000 [==============================] - 1s 109us/step - loss: 0.4012 - acc: 0.8351\n",
      "Epoch 47/100\n",
      "8000/8000 [==============================] - 1s 112us/step - loss: 0.4011 - acc: 0.8341\n",
      "Epoch 48/100\n",
      "8000/8000 [==============================] - 1s 132us/step - loss: 0.4011 - acc: 0.8351\n",
      "Epoch 49/100\n",
      "8000/8000 [==============================] - 1s 123us/step - loss: 0.4007 - acc: 0.8345\n",
      "Epoch 50/100\n",
      "8000/8000 [==============================] - 1s 111us/step - loss: 0.4006 - acc: 0.8346\n",
      "Epoch 51/100\n",
      "8000/8000 [==============================] - 1s 108us/step - loss: 0.4005 - acc: 0.8334\n",
      "Epoch 52/100\n",
      "8000/8000 [==============================] - 1s 109us/step - loss: 0.4008 - acc: 0.8360\n",
      "Epoch 53/100\n",
      "8000/8000 [==============================] - 1s 106us/step - loss: 0.4009 - acc: 0.8345\n",
      "Epoch 54/100\n",
      "8000/8000 [==============================] - 1s 122us/step - loss: 0.4003 - acc: 0.8370\n",
      "Epoch 55/100\n",
      "8000/8000 [==============================] - 1s 115us/step - loss: 0.4006 - acc: 0.8360\n",
      "Epoch 56/100\n",
      "8000/8000 [==============================] - 1s 116us/step - loss: 0.4009 - acc: 0.8360\n",
      "Epoch 57/100\n",
      "8000/8000 [==============================] - 1s 129us/step - loss: 0.4002 - acc: 0.8350\n",
      "Epoch 58/100\n",
      "8000/8000 [==============================] - 1s 137us/step - loss: 0.4002 - acc: 0.8346\n",
      "Epoch 59/100\n",
      "8000/8000 [==============================] - 1s 121us/step - loss: 0.4005 - acc: 0.8346\n",
      "Epoch 60/100\n",
      "8000/8000 [==============================] - 1s 116us/step - loss: 0.4001 - acc: 0.8339\n",
      "Epoch 61/100\n",
      "8000/8000 [==============================] - 1s 115us/step - loss: 0.4005 - acc: 0.8350\n",
      "Epoch 62/100\n",
      "8000/8000 [==============================] - 1s 114us/step - loss: 0.4001 - acc: 0.8339\n",
      "Epoch 63/100\n",
      "8000/8000 [==============================] - 1s 117us/step - loss: 0.4002 - acc: 0.8344\n",
      "Epoch 64/100\n",
      "8000/8000 [==============================] - 1s 129us/step - loss: 0.3999 - acc: 0.8352\n",
      "Epoch 65/100\n",
      "8000/8000 [==============================] - 1s 137us/step - loss: 0.4004 - acc: 0.8345\n",
      "Epoch 66/100\n",
      "8000/8000 [==============================] - 1s 127us/step - loss: 0.4003 - acc: 0.8350\n",
      "Epoch 67/100\n",
      "8000/8000 [==============================] - 1s 116us/step - loss: 0.4002 - acc: 0.8346\n",
      "Epoch 68/100\n",
      "8000/8000 [==============================] - 1s 123us/step - loss: 0.4003 - acc: 0.8344\n",
      "Epoch 69/100\n",
      "8000/8000 [==============================] - 1s 132us/step - loss: 0.4004 - acc: 0.8341\n",
      "Epoch 70/100\n",
      "8000/8000 [==============================] - 1s 127us/step - loss: 0.4003 - acc: 0.8351\n",
      "Epoch 71/100\n",
      "8000/8000 [==============================] - 1s 124us/step - loss: 0.3999 - acc: 0.8355\n",
      "Epoch 72/100\n",
      "8000/8000 [==============================] - 1s 119us/step - loss: 0.3998 - acc: 0.8359\n",
      "Epoch 73/100\n",
      "8000/8000 [==============================] - 1s 122us/step - loss: 0.4000 - acc: 0.8357\n",
      "Epoch 74/100\n",
      "8000/8000 [==============================] - 1s 127us/step - loss: 0.3996 - acc: 0.8350\n",
      "Epoch 75/100\n",
      "8000/8000 [==============================] - 1s 118us/step - loss: 0.3999 - acc: 0.8367\n",
      "Epoch 76/100\n",
      "8000/8000 [==============================] - 1s 111us/step - loss: 0.3999 - acc: 0.8357\n",
      "Epoch 77/100\n",
      "8000/8000 [==============================] - 1s 141us/step - loss: 0.3999 - acc: 0.8341\n",
      "Epoch 78/100\n",
      "8000/8000 [==============================] - 1s 117us/step - loss: 0.4000 - acc: 0.8354\n",
      "Epoch 79/100\n"
     ]
    },
    {
     "name": "stdout",
     "output_type": "stream",
     "text": [
      "8000/8000 [==============================] - 1s 109us/step - loss: 0.4001 - acc: 0.8346\n",
      "Epoch 80/100\n",
      "8000/8000 [==============================] - 1s 132us/step - loss: 0.4000 - acc: 0.8336\n",
      "Epoch 81/100\n",
      "8000/8000 [==============================] - 1s 127us/step - loss: 0.4000 - acc: 0.8365\n",
      "Epoch 82/100\n",
      "8000/8000 [==============================] - 1s 118us/step - loss: 0.3999 - acc: 0.8357\n",
      "Epoch 83/100\n",
      "8000/8000 [==============================] - 1s 116us/step - loss: 0.3998 - acc: 0.8345\n",
      "Epoch 84/100\n",
      "8000/8000 [==============================] - 1s 113us/step - loss: 0.3991 - acc: 0.8357\n",
      "Epoch 85/100\n",
      "8000/8000 [==============================] - 1s 125us/step - loss: 0.4000 - acc: 0.8365\n",
      "Epoch 86/100\n",
      "8000/8000 [==============================] - 1s 108us/step - loss: 0.3999 - acc: 0.8352\n",
      "Epoch 87/100\n",
      "8000/8000 [==============================] - 1s 123us/step - loss: 0.3998 - acc: 0.8346\n",
      "Epoch 88/100\n",
      "8000/8000 [==============================] - 1s 116us/step - loss: 0.3999 - acc: 0.8347\n",
      "Epoch 89/100\n",
      "8000/8000 [==============================] - 1s 110us/step - loss: 0.4001 - acc: 0.8342\n",
      "Epoch 90/100\n",
      "8000/8000 [==============================] - 1s 113us/step - loss: 0.3998 - acc: 0.8350\n",
      "Epoch 91/100\n",
      "8000/8000 [==============================] - 1s 110us/step - loss: 0.3996 - acc: 0.8341\n",
      "Epoch 92/100\n",
      "8000/8000 [==============================] - 1s 112us/step - loss: 0.3998 - acc: 0.8356\n",
      "Epoch 93/100\n",
      "8000/8000 [==============================] - 1s 109us/step - loss: 0.3998 - acc: 0.8345\n",
      "Epoch 94/100\n",
      "8000/8000 [==============================] - 1s 123us/step - loss: 0.4002 - acc: 0.8352\n",
      "Epoch 95/100\n",
      "8000/8000 [==============================] - 1s 114us/step - loss: 0.3998 - acc: 0.8354\n",
      "Epoch 96/100\n",
      "8000/8000 [==============================] - 1s 112us/step - loss: 0.4002 - acc: 0.8347\n",
      "Epoch 97/100\n",
      "8000/8000 [==============================] - 1s 132us/step - loss: 0.3997 - acc: 0.8356\n",
      "Epoch 98/100\n",
      "8000/8000 [==============================] - 1s 122us/step - loss: 0.3996 - acc: 0.8350\n",
      "Epoch 99/100\n",
      "8000/8000 [==============================] - 1s 119us/step - loss: 0.3996 - acc: 0.8365\n",
      "Epoch 100/100\n",
      "8000/8000 [==============================] - 1s 118us/step - loss: 0.3995 - acc: 0.8344\n"
     ]
    },
    {
     "data": {
      "text/plain": [
       "<keras.callbacks.History at 0xf6b30dc358>"
      ]
     },
     "execution_count": 18,
     "metadata": {},
     "output_type": "execute_result"
    }
   ],
   "source": [
    "classifier.fit(X_train, y_train, batch_size = 10, nb_epoch = 100)"
   ]
  },
  {
   "cell_type": "code",
   "execution_count": 19,
   "metadata": {},
   "outputs": [],
   "source": [
    "# Fitting classifier to the Training set\n",
    "# Create your classifier here"
   ]
  },
  {
   "cell_type": "code",
   "execution_count": 20,
   "metadata": {},
   "outputs": [],
   "source": [
    "# Predicting the Test set results\n",
    "y_pred = classifier.predict(X_test)"
   ]
  },
  {
   "cell_type": "code",
   "execution_count": 21,
   "metadata": {},
   "outputs": [],
   "source": [
    "# Create a treshold to predict a true or false for leaving the\n",
    "# the bank.\n",
    "y_pred = (y_pred > 0.5)"
   ]
  },
  {
   "cell_type": "code",
   "execution_count": 22,
   "metadata": {},
   "outputs": [],
   "source": [
    "# Making the Confusion Matrix\n",
    "from sklearn.metrics import confusion_matrix\n",
    "cm = confusion_matrix(y_test, y_pred)"
   ]
  },
  {
   "cell_type": "code",
   "execution_count": 23,
   "metadata": {},
   "outputs": [
    {
     "data": {
      "text/plain": [
       "array([[1549,   46],\n",
       "       [ 272,  133]], dtype=int64)"
      ]
     },
     "execution_count": 23,
     "metadata": {},
     "output_type": "execute_result"
    }
   ],
   "source": [
    "cm"
   ]
  },
  {
   "cell_type": "code",
   "execution_count": null,
   "metadata": {},
   "outputs": [],
   "source": []
  }
 ],
 "metadata": {
  "kernelspec": {
   "display_name": "Python 3",
   "language": "python",
   "name": "python3"
  },
  "language_info": {
   "codemirror_mode": {
    "name": "ipython",
    "version": 3
   },
   "file_extension": ".py",
   "mimetype": "text/x-python",
   "name": "python",
   "nbconvert_exporter": "python",
   "pygments_lexer": "ipython3",
   "version": "3.7.3"
  }
 },
 "nbformat": 4,
 "nbformat_minor": 2
}
