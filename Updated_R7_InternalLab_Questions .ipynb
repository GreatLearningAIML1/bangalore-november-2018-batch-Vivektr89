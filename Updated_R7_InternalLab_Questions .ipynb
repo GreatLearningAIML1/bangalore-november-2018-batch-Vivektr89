{
 "cells": [
  {
   "cell_type": "markdown",
   "metadata": {
    "colab_type": "text",
    "id": "4WH1Pr4KQlCh"
   },
   "source": [
    "### Build a DNN using Keras with `RELU` and `ADAM`"
   ]
  },
  {
   "cell_type": "markdown",
   "metadata": {
    "colab_type": "text",
    "id": "TbvI8LqlQlCl",
    "slideshow": {
     "slide_type": "slide"
    }
   },
   "source": [
    "#### Load tensorflow"
   ]
  },
  {
   "cell_type": "code",
   "execution_count": 1,
   "metadata": {
    "colab": {},
    "colab_type": "code",
    "id": "SPW-a-qYQlCp"
   },
   "outputs": [],
   "source": [
    "import tensorflow as tf\n",
    "tf.reset_default_graph()\n",
    "tf.set_random_seed(42)"
   ]
  },
  {
   "cell_type": "markdown",
   "metadata": {
    "colab_type": "text",
    "id": "74cQBsi5QlCw",
    "slideshow": {
     "slide_type": "slide"
    }
   },
   "source": [
    "#### Collect Fashion mnist data from tf.keras.datasets "
   ]
  },
  {
   "cell_type": "code",
   "execution_count": 2,
   "metadata": {
    "colab": {},
    "colab_type": "code",
    "id": "wVWy0oDTr2Kj"
   },
   "outputs": [
    {
     "name": "stderr",
     "output_type": "stream",
     "text": [
      "Using TensorFlow backend.\n"
     ]
    }
   ],
   "source": [
    "from keras.datasets import fashion_mnist\n",
    "import keras\n",
    "from keras.utils import np_utils"
   ]
  },
  {
   "cell_type": "markdown",
   "metadata": {
    "colab_type": "text",
    "id": "no7aWYZyQlC1",
    "slideshow": {
     "slide_type": "slide"
    }
   },
   "source": [
    "#### Change train and test labels into one-hot vectors"
   ]
  },
  {
   "cell_type": "code",
   "execution_count": 3,
   "metadata": {
    "colab": {},
    "colab_type": "code",
    "id": "UX6otc4wQlC2"
   },
   "outputs": [],
   "source": [
    "(trainX, trainY),(testX, testY) = tf.keras.datasets.fashion_mnist.load_data()"
   ]
  },
  {
   "cell_type": "code",
   "execution_count": 4,
   "metadata": {},
   "outputs": [],
   "source": [
    "# convert class vectors to binary class matrices for keras\n",
    "trainY = tf.keras.utils.to_categorical(trainY, num_classes=10)\n",
    "testY = tf.keras.utils.to_categorical(testY, num_classes=10)"
   ]
  },
  {
   "cell_type": "markdown",
   "metadata": {
    "colab_type": "text",
    "id": "QjNrRTdoQlC5",
    "slideshow": {
     "slide_type": "slide"
    }
   },
   "source": [
    "#### Build the Graph"
   ]
  },
  {
   "cell_type": "markdown",
   "metadata": {
    "colab_type": "text",
    "id": "CDJ9DHVNQlC7"
   },
   "source": [
    "#### Initialize model, reshape & normalize data"
   ]
  },
  {
   "cell_type": "code",
   "execution_count": 5,
   "metadata": {
    "colab": {
     "base_uri": "https://localhost:8080/",
     "height": 88
    },
    "colab_type": "code",
    "id": "pCDQs_g1QlC8",
    "outputId": "e854b4d2-903a-4515-c21b-bd6a6e4fe2f8"
   },
   "outputs": [
    {
     "name": "stdout",
     "output_type": "stream",
     "text": [
      "WARNING:tensorflow:From C:\\Users\\Bhanushree\\Anaconda3\\lib\\site-packages\\tensorflow\\python\\ops\\resource_variable_ops.py:435: colocate_with (from tensorflow.python.framework.ops) is deprecated and will be removed in a future version.\n",
      "Instructions for updating:\n",
      "Colocations handled automatically by placer.\n"
     ]
    }
   ],
   "source": [
    "#Initialize Sequential model\n",
    "model = tf.keras.models.Sequential()\n",
    "\n",
    "#Reshape data from 2D to 1D -> 28x28 to 784\n",
    "model.add(tf.keras.layers.Reshape((784,),input_shape=(28,28,)))\n",
    "\n",
    "#Normalize the data\n",
    "model.add(tf.keras.layers.BatchNormalization())"
   ]
  },
  {
   "cell_type": "markdown",
   "metadata": {
    "colab_type": "text",
    "id": "kBGwTTilQlDD",
    "slideshow": {
     "slide_type": "slide"
    }
   },
   "source": [
    "#### Add two fully connected layers with 200 and 100 neurons respectively with `relu` activations. Add a dropout layer with `p=0.25`"
   ]
  },
  {
   "cell_type": "code",
   "execution_count": 6,
   "metadata": {
    "colab": {
     "base_uri": "https://localhost:8080/",
     "height": 88
    },
    "colab_type": "code",
    "id": "IXbfpfOzQlDF",
    "outputId": "f46a2e3a-2634-4e9e-88bd-57bb8de1ff0c"
   },
   "outputs": [],
   "source": [
    "#Add 1st hidden layer\n",
    "model.add(tf.keras.layers.Dense(200, activation='relu'))"
   ]
  },
  {
   "cell_type": "code",
   "execution_count": 7,
   "metadata": {},
   "outputs": [],
   "source": [
    "#Add 2nd hidden layer\n",
    "model.add(tf.keras.layers.Dense(100, activation='relu'))"
   ]
  },
  {
   "cell_type": "code",
   "execution_count": 8,
   "metadata": {},
   "outputs": [
    {
     "name": "stdout",
     "output_type": "stream",
     "text": [
      "WARNING:tensorflow:From C:\\Users\\Bhanushree\\Anaconda3\\lib\\site-packages\\tensorflow\\python\\keras\\layers\\core.py:143: calling dropout (from tensorflow.python.ops.nn_ops) with keep_prob is deprecated and will be removed in a future version.\n",
      "Instructions for updating:\n",
      "Please use `rate` instead of `keep_prob`. Rate should be set to `rate = 1 - keep_prob`.\n"
     ]
    }
   ],
   "source": [
    "#Dropout layer\n",
    "model.add(tf.keras.layers.Dropout(0.25))"
   ]
  },
  {
   "cell_type": "code",
   "execution_count": 9,
   "metadata": {},
   "outputs": [],
   "source": [
    "#Output layer\n",
    "model.add(tf.keras.layers.Dense(10, activation='softmax', name='Output'))"
   ]
  },
  {
   "cell_type": "code",
   "execution_count": 10,
   "metadata": {},
   "outputs": [],
   "source": [
    "model.compile(optimizer='adam', loss='categorical_crossentropy', metrics=['accuracy'])"
   ]
  },
  {
   "cell_type": "code",
   "execution_count": 11,
   "metadata": {},
   "outputs": [
    {
     "name": "stdout",
     "output_type": "stream",
     "text": [
      "_________________________________________________________________\n",
      "Layer (type)                 Output Shape              Param #   \n",
      "=================================================================\n",
      "reshape (Reshape)            (None, 784)               0         \n",
      "_________________________________________________________________\n",
      "batch_normalization_v1 (Batc (None, 784)               3136      \n",
      "_________________________________________________________________\n",
      "dense (Dense)                (None, 200)               157000    \n",
      "_________________________________________________________________\n",
      "dense_1 (Dense)              (None, 100)               20100     \n",
      "_________________________________________________________________\n",
      "dropout (Dropout)            (None, 100)               0         \n",
      "_________________________________________________________________\n",
      "Output (Dense)               (None, 10)                1010      \n",
      "=================================================================\n",
      "Total params: 181,246\n",
      "Trainable params: 179,678\n",
      "Non-trainable params: 1,568\n",
      "_________________________________________________________________\n"
     ]
    }
   ],
   "source": [
    "model.summary()"
   ]
  },
  {
   "cell_type": "code",
   "execution_count": 12,
   "metadata": {},
   "outputs": [
    {
     "name": "stdout",
     "output_type": "stream",
     "text": [
      "Train on 60000 samples, validate on 10000 samples\n",
      "WARNING:tensorflow:From C:\\Users\\Bhanushree\\Anaconda3\\lib\\site-packages\\tensorflow\\python\\ops\\math_ops.py:3066: to_int32 (from tensorflow.python.ops.math_ops) is deprecated and will be removed in a future version.\n",
      "Instructions for updating:\n",
      "Use tf.cast instead.\n",
      "Epoch 1/30\n",
      "60000/60000 [==============================] - 13s 224us/sample - loss: 0.5060 - acc: 0.8190 - val_loss: 0.3997 - val_acc: 0.8512\n",
      "Epoch 2/30\n",
      "60000/60000 [==============================] - 8s 138us/sample - loss: 0.3954 - acc: 0.8564 - val_loss: 0.3875 - val_acc: 0.8600\n",
      "Epoch 3/30\n",
      "60000/60000 [==============================] - 9s 143us/sample - loss: 0.3588 - acc: 0.8688 - val_loss: 0.3717 - val_acc: 0.8705\n",
      "Epoch 4/30\n",
      "60000/60000 [==============================] - 8s 140us/sample - loss: 0.3372 - acc: 0.8772 - val_loss: 0.3692 - val_acc: 0.8663\n",
      "Epoch 5/30\n",
      "60000/60000 [==============================] - 9s 143us/sample - loss: 0.3151 - acc: 0.8821 - val_loss: 0.3501 - val_acc: 0.8710\n",
      "Epoch 6/30\n",
      "60000/60000 [==============================] - 8s 140us/sample - loss: 0.2998 - acc: 0.8873 - val_loss: 0.3332 - val_acc: 0.8788\n",
      "Epoch 7/30\n",
      "60000/60000 [==============================] - 9s 145us/sample - loss: 0.2886 - acc: 0.8932 - val_loss: 0.3431 - val_acc: 0.8802\n",
      "Epoch 8/30\n",
      "60000/60000 [==============================] - 9s 142us/sample - loss: 0.2755 - acc: 0.8966 - val_loss: 0.3584 - val_acc: 0.8809\n",
      "Epoch 9/30\n",
      "60000/60000 [==============================] - 9s 143us/sample - loss: 0.2636 - acc: 0.9016 - val_loss: 0.3505 - val_acc: 0.8817\n",
      "Epoch 10/30\n",
      "60000/60000 [==============================] - 8s 141us/sample - loss: 0.2543 - acc: 0.9035 - val_loss: 0.3398 - val_acc: 0.8846\n",
      "Epoch 11/30\n",
      "60000/60000 [==============================] - 9s 145us/sample - loss: 0.2496 - acc: 0.9044 - val_loss: 0.3393 - val_acc: 0.8876\n",
      "Epoch 12/30\n",
      "60000/60000 [==============================] - 8s 141us/sample - loss: 0.2404 - acc: 0.9088 - val_loss: 0.3338 - val_acc: 0.8878\n",
      "Epoch 13/30\n",
      "60000/60000 [==============================] - 9s 147us/sample - loss: 0.2305 - acc: 0.9110 - val_loss: 0.3586 - val_acc: 0.8834\n",
      "Epoch 14/30\n",
      "60000/60000 [==============================] - 9s 143us/sample - loss: 0.2282 - acc: 0.9148 - val_loss: 0.3531 - val_acc: 0.8869\n",
      "Epoch 15/30\n",
      "60000/60000 [==============================] - 9s 146us/sample - loss: 0.2197 - acc: 0.9172 - val_loss: 0.3515 - val_acc: 0.8882\n",
      "Epoch 16/30\n",
      "60000/60000 [==============================] - 9s 147us/sample - loss: 0.2148 - acc: 0.9189 - val_loss: 0.3545 - val_acc: 0.8908\n",
      "Epoch 17/30\n",
      "60000/60000 [==============================] - 9s 144us/sample - loss: 0.2087 - acc: 0.9200 - val_loss: 0.3764 - val_acc: 0.8872\n",
      "Epoch 18/30\n",
      "60000/60000 [==============================] - 9s 148us/sample - loss: 0.2075 - acc: 0.9218 - val_loss: 0.3662 - val_acc: 0.8922\n",
      "Epoch 19/30\n",
      "60000/60000 [==============================] - 9s 144us/sample - loss: 0.1993 - acc: 0.9235 - val_loss: 0.3690 - val_acc: 0.8864\n",
      "Epoch 20/30\n",
      "60000/60000 [==============================] - 9s 147us/sample - loss: 0.1944 - acc: 0.9257 - val_loss: 0.3711 - val_acc: 0.8848\n",
      "Epoch 21/30\n",
      "60000/60000 [==============================] - 9s 145us/sample - loss: 0.1901 - acc: 0.9288 - val_loss: 0.3723 - val_acc: 0.8920\n",
      "Epoch 22/30\n",
      "60000/60000 [==============================] - 9s 148us/sample - loss: 0.1864 - acc: 0.9293 - val_loss: 0.3847 - val_acc: 0.8905\n",
      "Epoch 23/30\n",
      "60000/60000 [==============================] - 9s 144us/sample - loss: 0.1849 - acc: 0.9289 - val_loss: 0.3872 - val_acc: 0.8893\n",
      "Epoch 24/30\n",
      "60000/60000 [==============================] - 9s 148us/sample - loss: 0.1792 - acc: 0.9315 - val_loss: 0.3850 - val_acc: 0.8898\n",
      "Epoch 25/30\n",
      "60000/60000 [==============================] - 9s 149us/sample - loss: 0.1794 - acc: 0.9324 - val_loss: 0.4080 - val_acc: 0.8881\n",
      "Epoch 26/30\n",
      "60000/60000 [==============================] - 9s 148us/sample - loss: 0.1734 - acc: 0.9340 - val_loss: 0.4072 - val_acc: 0.8904\n",
      "Epoch 27/30\n",
      "60000/60000 [==============================] - 9s 148us/sample - loss: 0.1719 - acc: 0.9340 - val_loss: 0.4281 - val_acc: 0.8906\n",
      "Epoch 28/30\n",
      "60000/60000 [==============================] - 9s 147us/sample - loss: 0.1688 - acc: 0.9344 - val_loss: 0.4147 - val_acc: 0.8869\n",
      "Epoch 29/30\n",
      "60000/60000 [==============================] - 9s 148us/sample - loss: 0.1628 - acc: 0.9373 - val_loss: 0.4257 - val_acc: 0.8852\n",
      "Epoch 30/30\n",
      "60000/60000 [==============================] - 9s 145us/sample - loss: 0.1608 - acc: 0.9395 - val_loss: 0.4369 - val_acc: 0.8889\n"
     ]
    },
    {
     "data": {
      "text/plain": [
       "<tensorflow.python.keras.callbacks.History at 0xe328efdc18>"
      ]
     },
     "execution_count": 12,
     "metadata": {},
     "output_type": "execute_result"
    }
   ],
   "source": [
    "model.fit(trainX,trainY,          \n",
    "          validation_data=(testX,testY),\n",
    "          epochs=30,\n",
    "          batch_size=32)"
   ]
  },
  {
   "cell_type": "markdown",
   "metadata": {
    "colab_type": "text",
    "id": "5I8f5otcQlDJ"
   },
   "source": [
    "### Add the output layer with a fully connected layer with 10 neurons with `softmax` activation. Use `categorical_crossentropy` loss and `adam` optimizer and train the network. And, report the final validation."
   ]
  }
 ],
 "metadata": {
  "colab": {
   "collapsed_sections": [],
   "name": "updated_R7_ExternalLab_Questions.ipynb",
   "provenance": [],
   "version": "0.3.2"
  },
  "kernelspec": {
   "display_name": "Python 3",
   "language": "python",
   "name": "python3"
  },
  "language_info": {
   "codemirror_mode": {
    "name": "ipython",
    "version": 3
   },
   "file_extension": ".py",
   "mimetype": "text/x-python",
   "name": "python",
   "nbconvert_exporter": "python",
   "pygments_lexer": "ipython3",
   "version": "3.7.3"
  }
 },
 "nbformat": 4,
 "nbformat_minor": 1
}
