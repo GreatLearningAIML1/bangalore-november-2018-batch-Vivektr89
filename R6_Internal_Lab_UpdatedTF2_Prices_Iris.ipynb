{
 "cells": [
  {
   "cell_type": "markdown",
   "metadata": {
    "colab_type": "text",
    "id": "84Q8JfvaeZZ6"
   },
   "source": [
    "## Linear Classifier in TensorFlow \n",
    "Using Low Level API in Eager Execution mode"
   ]
  },
  {
   "cell_type": "markdown",
   "metadata": {
    "colab_type": "text",
    "id": "sb7Epo0VOB58"
   },
   "source": [
    "### Load tensorflow"
   ]
  },
  {
   "cell_type": "code",
   "execution_count": 3,
   "metadata": {
    "colab": {},
    "colab_type": "code",
    "id": "fHpCNRv1OB5-"
   },
   "outputs": [],
   "source": [
    "import tensorflow as tf"
   ]
  },
  {
   "cell_type": "code",
   "execution_count": 2,
   "metadata": {},
   "outputs": [],
   "source": [
    "#!pip install tensorflow"
   ]
  },
  {
   "cell_type": "code",
   "execution_count": 3,
   "metadata": {},
   "outputs": [],
   "source": [
    "tf.enable_eager_execution()"
   ]
  },
  {
   "cell_type": "code",
   "execution_count": 4,
   "metadata": {},
   "outputs": [
    {
     "data": {
      "text/plain": [
       "True"
      ]
     },
     "execution_count": 4,
     "metadata": {},
     "output_type": "execute_result"
    }
   ],
   "source": [
    "tf.executing_eagerly()"
   ]
  },
  {
   "cell_type": "code",
   "execution_count": 5,
   "metadata": {
    "colab": {},
    "colab_type": "code",
    "id": "Mjtb-EMcm5K0"
   },
   "outputs": [],
   "source": [
    "#Enable Eager Execution if using tensflow version < 2.0\n",
    "#From tensorflow v2.0 onwards, Eager Execution will be enabled by default\n"
   ]
  },
  {
   "cell_type": "markdown",
   "metadata": {
    "colab_type": "text",
    "id": "DxJDmJqqOB6K",
    "slideshow": {
     "slide_type": "slide"
    }
   },
   "source": [
    "### Collect Data"
   ]
  },
  {
   "cell_type": "code",
   "execution_count": 6,
   "metadata": {
    "colab": {},
    "colab_type": "code",
    "id": "FhllFLyKOB6N"
   },
   "outputs": [],
   "source": [
    "#from google.colab import drive\n",
    "#drive.mount('/gdrive')"
   ]
  },
  {
   "cell_type": "code",
   "execution_count": 7,
   "metadata": {
    "colab": {},
    "colab_type": "code",
    "id": "KiObW4V4SIOz"
   },
   "outputs": [],
   "source": [
    "import pandas as pd"
   ]
  },
  {
   "cell_type": "code",
   "execution_count": 8,
   "metadata": {
    "colab": {},
    "colab_type": "code",
    "id": "B4yQKMiJOB6R"
   },
   "outputs": [],
   "source": [
    "data = pd.read_csv('prices.csv')"
   ]
  },
  {
   "cell_type": "markdown",
   "metadata": {
    "colab_type": "text",
    "id": "fgkX6SEqOB6W"
   },
   "source": [
    "### Check all columns in the dataset"
   ]
  },
  {
   "cell_type": "code",
   "execution_count": 9,
   "metadata": {
    "colab": {},
    "colab_type": "code",
    "id": "7K8pWsNQOB6X"
   },
   "outputs": [
    {
     "name": "stdout",
     "output_type": "stream",
     "text": [
      "<class 'pandas.core.frame.DataFrame'>\n",
      "RangeIndex: 851264 entries, 0 to 851263\n",
      "Data columns (total 7 columns):\n",
      "date      851264 non-null object\n",
      "symbol    851264 non-null object\n",
      "open      851264 non-null float64\n",
      "close     851264 non-null float64\n",
      "low       851264 non-null float64\n",
      "high      851264 non-null float64\n",
      "volume    851264 non-null float64\n",
      "dtypes: float64(5), object(2)\n",
      "memory usage: 45.5+ MB\n"
     ]
    }
   ],
   "source": [
    "data.info()"
   ]
  },
  {
   "cell_type": "code",
   "execution_count": 10,
   "metadata": {},
   "outputs": [
    {
     "data": {
      "text/html": [
       "<div>\n",
       "<style scoped>\n",
       "    .dataframe tbody tr th:only-of-type {\n",
       "        vertical-align: middle;\n",
       "    }\n",
       "\n",
       "    .dataframe tbody tr th {\n",
       "        vertical-align: top;\n",
       "    }\n",
       "\n",
       "    .dataframe thead th {\n",
       "        text-align: right;\n",
       "    }\n",
       "</style>\n",
       "<table border=\"1\" class=\"dataframe\">\n",
       "  <thead>\n",
       "    <tr style=\"text-align: right;\">\n",
       "      <th></th>\n",
       "      <th>open</th>\n",
       "      <th>close</th>\n",
       "      <th>low</th>\n",
       "      <th>high</th>\n",
       "      <th>volume</th>\n",
       "    </tr>\n",
       "  </thead>\n",
       "  <tbody>\n",
       "    <tr>\n",
       "      <th>count</th>\n",
       "      <td>851264.000000</td>\n",
       "      <td>851264.000000</td>\n",
       "      <td>851264.000000</td>\n",
       "      <td>851264.000000</td>\n",
       "      <td>8.512640e+05</td>\n",
       "    </tr>\n",
       "    <tr>\n",
       "      <th>mean</th>\n",
       "      <td>70.836986</td>\n",
       "      <td>70.857109</td>\n",
       "      <td>70.118414</td>\n",
       "      <td>71.543476</td>\n",
       "      <td>5.415113e+06</td>\n",
       "    </tr>\n",
       "    <tr>\n",
       "      <th>std</th>\n",
       "      <td>83.695876</td>\n",
       "      <td>83.689686</td>\n",
       "      <td>82.877294</td>\n",
       "      <td>84.465504</td>\n",
       "      <td>1.249468e+07</td>\n",
       "    </tr>\n",
       "    <tr>\n",
       "      <th>min</th>\n",
       "      <td>0.850000</td>\n",
       "      <td>0.860000</td>\n",
       "      <td>0.830000</td>\n",
       "      <td>0.880000</td>\n",
       "      <td>0.000000e+00</td>\n",
       "    </tr>\n",
       "    <tr>\n",
       "      <th>25%</th>\n",
       "      <td>33.840000</td>\n",
       "      <td>33.849998</td>\n",
       "      <td>33.480000</td>\n",
       "      <td>34.189999</td>\n",
       "      <td>1.221500e+06</td>\n",
       "    </tr>\n",
       "    <tr>\n",
       "      <th>50%</th>\n",
       "      <td>52.770000</td>\n",
       "      <td>52.799999</td>\n",
       "      <td>52.230000</td>\n",
       "      <td>53.310001</td>\n",
       "      <td>2.476250e+06</td>\n",
       "    </tr>\n",
       "    <tr>\n",
       "      <th>75%</th>\n",
       "      <td>79.879997</td>\n",
       "      <td>79.889999</td>\n",
       "      <td>79.110001</td>\n",
       "      <td>80.610001</td>\n",
       "      <td>5.222500e+06</td>\n",
       "    </tr>\n",
       "    <tr>\n",
       "      <th>max</th>\n",
       "      <td>1584.439941</td>\n",
       "      <td>1578.130005</td>\n",
       "      <td>1549.939941</td>\n",
       "      <td>1600.930054</td>\n",
       "      <td>8.596434e+08</td>\n",
       "    </tr>\n",
       "  </tbody>\n",
       "</table>\n",
       "</div>"
      ],
      "text/plain": [
       "                open          close            low           high  \\\n",
       "count  851264.000000  851264.000000  851264.000000  851264.000000   \n",
       "mean       70.836986      70.857109      70.118414      71.543476   \n",
       "std        83.695876      83.689686      82.877294      84.465504   \n",
       "min         0.850000       0.860000       0.830000       0.880000   \n",
       "25%        33.840000      33.849998      33.480000      34.189999   \n",
       "50%        52.770000      52.799999      52.230000      53.310001   \n",
       "75%        79.879997      79.889999      79.110001      80.610001   \n",
       "max      1584.439941    1578.130005    1549.939941    1600.930054   \n",
       "\n",
       "             volume  \n",
       "count  8.512640e+05  \n",
       "mean   5.415113e+06  \n",
       "std    1.249468e+07  \n",
       "min    0.000000e+00  \n",
       "25%    1.221500e+06  \n",
       "50%    2.476250e+06  \n",
       "75%    5.222500e+06  \n",
       "max    8.596434e+08  "
      ]
     },
     "execution_count": 10,
     "metadata": {},
     "output_type": "execute_result"
    }
   ],
   "source": [
    "data.describe()"
   ]
  },
  {
   "cell_type": "markdown",
   "metadata": {
    "colab_type": "text",
    "id": "7dU6X7MpOB6c"
   },
   "source": [
    "### Drop columns `date` and  `symbol`"
   ]
  },
  {
   "cell_type": "code",
   "execution_count": 11,
   "metadata": {
    "colab": {},
    "colab_type": "code",
    "id": "lh_6spSKOB6e"
   },
   "outputs": [],
   "source": [
    "del data['date']"
   ]
  },
  {
   "cell_type": "code",
   "execution_count": 12,
   "metadata": {},
   "outputs": [],
   "source": [
    "del data['symbol']"
   ]
  },
  {
   "cell_type": "code",
   "execution_count": 13,
   "metadata": {
    "colab": {},
    "colab_type": "code",
    "id": "xlwbUgTwOB6i",
    "outputId": "56bad82a-f271-415a-e0d6-cbe1c4290743"
   },
   "outputs": [
    {
     "data": {
      "text/html": [
       "<div>\n",
       "<style scoped>\n",
       "    .dataframe tbody tr th:only-of-type {\n",
       "        vertical-align: middle;\n",
       "    }\n",
       "\n",
       "    .dataframe tbody tr th {\n",
       "        vertical-align: top;\n",
       "    }\n",
       "\n",
       "    .dataframe thead th {\n",
       "        text-align: right;\n",
       "    }\n",
       "</style>\n",
       "<table border=\"1\" class=\"dataframe\">\n",
       "  <thead>\n",
       "    <tr style=\"text-align: right;\">\n",
       "      <th></th>\n",
       "      <th>open</th>\n",
       "      <th>close</th>\n",
       "      <th>low</th>\n",
       "      <th>high</th>\n",
       "      <th>volume</th>\n",
       "    </tr>\n",
       "  </thead>\n",
       "  <tbody>\n",
       "    <tr>\n",
       "      <th>0</th>\n",
       "      <td>123.430000</td>\n",
       "      <td>125.839996</td>\n",
       "      <td>122.309998</td>\n",
       "      <td>126.250000</td>\n",
       "      <td>2163600.0</td>\n",
       "    </tr>\n",
       "    <tr>\n",
       "      <th>1</th>\n",
       "      <td>125.239998</td>\n",
       "      <td>119.980003</td>\n",
       "      <td>119.940002</td>\n",
       "      <td>125.540001</td>\n",
       "      <td>2386400.0</td>\n",
       "    </tr>\n",
       "    <tr>\n",
       "      <th>2</th>\n",
       "      <td>116.379997</td>\n",
       "      <td>114.949997</td>\n",
       "      <td>114.930000</td>\n",
       "      <td>119.739998</td>\n",
       "      <td>2489500.0</td>\n",
       "    </tr>\n",
       "    <tr>\n",
       "      <th>3</th>\n",
       "      <td>115.480003</td>\n",
       "      <td>116.620003</td>\n",
       "      <td>113.500000</td>\n",
       "      <td>117.440002</td>\n",
       "      <td>2006300.0</td>\n",
       "    </tr>\n",
       "    <tr>\n",
       "      <th>4</th>\n",
       "      <td>117.010002</td>\n",
       "      <td>114.970001</td>\n",
       "      <td>114.089996</td>\n",
       "      <td>117.330002</td>\n",
       "      <td>1408600.0</td>\n",
       "    </tr>\n",
       "  </tbody>\n",
       "</table>\n",
       "</div>"
      ],
      "text/plain": [
       "         open       close         low        high     volume\n",
       "0  123.430000  125.839996  122.309998  126.250000  2163600.0\n",
       "1  125.239998  119.980003  119.940002  125.540001  2386400.0\n",
       "2  116.379997  114.949997  114.930000  119.739998  2489500.0\n",
       "3  115.480003  116.620003  113.500000  117.440002  2006300.0\n",
       "4  117.010002  114.970001  114.089996  117.330002  1408600.0"
      ]
     },
     "execution_count": 13,
     "metadata": {},
     "output_type": "execute_result"
    }
   ],
   "source": [
    "data.head()"
   ]
  },
  {
   "cell_type": "markdown",
   "metadata": {
    "colab_type": "text",
    "id": "3DBv3WWYOB6q"
   },
   "source": [
    "### Consider only first 1000 rows in the dataset for building feature set and target set\n",
    "Target 'Volume' has very high values. Divide 'Volume' by 1000,000"
   ]
  },
  {
   "cell_type": "code",
   "execution_count": 14,
   "metadata": {},
   "outputs": [],
   "source": [
    "data1 = data.head(1000)"
   ]
  },
  {
   "cell_type": "code",
   "execution_count": 15,
   "metadata": {},
   "outputs": [],
   "source": [
    "import warnings\n",
    "warnings.filterwarnings(\"ignore\")"
   ]
  },
  {
   "cell_type": "code",
   "execution_count": 16,
   "metadata": {
    "colab": {},
    "colab_type": "code",
    "id": "Z_hG9rGBOB6s"
   },
   "outputs": [],
   "source": [
    "data1['volume'] = data['volume'].div(1000)"
   ]
  },
  {
   "cell_type": "code",
   "execution_count": 17,
   "metadata": {},
   "outputs": [
    {
     "data": {
      "text/plain": [
       "(1000, 5)"
      ]
     },
     "execution_count": 17,
     "metadata": {},
     "output_type": "execute_result"
    }
   ],
   "source": [
    "data1.shape"
   ]
  },
  {
   "cell_type": "code",
   "execution_count": 18,
   "metadata": {},
   "outputs": [
    {
     "data": {
      "text/html": [
       "<div>\n",
       "<style scoped>\n",
       "    .dataframe tbody tr th:only-of-type {\n",
       "        vertical-align: middle;\n",
       "    }\n",
       "\n",
       "    .dataframe tbody tr th {\n",
       "        vertical-align: top;\n",
       "    }\n",
       "\n",
       "    .dataframe thead th {\n",
       "        text-align: right;\n",
       "    }\n",
       "</style>\n",
       "<table border=\"1\" class=\"dataframe\">\n",
       "  <thead>\n",
       "    <tr style=\"text-align: right;\">\n",
       "      <th></th>\n",
       "      <th>open</th>\n",
       "      <th>close</th>\n",
       "      <th>low</th>\n",
       "      <th>high</th>\n",
       "      <th>volume</th>\n",
       "    </tr>\n",
       "  </thead>\n",
       "  <tbody>\n",
       "    <tr>\n",
       "      <th>0</th>\n",
       "      <td>123.430000</td>\n",
       "      <td>125.839996</td>\n",
       "      <td>122.309998</td>\n",
       "      <td>126.250000</td>\n",
       "      <td>2163.6</td>\n",
       "    </tr>\n",
       "    <tr>\n",
       "      <th>1</th>\n",
       "      <td>125.239998</td>\n",
       "      <td>119.980003</td>\n",
       "      <td>119.940002</td>\n",
       "      <td>125.540001</td>\n",
       "      <td>2386.4</td>\n",
       "    </tr>\n",
       "    <tr>\n",
       "      <th>2</th>\n",
       "      <td>116.379997</td>\n",
       "      <td>114.949997</td>\n",
       "      <td>114.930000</td>\n",
       "      <td>119.739998</td>\n",
       "      <td>2489.5</td>\n",
       "    </tr>\n",
       "    <tr>\n",
       "      <th>3</th>\n",
       "      <td>115.480003</td>\n",
       "      <td>116.620003</td>\n",
       "      <td>113.500000</td>\n",
       "      <td>117.440002</td>\n",
       "      <td>2006.3</td>\n",
       "    </tr>\n",
       "    <tr>\n",
       "      <th>4</th>\n",
       "      <td>117.010002</td>\n",
       "      <td>114.970001</td>\n",
       "      <td>114.089996</td>\n",
       "      <td>117.330002</td>\n",
       "      <td>1408.6</td>\n",
       "    </tr>\n",
       "  </tbody>\n",
       "</table>\n",
       "</div>"
      ],
      "text/plain": [
       "         open       close         low        high  volume\n",
       "0  123.430000  125.839996  122.309998  126.250000  2163.6\n",
       "1  125.239998  119.980003  119.940002  125.540001  2386.4\n",
       "2  116.379997  114.949997  114.930000  119.739998  2489.5\n",
       "3  115.480003  116.620003  113.500000  117.440002  2006.3\n",
       "4  117.010002  114.970001  114.089996  117.330002  1408.6"
      ]
     },
     "execution_count": 18,
     "metadata": {},
     "output_type": "execute_result"
    }
   ],
   "source": [
    "data1.head()"
   ]
  },
  {
   "cell_type": "markdown",
   "metadata": {
    "colab_type": "text",
    "id": "M3UaApqYOB6x"
   },
   "source": [
    "### Divide the data into train and test sets"
   ]
  },
  {
   "cell_type": "code",
   "execution_count": 19,
   "metadata": {
    "colab": {},
    "colab_type": "code",
    "id": "4LE4U8lTdQJq"
   },
   "outputs": [],
   "source": [
    "from sklearn.model_selection import train_test_split\n",
    "X = data1.iloc[:,0:4]\n",
    "Y = data1.iloc[:,4]\n",
    "# split into 70% for train and 30% for test\n",
    "X_train, X_test, y_train, y_test = train_test_split(X, Y, test_size=0.3, random_state=1)"
   ]
  },
  {
   "cell_type": "code",
   "execution_count": 20,
   "metadata": {},
   "outputs": [
    {
     "data": {
      "text/plain": [
       "(300,)"
      ]
     },
     "execution_count": 20,
     "metadata": {},
     "output_type": "execute_result"
    }
   ],
   "source": [
    "y_test.shape"
   ]
  },
  {
   "cell_type": "code",
   "execution_count": 21,
   "metadata": {},
   "outputs": [
    {
     "data": {
      "text/plain": [
       "(1000,)"
      ]
     },
     "execution_count": 21,
     "metadata": {},
     "output_type": "execute_result"
    }
   ],
   "source": [
    "Y.shape"
   ]
  },
  {
   "cell_type": "markdown",
   "metadata": {
    "colab_type": "text",
    "id": "oYK-aUuLbrz2"
   },
   "source": [
    "#### Convert Training and Test Data to numpy float32 arrays\n"
   ]
  },
  {
   "cell_type": "markdown",
   "metadata": {
    "colab_type": "text",
    "id": "im1ZegbDdKgv"
   },
   "source": [
    "### Normalize the data\n",
    "You can use Normalizer from sklearn.preprocessing"
   ]
  },
  {
   "cell_type": "code",
   "execution_count": 22,
   "metadata": {},
   "outputs": [],
   "source": [
    "from sklearn.preprocessing import Normalizer\n",
    "from sklearn import preprocessing"
   ]
  },
  {
   "cell_type": "code",
   "execution_count": 23,
   "metadata": {},
   "outputs": [],
   "source": [
    "#Normalize the data\n",
    "x_n_train = preprocessing.normalize(X_train)\n",
    "x_n_test = preprocessing.normalize(X_test)"
   ]
  },
  {
   "cell_type": "code",
   "execution_count": 24,
   "metadata": {},
   "outputs": [],
   "source": [
    "x_n_train = x_n_train.astype('float32')\n",
    "x_n_test = x_n_test.astype('float32')"
   ]
  },
  {
   "cell_type": "code",
   "execution_count": 25,
   "metadata": {},
   "outputs": [],
   "source": [
    "import numpy as np"
   ]
  },
  {
   "cell_type": "code",
   "execution_count": 26,
   "metadata": {},
   "outputs": [],
   "source": [
    "y_train = np.array(y_train.astype('float32'))\n",
    "y_test = np.array(y_test.astype('float32'))"
   ]
  },
  {
   "cell_type": "markdown",
   "metadata": {
    "colab_type": "text",
    "id": "v6vE4eYCOB62",
    "slideshow": {
     "slide_type": "slide"
    }
   },
   "source": [
    "## Building the Model in tensorflow"
   ]
  },
  {
   "cell_type": "markdown",
   "metadata": {
    "colab_type": "text",
    "id": "297_qja4OB7A",
    "slideshow": {
     "slide_type": "slide"
    }
   },
   "source": [
    "1.Define Weights and Bias, use tf.zeros to initialize weights and Bias"
   ]
  },
  {
   "cell_type": "code",
   "execution_count": 27,
   "metadata": {},
   "outputs": [],
   "source": [
    "w = tf.random_normal((4,1))\n",
    "b = tf.zeros(shape=(1))"
   ]
  },
  {
   "cell_type": "markdown",
   "metadata": {
    "colab_type": "text",
    "id": "HgtWA-UIOB7F",
    "slideshow": {
     "slide_type": "slide"
    }
   },
   "source": [
    "2.Define a function to calculate prediction"
   ]
  },
  {
   "cell_type": "code",
   "execution_count": 28,
   "metadata": {},
   "outputs": [],
   "source": [
    "# y = wx + b\n",
    "\n",
    "def prediction(x, w, b):\n",
    "    xw_matmul = tf.matmul(x, w)\n",
    "    y = tf.add(xw_matmul, b)\n",
    "    return y"
   ]
  },
  {
   "cell_type": "markdown",
   "metadata": {
    "colab_type": "text",
    "id": "TL1hIwf_OB7M",
    "slideshow": {
     "slide_type": "slide"
    }
   },
   "source": [
    "3.Loss (Cost) Function [Mean square error]"
   ]
  },
  {
   "cell_type": "code",
   "execution_count": 29,
   "metadata": {},
   "outputs": [],
   "source": [
    "#Define Loss\n",
    "def loss(y_actual, y_predicted):\n",
    "    diff = y_actual - y_predicted\n",
    "    sqr = tf.square(diff)\n",
    "    avg = tf.reduce_mean(sqr)\n",
    "    return avg"
   ]
  },
  {
   "cell_type": "markdown",
   "metadata": {
    "colab_type": "text",
    "id": "jzG85FUlOB7U",
    "slideshow": {
     "slide_type": "slide"
    }
   },
   "source": [
    "4.Function to train the Model\n",
    "\n",
    "1.   Record all the mathematical steps to calculate Loss\n",
    "2.   Calculate Gradients of Loss w.r.t weights and bias\n",
    "3.   Update Weights and Bias based on gradients and learning rate to minimize loss"
   ]
  },
  {
   "cell_type": "code",
   "execution_count": 30,
   "metadata": {},
   "outputs": [],
   "source": [
    "#Define Gradient Descent function\n",
    "def train(x, y_actual, w, b, learning_rate=0.01):\n",
    "    #Record math ops on 'tape' to calculate loss\n",
    "    with tf.GradientTape() as t:\n",
    "        t.watch([w,b])\n",
    "        current_prediction = prediction(x, w, b)\n",
    "        current_loss = loss(y_actual, current_prediction)\n",
    "    #Calculate Gradients for Loss w.r.t Weights and Bias\n",
    "    dw, db = t.gradient(current_loss,[w, b])\n",
    "    #Update Weights and Bias\n",
    "    w = w - learning_rate*dw\n",
    "    b = b - learning_rate*db\n",
    "    return w, b"
   ]
  },
  {
   "cell_type": "markdown",
   "metadata": {
    "colab_type": "text",
    "id": "xSypb_u8OB7e",
    "slideshow": {
     "slide_type": "slide"
    }
   },
   "source": [
    "## Train the model for 100 epochs \n",
    "1. Observe the training loss at every iteration\n",
    "2. Observe Test loss at every 5th iteration"
   ]
  },
  {
   "cell_type": "code",
   "execution_count": 31,
   "metadata": {},
   "outputs": [
    {
     "data": {
      "text/plain": [
       "(300,)"
      ]
     },
     "execution_count": 31,
     "metadata": {},
     "output_type": "execute_result"
    }
   ],
   "source": [
    "y_test.shape"
   ]
  },
  {
   "cell_type": "code",
   "execution_count": 32,
   "metadata": {
    "colab": {},
    "colab_type": "code",
    "id": "DVvgj7eQOB7f"
   },
   "outputs": [
    {
     "name": "stdout",
     "output_type": "stream",
     "text": [
      "Current Loss on iteration 0 223484620.0\n",
      "Current Loss on iteration 1 221283060.0\n",
      "Current Loss on iteration 2 219254240.0\n",
      "Current Loss on iteration 3 217384270.0\n",
      "Current Loss on iteration 4 215661040.0\n",
      "Current Loss on iteration 5 214072900.0\n",
      "Current Loss on iteration 6 212609390.0\n",
      "Current Loss on iteration 7 211260590.0\n",
      "Current Loss on iteration 8 210017230.0\n",
      "Current Loss on iteration 9 208871620.0\n",
      "Current Loss on iteration 10 207815710.0\n",
      "Current Loss on iteration 11 206842640.0\n",
      "Current Loss on iteration 12 205945870.0\n",
      "Current Loss on iteration 13 205119280.0\n",
      "Current Loss on iteration 14 204357760.0\n",
      "Current Loss on iteration 15 203655630.0\n",
      "Current Loss on iteration 16 203008720.0\n",
      "Current Loss on iteration 17 202412530.0\n",
      "Current Loss on iteration 18 201862880.0\n",
      "Current Loss on iteration 19 201356460.0\n",
      "Current Loss on iteration 20 200889920.0\n",
      "Current Loss on iteration 21 200459760.0\n",
      "Current Loss on iteration 22 200063410.0\n",
      "Current Loss on iteration 23 199698000.0\n",
      "Current Loss on iteration 24 199361360.0\n",
      "Current Loss on iteration 25 199051020.0\n",
      "Current Loss on iteration 26 198765180.0\n",
      "Current Loss on iteration 27 198501550.0\n",
      "Current Loss on iteration 28 198258700.0\n",
      "Current Loss on iteration 29 198034830.0\n",
      "Current Loss on iteration 30 197828540.0\n",
      "Current Loss on iteration 31 197638420.0\n",
      "Current Loss on iteration 32 197463200.0\n",
      "Current Loss on iteration 33 197301660.0\n",
      "Current Loss on iteration 34 197152930.0\n",
      "Current Loss on iteration 35 197015840.0\n",
      "Current Loss on iteration 36 196889380.0\n",
      "Current Loss on iteration 37 196772860.0\n",
      "Current Loss on iteration 38 196665550.0\n",
      "Current Loss on iteration 39 196566620.0\n",
      "Current Loss on iteration 40 196475410.0\n",
      "Current Loss on iteration 41 196391400.0\n",
      "Current Loss on iteration 42 196313890.0\n",
      "Current Loss on iteration 43 196242600.0\n",
      "Current Loss on iteration 44 196176690.0\n",
      "Current Loss on iteration 45 196116180.0\n",
      "Current Loss on iteration 46 196060290.0\n",
      "Current Loss on iteration 47 196008740.0\n",
      "Current Loss on iteration 48 195961280.0\n",
      "Current Loss on iteration 49 195917490.0\n",
      "Current Loss on iteration 50 195877400.0\n",
      "Current Loss on iteration 51 195840140.0\n",
      "Current Loss on iteration 52 195805970.0\n",
      "Current Loss on iteration 53 195774430.0\n",
      "Current Loss on iteration 54 195745260.0\n",
      "Current Loss on iteration 55 195718530.0\n",
      "Current Loss on iteration 56 195693900.0\n",
      "Current Loss on iteration 57 195671060.0\n",
      "Current Loss on iteration 58 195650110.0\n",
      "Current Loss on iteration 59 195630660.0\n",
      "Current Loss on iteration 60 195612960.0\n",
      "Current Loss on iteration 61 195596530.0\n",
      "Current Loss on iteration 62 195581550.0\n",
      "Current Loss on iteration 63 195567420.0\n",
      "Current Loss on iteration 64 195554690.0\n",
      "Current Loss on iteration 65 195542820.0\n",
      "Current Loss on iteration 66 195531790.0\n",
      "Current Loss on iteration 67 195521780.0\n",
      "Current Loss on iteration 68 195512370.0\n",
      "Current Loss on iteration 69 195503920.0\n",
      "Current Loss on iteration 70 195496060.0\n",
      "Current Loss on iteration 71 195488780.0\n",
      "Current Loss on iteration 72 195482160.0\n",
      "Current Loss on iteration 73 195476030.0\n",
      "Current Loss on iteration 74 195470290.0\n",
      "Current Loss on iteration 75 195465070.0\n",
      "Current Loss on iteration 76 195460050.0\n",
      "Current Loss on iteration 77 195455840.0\n",
      "Current Loss on iteration 78 195451700.0\n",
      "Current Loss on iteration 79 195447920.0\n",
      "Current Loss on iteration 80 195444640.0\n",
      "Current Loss on iteration 81 195441150.0\n",
      "Current Loss on iteration 82 195438340.0\n",
      "Current Loss on iteration 83 195435700.0\n",
      "Current Loss on iteration 84 195433000.0\n",
      "Current Loss on iteration 85 195430800.0\n",
      "Current Loss on iteration 86 195428600.0\n",
      "Current Loss on iteration 87 195426670.0\n",
      "Current Loss on iteration 88 195424700.0\n",
      "Current Loss on iteration 89 195423040.0\n",
      "Current Loss on iteration 90 195421660.0\n",
      "Current Loss on iteration 91 195420220.0\n",
      "Current Loss on iteration 92 195418900.0\n",
      "Current Loss on iteration 93 195417680.0\n",
      "Current Loss on iteration 94 195416640.0\n",
      "Current Loss on iteration 95 195415570.0\n",
      "Current Loss on iteration 96 195414580.0\n",
      "Current Loss on iteration 97 195413710.0\n",
      "Current Loss on iteration 98 195412900.0\n",
      "Current Loss on iteration 99 195412210.0\n"
     ]
    }
   ],
   "source": [
    "#Training the model for 100 iterations\n",
    "for i in range(100):\n",
    "    w, b = train(x_n_train, y_train, w, b)\n",
    "    print('Current Loss on iteration', i, loss(y_train, prediction(x_n_train, w, b)).numpy())"
   ]
  },
  {
   "cell_type": "code",
   "execution_count": 33,
   "metadata": {},
   "outputs": [
    {
     "name": "stdout",
     "output_type": "stream",
     "text": [
      "Test loss at every 5th step:  0  is  240872350.0\n",
      "Test loss at every 5th step:  5  is  240763280.0\n",
      "Test loss at every 5th step:  10  is  240690740.0\n",
      "Test loss at every 5th step:  15  is  240642320.0\n",
      "Test loss at every 5th step:  20  is  240610350.0\n",
      "Test loss at every 5th step:  25  is  240589150.0\n",
      "Test loss at every 5th step:  30  is  240574780.0\n",
      "Test loss at every 5th step:  35  is  240565280.0\n",
      "Test loss at every 5th step:  40  is  240558940.0\n",
      "Test loss at every 5th step:  45  is  240555100.0\n",
      "Test loss at every 5th step:  50  is  240552200.0\n",
      "Test loss at every 5th step:  55  is  240550270.0\n",
      "Test loss at every 5th step:  60  is  240548980.0\n",
      "Test loss at every 5th step:  65  is  240548220.0\n",
      "Test loss at every 5th step:  70  is  240547760.0\n",
      "Test loss at every 5th step:  75  is  240547440.0\n",
      "Test loss at every 5th step:  80  is  240547100.0\n",
      "Test loss at every 5th step:  85  is  240546880.0\n",
      "Test loss at every 5th step:  90  is  240546930.0\n",
      "Test loss at every 5th step:  95  is  240546830.0\n"
     ]
    }
   ],
   "source": [
    "#Testing the model for 100 iterations and printing every 5 iteration\n",
    "for i in range(100):\n",
    "    w, b = train(x_n_test, y_test, w, b)\n",
    "    if i % 5 == 0:\n",
    "        print ('Test loss at every 5th step: ', i, ' is ', loss(y_test, prediction(x_n_test, w, b)).numpy())"
   ]
  },
  {
   "cell_type": "markdown",
   "metadata": {
    "colab_type": "text",
    "id": "DOL2ncA1OB7q"
   },
   "source": [
    "### Get the shapes and values of W and b"
   ]
  },
  {
   "cell_type": "code",
   "execution_count": 34,
   "metadata": {
    "colab": {},
    "colab_type": "code",
    "id": "ZGvtyTeuOB7r"
   },
   "outputs": [
    {
     "data": {
      "text/plain": [
       "TensorShape([Dimension(4), Dimension(1)])"
      ]
     },
     "execution_count": 34,
     "metadata": {},
     "output_type": "execute_result"
    }
   ],
   "source": [
    "w.shape"
   ]
  },
  {
   "cell_type": "code",
   "execution_count": 35,
   "metadata": {},
   "outputs": [
    {
     "data": {
      "text/plain": [
       "<tf.Tensor: id=9686, shape=(4, 1), dtype=float32, numpy=\n",
       "array([[1208.9374],\n",
       "       [1213.0725],\n",
       "       [1198.5361],\n",
       "       [1222.784 ]], dtype=float32)>"
      ]
     },
     "execution_count": 35,
     "metadata": {},
     "output_type": "execute_result"
    }
   ],
   "source": [
    "w"
   ]
  },
  {
   "cell_type": "code",
   "execution_count": 36,
   "metadata": {
    "colab": {},
    "colab_type": "code",
    "id": "vhDtOv5UOB7x"
   },
   "outputs": [
    {
     "data": {
      "text/plain": [
       "TensorShape([Dimension(1)])"
      ]
     },
     "execution_count": 36,
     "metadata": {},
     "output_type": "execute_result"
    }
   ],
   "source": [
    "b.shape"
   ]
  },
  {
   "cell_type": "code",
   "execution_count": 37,
   "metadata": {},
   "outputs": [
    {
     "data": {
      "text/plain": [
       "<tf.Tensor: id=9689, shape=(1,), dtype=float32, numpy=array([2421.2363], dtype=float32)>"
      ]
     },
     "execution_count": 37,
     "metadata": {},
     "output_type": "execute_result"
    }
   ],
   "source": [
    "b"
   ]
  },
  {
   "cell_type": "markdown",
   "metadata": {
    "colab_type": "text",
    "id": "ERq9GOKKciho"
   },
   "source": [
    "### Model Prediction on 1st Examples in Test Dataset"
   ]
  },
  {
   "cell_type": "code",
   "execution_count": 38,
   "metadata": {
    "colab": {},
    "colab_type": "code",
    "id": "gKGvUWahcihp"
   },
   "outputs": [],
   "source": [
    "X_value = X_test.head(1)\n",
    "X_value= X_value.astype('float32')"
   ]
  },
  {
   "cell_type": "code",
   "execution_count": 39,
   "metadata": {},
   "outputs": [],
   "source": [
    "X_value=X_value.values"
   ]
  },
  {
   "cell_type": "code",
   "execution_count": 40,
   "metadata": {},
   "outputs": [
    {
     "data": {
      "text/plain": [
       "<tf.Tensor: id=9694, shape=(1, 1), dtype=float32, numpy=array([[428522.8]], dtype=float32)>"
      ]
     },
     "execution_count": 40,
     "metadata": {},
     "output_type": "execute_result"
    }
   ],
   "source": [
    "prediction(X_value, w, b)"
   ]
  },
  {
   "cell_type": "markdown",
   "metadata": {
    "colab_type": "text",
    "id": "YJRBuqXhOB7_"
   },
   "source": [
    "## Classification using tf.Keras\n",
    "\n",
    "In this exercise, we will build a Deep Neural Network using tf.Keras. We will use Iris Dataset for this exercise."
   ]
  },
  {
   "cell_type": "markdown",
   "metadata": {
    "colab_type": "text",
    "id": "sb7Epo0VOB58"
   },
   "source": [
    "### Load tensorflow if not done already"
   ]
  },
  {
   "cell_type": "markdown",
   "metadata": {
    "colab_type": "text",
    "id": "O0g6lorycihf"
   },
   "source": [
    "### Load the given Iris data using pandas (Iris.csv)"
   ]
  },
  {
   "cell_type": "code",
   "execution_count": 4,
   "metadata": {},
   "outputs": [],
   "source": [
    "from keras.models import Sequential\n",
    "from keras.layers import Dense"
   ]
  },
  {
   "cell_type": "code",
   "execution_count": 5,
   "metadata": {},
   "outputs": [],
   "source": [
    "tf.disable_eager_execution()"
   ]
  },
  {
   "cell_type": "code",
   "execution_count": 6,
   "metadata": {},
   "outputs": [
    {
     "data": {
      "text/plain": [
       "False"
      ]
     },
     "execution_count": 6,
     "metadata": {},
     "output_type": "execute_result"
    }
   ],
   "source": [
    "tf.executing_eagerly()"
   ]
  },
  {
   "cell_type": "code",
   "execution_count": 8,
   "metadata": {},
   "outputs": [],
   "source": [
    "import numpy as np\n",
    "import pandas as pd"
   ]
  },
  {
   "cell_type": "code",
   "execution_count": 9,
   "metadata": {
    "colab": {},
    "colab_type": "code",
    "id": "6xFvb5sRcihg"
   },
   "outputs": [],
   "source": [
    "data_iris = pd.read_csv('Iris.csv')"
   ]
  },
  {
   "cell_type": "markdown",
   "metadata": {
    "colab_type": "text",
    "id": "SAB--Qdwcihm"
   },
   "source": [
    "### Target set has different categories. So, Label encode them. And convert into one-hot vectors using get_dummies in pandas."
   ]
  },
  {
   "cell_type": "code",
   "execution_count": 10,
   "metadata": {
    "colab": {},
    "colab_type": "code",
    "id": "IJr5dYnocihm"
   },
   "outputs": [],
   "source": [
    "df_with_dummies = pd.get_dummies(data_iris, columns = ['Species'])"
   ]
  },
  {
   "cell_type": "code",
   "execution_count": 16,
   "metadata": {},
   "outputs": [
    {
     "data": {
      "text/html": [
       "<div>\n",
       "<style scoped>\n",
       "    .dataframe tbody tr th:only-of-type {\n",
       "        vertical-align: middle;\n",
       "    }\n",
       "\n",
       "    .dataframe tbody tr th {\n",
       "        vertical-align: top;\n",
       "    }\n",
       "\n",
       "    .dataframe thead th {\n",
       "        text-align: right;\n",
       "    }\n",
       "</style>\n",
       "<table border=\"1\" class=\"dataframe\">\n",
       "  <thead>\n",
       "    <tr style=\"text-align: right;\">\n",
       "      <th></th>\n",
       "      <th>Id</th>\n",
       "      <th>SepalLengthCm</th>\n",
       "      <th>SepalWidthCm</th>\n",
       "      <th>PetalLengthCm</th>\n",
       "      <th>PetalWidthCm</th>\n",
       "      <th>Species_Iris-setosa</th>\n",
       "      <th>Species_Iris-versicolor</th>\n",
       "      <th>Species_Iris-virginica</th>\n",
       "    </tr>\n",
       "  </thead>\n",
       "  <tbody>\n",
       "    <tr>\n",
       "      <th>0</th>\n",
       "      <td>1</td>\n",
       "      <td>5.1</td>\n",
       "      <td>3.5</td>\n",
       "      <td>1.4</td>\n",
       "      <td>0.2</td>\n",
       "      <td>1</td>\n",
       "      <td>0</td>\n",
       "      <td>0</td>\n",
       "    </tr>\n",
       "    <tr>\n",
       "      <th>1</th>\n",
       "      <td>2</td>\n",
       "      <td>4.9</td>\n",
       "      <td>3.0</td>\n",
       "      <td>1.4</td>\n",
       "      <td>0.2</td>\n",
       "      <td>1</td>\n",
       "      <td>0</td>\n",
       "      <td>0</td>\n",
       "    </tr>\n",
       "    <tr>\n",
       "      <th>2</th>\n",
       "      <td>3</td>\n",
       "      <td>4.7</td>\n",
       "      <td>3.2</td>\n",
       "      <td>1.3</td>\n",
       "      <td>0.2</td>\n",
       "      <td>1</td>\n",
       "      <td>0</td>\n",
       "      <td>0</td>\n",
       "    </tr>\n",
       "  </tbody>\n",
       "</table>\n",
       "</div>"
      ],
      "text/plain": [
       "   Id  SepalLengthCm  SepalWidthCm  PetalLengthCm  PetalWidthCm  \\\n",
       "0   1            5.1           3.5            1.4           0.2   \n",
       "1   2            4.9           3.0            1.4           0.2   \n",
       "2   3            4.7           3.2            1.3           0.2   \n",
       "\n",
       "   Species_Iris-setosa  Species_Iris-versicolor  Species_Iris-virginica  \n",
       "0                    1                        0                       0  \n",
       "1                    1                        0                       0  \n",
       "2                    1                        0                       0  "
      ]
     },
     "execution_count": 16,
     "metadata": {},
     "output_type": "execute_result"
    }
   ],
   "source": [
    "df_with_dummies.head(3)"
   ]
  },
  {
   "cell_type": "markdown",
   "metadata": {
    "colab_type": "text",
    "id": "D95nY5ILcihj"
   },
   "source": [
    "### Splitting the data into feature set and target set"
   ]
  },
  {
   "cell_type": "code",
   "execution_count": 17,
   "metadata": {
    "colab": {},
    "colab_type": "code",
    "id": "RyMQoLMucihj"
   },
   "outputs": [],
   "source": [
    "del df_with_dummies['Id']"
   ]
  },
  {
   "cell_type": "code",
   "execution_count": 18,
   "metadata": {},
   "outputs": [
    {
     "data": {
      "text/html": [
       "<div>\n",
       "<style scoped>\n",
       "    .dataframe tbody tr th:only-of-type {\n",
       "        vertical-align: middle;\n",
       "    }\n",
       "\n",
       "    .dataframe tbody tr th {\n",
       "        vertical-align: top;\n",
       "    }\n",
       "\n",
       "    .dataframe thead th {\n",
       "        text-align: right;\n",
       "    }\n",
       "</style>\n",
       "<table border=\"1\" class=\"dataframe\">\n",
       "  <thead>\n",
       "    <tr style=\"text-align: right;\">\n",
       "      <th></th>\n",
       "      <th>SepalLengthCm</th>\n",
       "      <th>SepalWidthCm</th>\n",
       "      <th>PetalLengthCm</th>\n",
       "      <th>PetalWidthCm</th>\n",
       "      <th>Species_Iris-setosa</th>\n",
       "      <th>Species_Iris-versicolor</th>\n",
       "      <th>Species_Iris-virginica</th>\n",
       "    </tr>\n",
       "  </thead>\n",
       "  <tbody>\n",
       "    <tr>\n",
       "      <th>0</th>\n",
       "      <td>5.1</td>\n",
       "      <td>3.5</td>\n",
       "      <td>1.4</td>\n",
       "      <td>0.2</td>\n",
       "      <td>1</td>\n",
       "      <td>0</td>\n",
       "      <td>0</td>\n",
       "    </tr>\n",
       "    <tr>\n",
       "      <th>1</th>\n",
       "      <td>4.9</td>\n",
       "      <td>3.0</td>\n",
       "      <td>1.4</td>\n",
       "      <td>0.2</td>\n",
       "      <td>1</td>\n",
       "      <td>0</td>\n",
       "      <td>0</td>\n",
       "    </tr>\n",
       "    <tr>\n",
       "      <th>2</th>\n",
       "      <td>4.7</td>\n",
       "      <td>3.2</td>\n",
       "      <td>1.3</td>\n",
       "      <td>0.2</td>\n",
       "      <td>1</td>\n",
       "      <td>0</td>\n",
       "      <td>0</td>\n",
       "    </tr>\n",
       "  </tbody>\n",
       "</table>\n",
       "</div>"
      ],
      "text/plain": [
       "   SepalLengthCm  SepalWidthCm  PetalLengthCm  PetalWidthCm  \\\n",
       "0            5.1           3.5            1.4           0.2   \n",
       "1            4.9           3.0            1.4           0.2   \n",
       "2            4.7           3.2            1.3           0.2   \n",
       "\n",
       "   Species_Iris-setosa  Species_Iris-versicolor  Species_Iris-virginica  \n",
       "0                    1                        0                       0  \n",
       "1                    1                        0                       0  \n",
       "2                    1                        0                       0  "
      ]
     },
     "execution_count": 18,
     "metadata": {},
     "output_type": "execute_result"
    }
   ],
   "source": [
    "df_with_dummies.head(3)"
   ]
  },
  {
   "cell_type": "code",
   "execution_count": 29,
   "metadata": {},
   "outputs": [],
   "source": [
    "from sklearn.model_selection import train_test_split\n",
    "X = df_with_dummies.iloc[:,0:4]\n",
    "Y = df_with_dummies.iloc[:,4:7]"
   ]
  },
  {
   "cell_type": "markdown",
   "metadata": {
    "colab_type": "text",
    "id": "ERq9GOKKciho"
   },
   "source": [
    "### Divide the dataset into Training and test (70:30)"
   ]
  },
  {
   "cell_type": "code",
   "execution_count": 32,
   "metadata": {
    "colab": {},
    "colab_type": "code",
    "id": "gKGvUWahcihp"
   },
   "outputs": [],
   "source": [
    "X_train, X_test, y_train, y_test = train_test_split(X, Y, test_size=0.30, random_state=1)"
   ]
  },
  {
   "cell_type": "markdown",
   "metadata": {
    "colab_type": "text",
    "id": "b22qpC5xcihr"
   },
   "source": [
    "###  Building Model in tf.keras\n",
    "\n",
    "Build a Linear Classifier model  <br>\n",
    "1.  Use Dense Layer  with input shape of 4 (according to the feature set) and number of outputs set to 3<br> \n",
    "2. Apply Softmax on Dense Layer outputs <br>\n",
    "3. Use SGD as Optimizer\n",
    "4. Use categorical_crossentropy as loss function "
   ]
  },
  {
   "cell_type": "code",
   "execution_count": 49,
   "metadata": {
    "colab": {},
    "colab_type": "code",
    "id": "Hov_UFnUciht"
   },
   "outputs": [],
   "source": [
    "#Initialize Sequential Graph (model)\n",
    "model = tf.keras.models.Sequential()\n",
    "\n",
    "#Normalize input data\n",
    "model.add(tf.keras.layers.BatchNormalization(input_shape=(4,)))\n",
    "\n",
    "#Add Dense layer for prediction - Keras declares weights and bias automatically\n",
    "model.add(tf.keras.layers.Dense(3,activation='softmax'))\n",
    "\n",
    "#Compile the model - add Loss and Gradient Descent optimizer\n",
    "model.compile(optimizer='sgd', loss='categorical_crossentropy', metrics=['accuracy'])"
   ]
  },
  {
   "cell_type": "markdown",
   "metadata": {
    "colab_type": "text",
    "id": "T5FdzqIKcihw"
   },
   "source": [
    "### Model Training "
   ]
  },
  {
   "cell_type": "code",
   "execution_count": 50,
   "metadata": {
    "colab": {},
    "colab_type": "code",
    "id": "4qLEdHPscihx"
   },
   "outputs": [
    {
     "name": "stdout",
     "output_type": "stream",
     "text": [
      "Train on 105 samples, validate on 45 samples\n",
      "Epoch 1/50\n",
      "105/105 [==============================] - 1s 6ms/sample - loss: 1.9689 - acc: 0.1714 - val_loss: 3.2241 - val_acc: 0.2444\n",
      "Epoch 2/50\n",
      "105/105 [==============================] - 0s 604us/sample - loss: 1.5604 - acc: 0.2667 - val_loss: 2.6995 - val_acc: 0.2889\n",
      "Epoch 3/50\n",
      "105/105 [==============================] - 0s 851us/sample - loss: 1.3535 - acc: 0.2667 - val_loss: 2.3015 - val_acc: 0.2889\n",
      "Epoch 4/50\n",
      "105/105 [==============================] - 0s 922us/sample - loss: 1.1825 - acc: 0.3048 - val_loss: 1.9635 - val_acc: 0.2889\n",
      "Epoch 5/50\n",
      "105/105 [==============================] - 0s 903us/sample - loss: 1.0630 - acc: 0.3143 - val_loss: 1.6819 - val_acc: 0.2889\n",
      "Epoch 6/50\n",
      "105/105 [==============================] - 0s 780us/sample - loss: 0.9358 - acc: 0.3143 - val_loss: 1.4478 - val_acc: 0.2889\n",
      "Epoch 7/50\n",
      "105/105 [==============================] - 0s 998us/sample - loss: 0.8459 - acc: 0.6190 - val_loss: 1.2548 - val_acc: 0.3333\n",
      "Epoch 8/50\n",
      "105/105 [==============================] - 0s 713us/sample - loss: 0.7534 - acc: 0.7238 - val_loss: 1.1073 - val_acc: 0.3778\n",
      "Epoch 9/50\n",
      "105/105 [==============================] - 0s 856us/sample - loss: 0.7703 - acc: 0.7143 - val_loss: 0.9843 - val_acc: 0.4889\n",
      "Epoch 10/50\n",
      "105/105 [==============================] - 0s 841us/sample - loss: 0.7681 - acc: 0.7238 - val_loss: 0.8879 - val_acc: 0.5778\n",
      "Epoch 11/50\n",
      "105/105 [==============================] - 0s 1ms/sample - loss: 0.6880 - acc: 0.7524 - val_loss: 0.8135 - val_acc: 0.6667\n",
      "Epoch 12/50\n",
      "105/105 [==============================] - 0s 689us/sample - loss: 0.6323 - acc: 0.7333 - val_loss: 0.7522 - val_acc: 0.6667\n",
      "Epoch 13/50\n",
      "105/105 [==============================] - 0s 737us/sample - loss: 0.6932 - acc: 0.7333 - val_loss: 0.7031 - val_acc: 0.6667\n",
      "Epoch 14/50\n",
      "105/105 [==============================] - 0s 1ms/sample - loss: 0.6502 - acc: 0.7238 - val_loss: 0.6616 - val_acc: 0.6667\n",
      "Epoch 15/50\n",
      "105/105 [==============================] - 0s 846us/sample - loss: 0.6539 - acc: 0.7048 - val_loss: 0.6330 - val_acc: 0.6889\n",
      "Epoch 16/50\n",
      "105/105 [==============================] - 0s 837us/sample - loss: 0.5998 - acc: 0.7714 - val_loss: 0.6075 - val_acc: 0.6889\n",
      "Epoch 17/50\n",
      "105/105 [==============================] - 0s 746us/sample - loss: 0.6043 - acc: 0.7810 - val_loss: 0.5840 - val_acc: 0.7333\n",
      "Epoch 18/50\n",
      "105/105 [==============================] - 0s 818us/sample - loss: 0.5834 - acc: 0.7619 - val_loss: 0.5664 - val_acc: 0.7333\n",
      "Epoch 19/50\n",
      "105/105 [==============================] - 0s 765us/sample - loss: 0.6477 - acc: 0.7238 - val_loss: 0.5547 - val_acc: 0.7556\n",
      "Epoch 20/50\n",
      "105/105 [==============================] - 0s 979us/sample - loss: 0.6292 - acc: 0.7429 - val_loss: 0.5420 - val_acc: 0.7556\n",
      "Epoch 21/50\n",
      "105/105 [==============================] - 0s 993us/sample - loss: 0.5703 - acc: 0.7714 - val_loss: 0.5270 - val_acc: 0.7556\n",
      "Epoch 22/50\n",
      "105/105 [==============================] - 0s 608us/sample - loss: 0.6238 - acc: 0.7333 - val_loss: 0.5139 - val_acc: 0.7556\n",
      "Epoch 23/50\n",
      "105/105 [==============================] - 0s 661us/sample - loss: 0.5459 - acc: 0.7810 - val_loss: 0.5033 - val_acc: 0.7556\n",
      "Epoch 24/50\n",
      "105/105 [==============================] - 0s 684us/sample - loss: 0.5208 - acc: 0.8095 - val_loss: 0.4944 - val_acc: 0.7556\n",
      "Epoch 25/50\n",
      "105/105 [==============================] - 0s 599us/sample - loss: 0.6916 - acc: 0.7238 - val_loss: 0.4873 - val_acc: 0.7556\n",
      "Epoch 26/50\n",
      "105/105 [==============================] - 0s 799us/sample - loss: 0.6409 - acc: 0.7333 - val_loss: 0.4796 - val_acc: 0.7778\n",
      "Epoch 27/50\n",
      "105/105 [==============================] - 0s 746us/sample - loss: 0.5736 - acc: 0.7619 - val_loss: 0.4719 - val_acc: 0.7778\n",
      "Epoch 28/50\n",
      "105/105 [==============================] - 0s 922us/sample - loss: 0.4916 - acc: 0.8286 - val_loss: 0.4644 - val_acc: 0.7778\n",
      "Epoch 29/50\n",
      "105/105 [==============================] - 0s 993us/sample - loss: 0.5642 - acc: 0.7619 - val_loss: 0.4560 - val_acc: 0.7778\n",
      "Epoch 30/50\n",
      "105/105 [==============================] - 0s 665us/sample - loss: 0.5269 - acc: 0.7714 - val_loss: 0.4509 - val_acc: 0.7778\n",
      "Epoch 31/50\n",
      "105/105 [==============================] - 0s 618us/sample - loss: 0.4579 - acc: 0.8095 - val_loss: 0.4458 - val_acc: 0.7778\n",
      "Epoch 32/50\n",
      "105/105 [==============================] - 0s 860us/sample - loss: 0.5092 - acc: 0.8000 - val_loss: 0.4399 - val_acc: 0.8000\n",
      "Epoch 33/50\n",
      "105/105 [==============================] - 0s 808us/sample - loss: 0.5182 - acc: 0.8000 - val_loss: 0.4358 - val_acc: 0.8000\n",
      "Epoch 34/50\n",
      "105/105 [==============================] - 0s 780us/sample - loss: 0.5430 - acc: 0.7905 - val_loss: 0.4312 - val_acc: 0.8000\n",
      "Epoch 35/50\n",
      "105/105 [==============================] - 0s 889us/sample - loss: 0.5099 - acc: 0.8095 - val_loss: 0.4256 - val_acc: 0.8000\n",
      "Epoch 36/50\n",
      "105/105 [==============================] - 0s 856us/sample - loss: 0.5319 - acc: 0.7714 - val_loss: 0.4213 - val_acc: 0.8000\n",
      "Epoch 37/50\n",
      "105/105 [==============================] - 0s 694us/sample - loss: 0.5176 - acc: 0.7524 - val_loss: 0.4173 - val_acc: 0.8000\n",
      "Epoch 38/50\n",
      "105/105 [==============================] - 0s 708us/sample - loss: 0.4555 - acc: 0.7810 - val_loss: 0.4146 - val_acc: 0.8000\n",
      "Epoch 39/50\n",
      "105/105 [==============================] - 0s 1ms/sample - loss: 0.4843 - acc: 0.8190 - val_loss: 0.4104 - val_acc: 0.8000\n",
      "Epoch 40/50\n",
      "105/105 [==============================] - 0s 784us/sample - loss: 0.5672 - acc: 0.7714 - val_loss: 0.4066 - val_acc: 0.8000\n",
      "Epoch 41/50\n",
      "105/105 [==============================] - 0s 898us/sample - loss: 0.5838 - acc: 0.7333 - val_loss: 0.4037 - val_acc: 0.8000\n",
      "Epoch 42/50\n",
      "105/105 [==============================] - 0s 2ms/sample - loss: 0.6112 - acc: 0.7619 - val_loss: 0.4008 - val_acc: 0.8000\n",
      "Epoch 43/50\n",
      "105/105 [==============================] - 0s 1ms/sample - loss: 0.4674 - acc: 0.8190 - val_loss: 0.3968 - val_acc: 0.8000\n",
      "Epoch 44/50\n",
      "105/105 [==============================] - 0s 1ms/sample - loss: 0.4728 - acc: 0.8381 - val_loss: 0.3943 - val_acc: 0.8000\n",
      "Epoch 45/50\n",
      "105/105 [==============================] - 0s 727us/sample - loss: 0.4816 - acc: 0.8095 - val_loss: 0.3921 - val_acc: 0.8000\n",
      "Epoch 46/50\n",
      "105/105 [==============================] - 0s 547us/sample - loss: 0.5958 - acc: 0.7619 - val_loss: 0.3890 - val_acc: 0.8222\n",
      "Epoch 47/50\n",
      "105/105 [==============================] - 0s 675us/sample - loss: 0.4492 - acc: 0.8286 - val_loss: 0.3870 - val_acc: 0.8000\n",
      "Epoch 48/50\n",
      "105/105 [==============================] - 0s 932us/sample - loss: 0.4682 - acc: 0.8381 - val_loss: 0.3859 - val_acc: 0.8000\n",
      "Epoch 49/50\n",
      "105/105 [==============================] - 0s 594us/sample - loss: 0.4552 - acc: 0.8381 - val_loss: 0.3835 - val_acc: 0.8000\n",
      "Epoch 50/50\n",
      "105/105 [==============================] - 0s 675us/sample - loss: 0.6433 - acc: 0.6667 - val_loss: 0.3809 - val_acc: 0.8222\n"
     ]
    },
    {
     "data": {
      "text/plain": [
       "<tensorflow.python.keras.callbacks.History at 0x2655f8e9668>"
      ]
     },
     "execution_count": 50,
     "metadata": {},
     "output_type": "execute_result"
    }
   ],
   "source": [
    "model.fit(X_train, y_train,validation_data=(X_test, y_test),epochs=50,batch_size=5)"
   ]
  },
  {
   "cell_type": "markdown",
   "metadata": {
    "colab_type": "text",
    "id": "y-SgSSdRcih5"
   },
   "source": [
    "### Model Prediction"
   ]
  },
  {
   "cell_type": "code",
   "execution_count": 51,
   "metadata": {
    "colab": {},
    "colab_type": "code",
    "id": "GBgKZkhkcih6"
   },
   "outputs": [],
   "source": [
    "y_predict = model.predict_classes(X_test)"
   ]
  },
  {
   "cell_type": "code",
   "execution_count": 52,
   "metadata": {},
   "outputs": [
    {
     "data": {
      "text/plain": [
       "array([0, 1, 1, 0, 2, 2, 2, 0, 0, 2, 1, 0, 2, 2, 2, 0, 1, 2, 0, 0, 1, 2,\n",
       "       2, 0, 2, 1, 0, 0, 1, 2, 2, 2, 1, 2, 2, 0, 1, 0, 1, 2, 2, 0, 1, 2,\n",
       "       1], dtype=int64)"
      ]
     },
     "execution_count": 52,
     "metadata": {},
     "output_type": "execute_result"
    }
   ],
   "source": [
    "y_predict"
   ]
  },
  {
   "cell_type": "markdown",
   "metadata": {
    "colab_type": "text",
    "id": "P32ASP1Vjt0a"
   },
   "source": [
    "### Save the Model"
   ]
  },
  {
   "cell_type": "code",
   "execution_count": 57,
   "metadata": {
    "colab": {},
    "colab_type": "code",
    "id": "n8rd0jjAjyTR"
   },
   "outputs": [],
   "source": [
    "model.save('saved_model.h5')"
   ]
  },
  {
   "cell_type": "markdown",
   "metadata": {
    "colab_type": "text",
    "id": "XiipRpe7rbVh"
   },
   "source": [
    "### Build and Train a Deep Neural network with 2 hidden layer  - Optional - For Practice\n",
    "\n",
    "Does it perform better than Linear Classifier? What could be the reason for difference in performance?"
   ]
  },
  {
   "cell_type": "code",
   "execution_count": null,
   "metadata": {
    "colab": {},
    "colab_type": "code",
    "id": "v5Du3lubr4sA"
   },
   "outputs": [],
   "source": []
  }
 ],
 "metadata": {
  "colab": {
   "name": "3. R6_InternalLab_AIML_Share_Prices-Eager Execution.ipynb",
   "provenance": [],
   "version": "0.3.2"
  },
  "kernelspec": {
   "display_name": "Python 3",
   "language": "python",
   "name": "python3"
  }
 },
 "nbformat": 4,
 "nbformat_minor": 1
}
