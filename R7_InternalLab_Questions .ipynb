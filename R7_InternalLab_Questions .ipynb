{
 "cells": [
  {
   "cell_type": "markdown",
   "metadata": {
    "colab_type": "text",
    "id": "4WH1Pr4KQlCh"
   },
   "source": [
    "### Build a DNN using Keras with `RELU` and `ADAM`"
   ]
  },
  {
   "cell_type": "markdown",
   "metadata": {
    "colab_type": "text",
    "id": "TbvI8LqlQlCl",
    "slideshow": {
     "slide_type": "slide"
    }
   },
   "source": [
    "#### Load tensorflow"
   ]
  },
  {
   "cell_type": "code",
   "execution_count": 1,
   "metadata": {
    "colab": {},
    "colab_type": "code",
    "id": "SPW-a-qYQlCp"
   },
   "outputs": [],
   "source": [
    "import tensorflow as tf\n",
    "tf.reset_default_graph()\n",
    "tf.set_random_seed(42)"
   ]
  },
  {
   "cell_type": "code",
   "execution_count": 2,
   "metadata": {},
   "outputs": [
    {
     "name": "stderr",
     "output_type": "stream",
     "text": [
      "Using TensorFlow backend.\n"
     ]
    }
   ],
   "source": [
    "import keras\n",
    "from keras.datasets import mnist\n",
    "from keras.utils import np_utils\n"
   ]
  },
  {
   "cell_type": "markdown",
   "metadata": {
    "colab_type": "text",
    "id": "74cQBsi5QlCw",
    "slideshow": {
     "slide_type": "slide"
    }
   },
   "source": [
    "#### Collect Fashion mnist data from tf.keras.datasets "
   ]
  },
  {
   "cell_type": "code",
   "execution_count": 3,
   "metadata": {
    "colab": {},
    "colab_type": "code",
    "id": "wVWy0oDTr2Kj"
   },
   "outputs": [],
   "source": [
    "from keras.datasets import mnist"
   ]
  },
  {
   "cell_type": "markdown",
   "metadata": {
    "colab_type": "text",
    "id": "no7aWYZyQlC1",
    "slideshow": {
     "slide_type": "slide"
    }
   },
   "source": [
    "#### Change train and test labels into one-hot vectors"
   ]
  },
  {
   "cell_type": "code",
   "execution_count": 4,
   "metadata": {
    "colab": {},
    "colab_type": "code",
    "id": "UX6otc4wQlC2"
   },
   "outputs": [],
   "source": [
    "(trainX, trainY),(testX, testY) = tf.keras.datasets.mnist.load_data()"
   ]
  },
  {
   "cell_type": "code",
   "execution_count": 5,
   "metadata": {},
   "outputs": [],
   "source": [
    "# convert class vectors to binary class matrices for keras\n",
    "trainY = tf.keras.utils.to_categorical(trainY, num_classes=10)\n",
    "testY = tf.keras.utils.to_categorical(testY, num_classes=10)"
   ]
  },
  {
   "cell_type": "markdown",
   "metadata": {
    "colab_type": "text",
    "id": "QjNrRTdoQlC5",
    "slideshow": {
     "slide_type": "slide"
    }
   },
   "source": [
    "#### Build the Graph"
   ]
  },
  {
   "cell_type": "markdown",
   "metadata": {
    "colab_type": "text",
    "id": "CDJ9DHVNQlC7"
   },
   "source": [
    "#### Initialize model, reshape & normalize data"
   ]
  },
  {
   "cell_type": "code",
   "execution_count": 6,
   "metadata": {
    "colab": {
     "base_uri": "https://localhost:8080/",
     "height": 88
    },
    "colab_type": "code",
    "id": "pCDQs_g1QlC8",
    "outputId": "e854b4d2-903a-4515-c21b-bd6a6e4fe2f8"
   },
   "outputs": [
    {
     "name": "stdout",
     "output_type": "stream",
     "text": [
      "WARNING:tensorflow:From C:\\Users\\Bhanushree\\Anaconda3\\lib\\site-packages\\tensorflow\\python\\ops\\resource_variable_ops.py:435: colocate_with (from tensorflow.python.framework.ops) is deprecated and will be removed in a future version.\n",
      "Instructions for updating:\n",
      "Colocations handled automatically by placer.\n"
     ]
    }
   ],
   "source": [
    "#Initialize Sequential model\n",
    "model = tf.keras.models.Sequential()\n",
    "\n",
    "#Reshape data from 2D to 1D -> 28x28 to 784\n",
    "model.add(tf.keras.layers.Reshape((784,),input_shape=(28,28,)))\n",
    "\n",
    "#Normalize the data\n",
    "model.add(tf.keras.layers.BatchNormalization())"
   ]
  },
  {
   "cell_type": "markdown",
   "metadata": {
    "colab_type": "text",
    "id": "kBGwTTilQlDD",
    "slideshow": {
     "slide_type": "slide"
    }
   },
   "source": [
    "#### Add two fully connected layers with 200 and 100 neurons respectively with `relu` activations. Add a dropout layer with `p=0.25`"
   ]
  },
  {
   "cell_type": "code",
   "execution_count": 7,
   "metadata": {
    "colab": {
     "base_uri": "https://localhost:8080/",
     "height": 88
    },
    "colab_type": "code",
    "id": "IXbfpfOzQlDF",
    "outputId": "f46a2e3a-2634-4e9e-88bd-57bb8de1ff0c"
   },
   "outputs": [],
   "source": [
    "#Add 1st hidden layer\n",
    "model.add(tf.keras.layers.Dense(200, activation='relu'))"
   ]
  },
  {
   "cell_type": "code",
   "execution_count": 8,
   "metadata": {},
   "outputs": [],
   "source": [
    "#Add 2nd hidden layer\n",
    "model.add(tf.keras.layers.Dense(100, activation='relu'))"
   ]
  },
  {
   "cell_type": "code",
   "execution_count": 9,
   "metadata": {},
   "outputs": [
    {
     "name": "stdout",
     "output_type": "stream",
     "text": [
      "WARNING:tensorflow:From C:\\Users\\Bhanushree\\Anaconda3\\lib\\site-packages\\tensorflow\\python\\keras\\layers\\core.py:143: calling dropout (from tensorflow.python.ops.nn_ops) with keep_prob is deprecated and will be removed in a future version.\n",
      "Instructions for updating:\n",
      "Please use `rate` instead of `keep_prob`. Rate should be set to `rate = 1 - keep_prob`.\n"
     ]
    }
   ],
   "source": [
    "#Dropout layer\n",
    "model.add(tf.keras.layers.Dropout(0.25))"
   ]
  },
  {
   "cell_type": "code",
   "execution_count": 10,
   "metadata": {},
   "outputs": [],
   "source": [
    "#Output layer\n",
    "model.add(tf.keras.layers.Dense(10, activation='softmax', name='Output'))"
   ]
  },
  {
   "cell_type": "code",
   "execution_count": 11,
   "metadata": {},
   "outputs": [],
   "source": [
    "model.compile(optimizer='adam', loss='categorical_crossentropy', metrics=['accuracy'])"
   ]
  },
  {
   "cell_type": "code",
   "execution_count": 13,
   "metadata": {},
   "outputs": [
    {
     "name": "stdout",
     "output_type": "stream",
     "text": [
      "_________________________________________________________________\n",
      "Layer (type)                 Output Shape              Param #   \n",
      "=================================================================\n",
      "reshape (Reshape)            (None, 784)               0         \n",
      "_________________________________________________________________\n",
      "batch_normalization_v1 (Batc (None, 784)               3136      \n",
      "_________________________________________________________________\n",
      "dense (Dense)                (None, 200)               157000    \n",
      "_________________________________________________________________\n",
      "dense_1 (Dense)              (None, 100)               20100     \n",
      "_________________________________________________________________\n",
      "dropout (Dropout)            (None, 100)               0         \n",
      "_________________________________________________________________\n",
      "Output (Dense)               (None, 10)                1010      \n",
      "=================================================================\n",
      "Total params: 181,246\n",
      "Trainable params: 179,678\n",
      "Non-trainable params: 1,568\n",
      "_________________________________________________________________\n"
     ]
    }
   ],
   "source": [
    "model.summary()"
   ]
  },
  {
   "cell_type": "code",
   "execution_count": 14,
   "metadata": {},
   "outputs": [
    {
     "name": "stdout",
     "output_type": "stream",
     "text": [
      "Train on 60000 samples, validate on 10000 samples\n",
      "WARNING:tensorflow:From C:\\Users\\Bhanushree\\Anaconda3\\lib\\site-packages\\tensorflow\\python\\ops\\math_ops.py:3066: to_int32 (from tensorflow.python.ops.math_ops) is deprecated and will be removed in a future version.\n",
      "Instructions for updating:\n",
      "Use tf.cast instead.\n",
      "Epoch 1/30\n",
      "60000/60000 [==============================] - 15s 242us/sample - loss: 0.2636 - acc: 0.9192 - val_loss: 0.1666 - val_acc: 0.9571\n",
      "Epoch 2/30\n",
      "60000/60000 [==============================] - 9s 150us/sample - loss: 0.1298 - acc: 0.9607 - val_loss: 0.1570 - val_acc: 0.9619\n",
      "Epoch 3/30\n",
      "60000/60000 [==============================] - 9s 147us/sample - loss: 0.1025 - acc: 0.9685 - val_loss: 0.1349 - val_acc: 0.9717\n",
      "Epoch 4/30\n",
      "60000/60000 [==============================] - 9s 157us/sample - loss: 0.0806 - acc: 0.9746 - val_loss: 0.1532 - val_acc: 0.9679\n",
      "Epoch 5/30\n",
      "60000/60000 [==============================] - 9s 154us/sample - loss: 0.0716 - acc: 0.9774 - val_loss: 0.1587 - val_acc: 0.9702\n",
      "Epoch 6/30\n",
      "60000/60000 [==============================] - 9s 149us/sample - loss: 0.0644 - acc: 0.9803 - val_loss: 0.1544 - val_acc: 0.9715\n",
      "Epoch 7/30\n",
      "60000/60000 [==============================] - 9s 154us/sample - loss: 0.0538 - acc: 0.9830 - val_loss: 0.1642 - val_acc: 0.9723\n",
      "Epoch 8/30\n",
      "60000/60000 [==============================] - 9s 150us/sample - loss: 0.0528 - acc: 0.9833 - val_loss: 0.1603 - val_acc: 0.9710\n",
      "Epoch 9/30\n",
      "60000/60000 [==============================] - 9s 156us/sample - loss: 0.0462 - acc: 0.9854 - val_loss: 0.1830 - val_acc: 0.9716\n",
      "Epoch 10/30\n",
      "60000/60000 [==============================] - 9s 151us/sample - loss: 0.0419 - acc: 0.9868 - val_loss: 0.1939 - val_acc: 0.9711\n",
      "Epoch 11/30\n",
      "60000/60000 [==============================] - 9s 156us/sample - loss: 0.0435 - acc: 0.9867 - val_loss: 0.1914 - val_acc: 0.9709\n",
      "Epoch 12/30\n",
      "60000/60000 [==============================] - 10s 159us/sample - loss: 0.0398 - acc: 0.9872 - val_loss: 0.1829 - val_acc: 0.9716\n",
      "Epoch 13/30\n",
      "60000/60000 [==============================] - 9s 150us/sample - loss: 0.0385 - acc: 0.9881 - val_loss: 0.1943 - val_acc: 0.9714\n",
      "Epoch 14/30\n",
      "60000/60000 [==============================] - 9s 155us/sample - loss: 0.0327 - acc: 0.9897 - val_loss: 0.1916 - val_acc: 0.9702\n",
      "Epoch 15/30\n",
      "60000/60000 [==============================] - 12s 194us/sample - loss: 0.0342 - acc: 0.9898 - val_loss: 0.2276 - val_acc: 0.9678\n",
      "Epoch 16/30\n",
      "60000/60000 [==============================] - 12s 194us/sample - loss: 0.0329 - acc: 0.9896 - val_loss: 0.1996 - val_acc: 0.9722\n",
      "Epoch 17/30\n",
      "60000/60000 [==============================] - 11s 179us/sample - loss: 0.0339 - acc: 0.9898 - val_loss: 0.1979 - val_acc: 0.9709\n",
      "Epoch 18/30\n",
      "60000/60000 [==============================] - 10s 171us/sample - loss: 0.0312 - acc: 0.9904 - val_loss: 0.2190 - val_acc: 0.9705\n",
      "Epoch 19/30\n",
      "60000/60000 [==============================] - 11s 176us/sample - loss: 0.0300 - acc: 0.9909 - val_loss: 0.1872 - val_acc: 0.9737\n",
      "Epoch 20/30\n",
      "60000/60000 [==============================] - 12s 202us/sample - loss: 0.0306 - acc: 0.9911 - val_loss: 0.1982 - val_acc: 0.9708\n",
      "Epoch 21/30\n",
      "60000/60000 [==============================] - 12s 192us/sample - loss: 0.0270 - acc: 0.9919 - val_loss: 0.1918 - val_acc: 0.9727\n",
      "Epoch 22/30\n",
      "60000/60000 [==============================] - 11s 185us/sample - loss: 0.0278 - acc: 0.9916 - val_loss: 0.2055 - val_acc: 0.9705\n",
      "Epoch 23/30\n",
      "60000/60000 [==============================] - 9s 151us/sample - loss: 0.0255 - acc: 0.9923 - val_loss: 0.2074 - val_acc: 0.9732\n",
      "Epoch 24/30\n",
      "60000/60000 [==============================] - 9s 149us/sample - loss: 0.0256 - acc: 0.9925 - val_loss: 0.1986 - val_acc: 0.9732\n",
      "Epoch 25/30\n",
      "60000/60000 [==============================] - 10s 166us/sample - loss: 0.0243 - acc: 0.9929 - val_loss: 0.2126 - val_acc: 0.9731\n",
      "Epoch 26/30\n",
      "60000/60000 [==============================] - 13s 221us/sample - loss: 0.0263 - acc: 0.9928 - val_loss: 0.1766 - val_acc: 0.9746\n",
      "Epoch 27/30\n",
      "60000/60000 [==============================] - 12s 196us/sample - loss: 0.0233 - acc: 0.9930 - val_loss: 0.2331 - val_acc: 0.9716\n",
      "Epoch 28/30\n",
      "60000/60000 [==============================] - 12s 201us/sample - loss: 0.0257 - acc: 0.9924 - val_loss: 0.2113 - val_acc: 0.9715\n",
      "Epoch 29/30\n",
      "60000/60000 [==============================] - 12s 195us/sample - loss: 0.0245 - acc: 0.9931 - val_loss: 0.1969 - val_acc: 0.9739\n",
      "Epoch 30/30\n",
      "60000/60000 [==============================] - 10s 164us/sample - loss: 0.0231 - acc: 0.9933 - val_loss: 0.2073 - val_acc: 0.9720\n"
     ]
    },
    {
     "data": {
      "text/plain": [
       "<tensorflow.python.keras.callbacks.History at 0xd14fd7ce48>"
      ]
     },
     "execution_count": 14,
     "metadata": {},
     "output_type": "execute_result"
    }
   ],
   "source": [
    "model.fit(trainX,trainY,          \n",
    "          validation_data=(testX,testY),\n",
    "          epochs=30,\n",
    "          batch_size=32)"
   ]
  },
  {
   "cell_type": "markdown",
   "metadata": {
    "colab_type": "text",
    "id": "5I8f5otcQlDJ"
   },
   "source": [
    "### Add the output layer with a fully connected layer with 10 neurons with `softmax` activation. Use `categorical_crossentropy` loss and `adam` optimizer and train the network. And, report the final validation."
   ]
  }
 ],
 "metadata": {
  "colab": {
   "collapsed_sections": [],
   "name": "updated_R7_ExternalLab_Questions.ipynb",
   "provenance": [],
   "version": "0.3.2"
  },
  "kernelspec": {
   "display_name": "Python 3",
   "language": "python",
   "name": "python3"
  },
  "language_info": {
   "codemirror_mode": {
    "name": "ipython",
    "version": 3
   },
   "file_extension": ".py",
   "mimetype": "text/x-python",
   "name": "python",
   "nbconvert_exporter": "python",
   "pygments_lexer": "ipython3",
   "version": "3.7.3"
  }
 },
 "nbformat": 4,
 "nbformat_minor": 1
}
