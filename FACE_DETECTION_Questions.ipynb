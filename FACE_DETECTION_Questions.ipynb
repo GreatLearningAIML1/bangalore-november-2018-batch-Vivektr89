{
  "nbformat": 4,
  "nbformat_minor": 0,
  "metadata": {
    "colab": {
      "name": "FACE_DETECTION_Questions.ipynb",
      "version": "0.3.2",
      "provenance": [],
      "collapsed_sections": [],
      "toc_visible": true
    },
    "kernelspec": {
      "display_name": "Python 3",
      "language": "python",
      "name": "python3"
    },
    "language_info": {
      "codemirror_mode": {
        "name": "ipython",
        "version": 3
      },
      "file_extension": ".py",
      "mimetype": "text/x-python",
      "name": "python",
      "nbconvert_exporter": "python",
      "pygments_lexer": "ipython3",
      "version": "3.7.3"
    }
  },
  "cells": [
    {
      "cell_type": "markdown",
      "metadata": {
        "colab_type": "text",
        "id": "IgJNvpw9SnZq"
      },
      "source": [
        "#### In this problem we use \"Transfer Learning\" of an Object Detector model to detect any object according to the problem in hand.\n",
        "\n",
        "Here, We are particularly interested in detecting faces in a given image.\n",
        "\n",
        "#### To use the model first, we need to import the model and its supporting files for the model to function. \n",
        "\n",
        "We see the below steps to import the model."
      ]
    },
    {
      "cell_type": "code",
      "metadata": {
        "id": "wf45tbQ3HTKi",
        "colab_type": "code",
        "colab": {}
      },
      "source": [
        "pip install -U -q PyDrive"
      ],
      "execution_count": 0,
      "outputs": []
    },
    {
      "cell_type": "code",
      "metadata": {
        "id": "8IAzhlOY-avr",
        "colab_type": "code",
        "colab": {}
      },
      "source": [
        "from google.colab import drive"
      ],
      "execution_count": 0,
      "outputs": []
    },
    {
      "cell_type": "code",
      "metadata": {
        "id": "wbNpmBqu-c1I",
        "colab_type": "code",
        "outputId": "ebdd0283-fa44-4090-9d47-aa2607e7eff9",
        "colab": {
          "base_uri": "https://localhost:8080/",
          "height": 34
        }
      },
      "source": [
        "drive.mount('/content/drive')"
      ],
      "execution_count": 0,
      "outputs": [
        {
          "output_type": "stream",
          "text": [
            "Drive already mounted at /content/drive; to attempt to forcibly remount, call drive.mount(\"/content/drive\", force_remount=True).\n"
          ],
          "name": "stdout"
        }
      ]
    },
    {
      "cell_type": "code",
      "metadata": {
        "id": "LmMH2q_ICPTf",
        "colab_type": "code",
        "colab": {}
      },
      "source": [
        "from pydrive.auth import GoogleAuth\n",
        "from pydrive.drive import GoogleDrive\n",
        "from google.colab import auth\n",
        "from oauth2client.client import GoogleCredentials\n",
        "\n",
        "auth.authenticate_user()\n",
        "gauth = GoogleAuth()\n",
        "gauth.credentials = GoogleCredentials.get_application_default()\n",
        "drive = GoogleDrive(gauth)"
      ],
      "execution_count": 0,
      "outputs": []
    },
    {
      "cell_type": "code",
      "metadata": {
        "id": "uMxh7JfiHSaY",
        "colab_type": "code",
        "outputId": "041da1fc-758a-426b-a720-3bcd6fe23250",
        "colab": {
          "base_uri": "https://localhost:8080/",
          "height": 269
        }
      },
      "source": [
        "!wget https://drive.google.com/open?id=1C52IycU5w87CYq5kJDiZXEa0fXRlXr88"
      ],
      "execution_count": 0,
      "outputs": [
        {
          "output_type": "stream",
          "text": [
            "--2019-08-03 07:50:48--  https://drive.google.com/open?id=1C52IycU5w87CYq5kJDiZXEa0fXRlXr88\n",
            "Resolving drive.google.com (drive.google.com)... 74.125.142.101, 74.125.142.100, 74.125.142.139, ...\n",
            "Connecting to drive.google.com (drive.google.com)|74.125.142.101|:443... connected.\n",
            "HTTP request sent, awaiting response... 307 OK\n",
            "Location: https://drive.google.com/drive/folders/1C52IycU5w87CYq5kJDiZXEa0fXRlXr88?usp=drive_open [following]\n",
            "--2019-08-03 07:50:48--  https://drive.google.com/drive/folders/1C52IycU5w87CYq5kJDiZXEa0fXRlXr88?usp=drive_open\n",
            "Reusing existing connection to drive.google.com:443.\n",
            "HTTP request sent, awaiting response... 200 OK\n",
            "Length: unspecified [text/html]\n",
            "Saving to: ‘open?id=1C52IycU5w87CYq5kJDiZXEa0fXRlXr88.1’\n",
            "\n",
            "\r          open?id=1     [<=>                 ]       0  --.-KB/s               \r         open?id=1C     [ <=>                ] 174.53K   580KB/s               \ropen?id=1C52IycU5w8     [  <=>               ] 196.90K   653KB/s    in 0.3s    \n",
            "\n",
            "2019-08-03 07:50:49 (653 KB/s) - ‘open?id=1C52IycU5w87CYq5kJDiZXEa0fXRlXr88.1’ saved [201630]\n",
            "\n"
          ],
          "name": "stdout"
        }
      ]
    },
    {
      "cell_type": "code",
      "metadata": {
        "id": "N2AKN8UXLguO",
        "colab_type": "code",
        "colab": {}
      },
      "source": [
        "downloaded = drive.CreateFile({'id':'173f4f2MqblrwYInhouN4pkeR7ICi5n8-'})\n",
        "downloaded.GetContentFile('mn_model.py')"
      ],
      "execution_count": 0,
      "outputs": []
    },
    {
      "cell_type": "code",
      "metadata": {
        "id": "dwiaeuE3XXqo",
        "colab_type": "code",
        "colab": {}
      },
      "source": [
        "downloaded = drive.CreateFile({'id':'1Fe_S0Z4SR3M7u_Qoi-UDU9niLXvVDr3I'})\n",
        "downloaded.GetContentFile('keras_layer_AnchorBoxes.py')"
      ],
      "execution_count": 0,
      "outputs": []
    },
    {
      "cell_type": "code",
      "metadata": {
        "id": "srG2LuCXX1Fg",
        "colab_type": "code",
        "colab": {}
      },
      "source": [
        "downloaded = drive.CreateFile({'id':'1sD2eJkhNGVngZFCPYz8FNe8etIaqt1iW'})\n",
        "downloaded.GetContentFile('ssd_box_encode_decode_utils.py')"
      ],
      "execution_count": 0,
      "outputs": []
    },
    {
      "cell_type": "code",
      "metadata": {
        "id": "u6eXvhK7YLHf",
        "colab_type": "code",
        "colab": {}
      },
      "source": [
        "downloaded = drive.CreateFile({'id':'14z-zqSujTawHtREsADwuciUQet19LH3j'})\n",
        "downloaded.GetContentFile('keras_layer_L2Normalization.py')"
      ],
      "execution_count": 0,
      "outputs": []
    },
    {
      "cell_type": "markdown",
      "metadata": {
        "colab_type": "text",
        "id": "HtnH8CujQfxM"
      },
      "source": [
        "### Import MobileNet model given in file `mn_model.py`"
      ]
    },
    {
      "cell_type": "code",
      "metadata": {
        "colab_type": "code",
        "id": "FtnDz1qkQESM",
        "outputId": "0fc806a3-0adb-4037-abac-6ff0eb8b8c20",
        "colab": {
          "base_uri": "https://localhost:8080/",
          "height": 34
        }
      },
      "source": [
        "### Import MobileNet model given in file `mn_model.py`\n",
        "\n",
        "from mn_model import mn_model"
      ],
      "execution_count": 0,
      "outputs": [
        {
          "output_type": "stream",
          "text": [
            "Using TensorFlow backend.\n"
          ],
          "name": "stderr"
        }
      ]
    },
    {
      "cell_type": "markdown",
      "metadata": {
        "colab_type": "text",
        "id": "dwNy4u8zQk1H"
      },
      "source": [
        "### Import the BatchGenerator and SSDLoss functions in given files `face_generator.py`, `keras_ssd_loss` and `ssd_box_encode_decode_utils.py` as well, used in MobileNet model"
      ]
    },
    {
      "cell_type": "code",
      "metadata": {
        "id": "_Wt4i-4sYqJY",
        "colab_type": "code",
        "colab": {}
      },
      "source": [
        "downloaded = drive.CreateFile({'id':'1WnTso0Ck4qNR6H-ZjQLsPlEU_8caGVCx'})\n",
        "downloaded.GetContentFile('face_generator.py')"
      ],
      "execution_count": 0,
      "outputs": []
    },
    {
      "cell_type": "code",
      "metadata": {
        "id": "-sNBwfEqZLot",
        "colab_type": "code",
        "colab": {}
      },
      "source": [
        "downloaded = drive.CreateFile({'id':'1wveEXAibPSFYkDgszIo0gr1kilHmPV2b'})\n",
        "downloaded.GetContentFile('keras_ssd_loss.py')"
      ],
      "execution_count": 0,
      "outputs": []
    },
    {
      "cell_type": "code",
      "metadata": {
        "id": "QO25saLZZTFY",
        "colab_type": "code",
        "colab": {}
      },
      "source": [
        "downloaded = drive.CreateFile({'id':'1gMlAT17kUVz5xZDmPMuv48enhwoVocDo'})\n",
        "downloaded.GetContentFile('mobilenet_1_0_224_tf.h5')"
      ],
      "execution_count": 0,
      "outputs": []
    },
    {
      "cell_type": "code",
      "metadata": {
        "id": "Bv-SmKu_bVkm",
        "colab_type": "code",
        "outputId": "1f02d051-fbd3-42dc-cbfb-70cb8753be6f",
        "colab": {
          "base_uri": "https://localhost:8080/",
          "height": 374
        }
      },
      "source": [
        "pip install scipy==0.19.1"
      ],
      "execution_count": 0,
      "outputs": [
        {
          "output_type": "stream",
          "text": [
            "Collecting scipy==0.19.1\n",
            "\u001b[?25l  Downloading https://files.pythonhosted.org/packages/0e/46/da8d7166102d29695330f7c0b912955498542988542c0d2ae3ea0389c68d/scipy-0.19.1-cp36-cp36m-manylinux1_x86_64.whl (48.2MB)\n",
            "\u001b[K     |████████████████████████████████| 48.2MB 1.6MB/s \n",
            "\u001b[?25hRequirement already satisfied: numpy>=1.8.2 in /usr/local/lib/python3.6/dist-packages (from scipy==0.19.1) (1.16.4)\n",
            "\u001b[31mERROR: yellowbrick 0.9.1 has requirement scipy>=1.0.0, but you'll have scipy 0.19.1 which is incompatible.\u001b[0m\n",
            "\u001b[31mERROR: plotnine 0.5.1 has requirement scipy>=1.0.0, but you'll have scipy 0.19.1 which is incompatible.\u001b[0m\n",
            "\u001b[31mERROR: mir-eval 0.5 has requirement scipy>=1.0.0, but you'll have scipy 0.19.1 which is incompatible.\u001b[0m\n",
            "\u001b[31mERROR: librosa 0.6.3 has requirement scipy>=1.0.0, but you'll have scipy 0.19.1 which is incompatible.\u001b[0m\n",
            "\u001b[31mERROR: cvxpy 1.0.15 has requirement scipy>=1.1.0, but you'll have scipy 0.19.1 which is incompatible.\u001b[0m\n",
            "\u001b[31mERROR: albumentations 0.1.12 has requirement imgaug<0.2.7,>=0.2.5, but you'll have imgaug 0.2.9 which is incompatible.\u001b[0m\n",
            "Installing collected packages: scipy\n",
            "  Found existing installation: scipy 1.3.0\n",
            "    Uninstalling scipy-1.3.0:\n",
            "      Successfully uninstalled scipy-1.3.0\n",
            "Successfully installed scipy-0.19.1\n"
          ],
          "name": "stdout"
        },
        {
          "output_type": "display_data",
          "data": {
            "application/vnd.colab-display-data+json": {
              "pip_warning": {
                "packages": [
                  "scipy"
                ]
              }
            }
          },
          "metadata": {
            "tags": []
          }
        }
      ]
    },
    {
      "cell_type": "code",
      "metadata": {
        "colab_type": "code",
        "id": "3gVMOicwQlg_",
        "colab": {}
      },
      "source": [
        "#### Import the BatchGenerator and SSDLoss functions as well, used in MobileNet model\n",
        "\n",
        "from face_generator import BatchGenerator\n",
        "from keras_ssd_loss import SSDLoss\n",
        "from ssd_box_encode_decode_utils import SSDBoxEncoder, decode_y, decode_y2"
      ],
      "execution_count": 0,
      "outputs": []
    },
    {
      "cell_type": "code",
      "metadata": {
        "colab_type": "code",
        "id": "tkzbMq9UeuCM",
        "colab": {}
      },
      "source": [
        "\n",
        "import warnings\n",
        "warnings.filterwarnings(\"ignore\")\n",
        "\n",
        "from keras.optimizers import Adam, SGD, Nadam\n",
        "from keras.callbacks import ModelCheckpoint, EarlyStopping, ReduceLROnPlateau, TensorBoard, LearningRateScheduler\n",
        "from keras.callbacks import Callback\n",
        "from keras import backend as K \n",
        "from keras.models import load_model\n",
        "from math import ceil \n",
        "import numpy as np \n",
        "from termcolor import colored\n",
        "\n",
        "from mn_model import mn_model\n",
        "from face_generator import BatchGenerator\n",
        "from keras_ssd_loss import SSDLoss\n",
        "from ssd_box_encode_decode_utils import SSDBoxEncoder, decode_y, decode_y2\n",
        "\n",
        "# training parameters\n",
        "from keras import backend as K\n",
        "import scipy.misc as sm\n"
      ],
      "execution_count": 0,
      "outputs": []
    },
    {
      "cell_type": "markdown",
      "metadata": {
        "colab_type": "text",
        "id": "UqyWOSGJRB18"
      },
      "source": [
        "## Set the parameters for the model\n",
        "\n",
        "#### We need to customize the model parameters according to our problem as given below.\n",
        "\n",
        "#### Set n_classes (no.of classes) = 2, as we are interested in only face detection. \n",
        "#### `Face` will be one class and everything else comes under other class (we can call it as `background`)\n",
        "\n",
        "#### Set class_names = [\"background\", \"face\"]"
      ]
    },
    {
      "cell_type": "code",
      "metadata": {
        "colab_type": "code",
        "id": "bcoBM5wlfHgZ",
        "colab": {}
      },
      "source": [
        "img_height =512\n",
        "img_width = 512\n",
        "\n",
        "img_channels = 3\n",
        "\n",
        "n_classes =2 \n",
        "class_names = [\"background\",\"face\"]\n",
        "\n",
        "scales = [0.07, 0.15, 0.33, 0.51, 0.69, 0.87, 1.05] # anchorboxes for coco dataset\n",
        "aspect_ratios = [[0.5, 1.0, 2.0],\n",
        "                 [1.0/3.0, 0.5, 1.0, 2.0, 3.0],\n",
        "                 [1.0/3.0, 0.5, 1.0, 2.0, 3.0],\n",
        "                 [1.0/3.0, 0.5, 1.0, 2.0, 3.0],\n",
        "                 [0.5, 1.0, 2.0],\n",
        "                 [0.5, 1.0, 2.0]] # The anchor box aspect ratios used in the original SSD300\n",
        "two_boxes_for_ar1 = True\n",
        "limit_boxes = True # Whether or not you want to limit the anchor boxes to lie entirely within the image boundaries\n",
        "variances = [0.1, 0.1, 0.2, 0.2] # The variances by which the encoded target coordinates are scaled as in the original implementation\n",
        "coords = 'centroids' # Whether the box coordinates to be used as targets for the model should be in the 'centroids' or 'minmax' format, see documentation\n",
        "normalize_coords = True\n",
        "\n",
        "det_model_path = \"./\""
      ],
      "execution_count": 0,
      "outputs": []
    },
    {
      "cell_type": "markdown",
      "metadata": {
        "colab_type": "text",
        "id": "z7vX1GJjTg0v"
      },
      "source": [
        "### Now, we have imported the model and its dependencies. The next thing is to import the dataset for the model to train on. For this, we are using the WIDER FACE dataset. \n",
        "\n",
        "#### To make the dataset available follow the steps given below.\n",
        "\n",
        "\n",
        "1. Create a folder in your google drive for this project. \n",
        "\n",
        "2. Download the train and test dataset files given in .zip format into your drive folder you created for the project in step-1.\n",
        "\n",
        "3. Set the project path variable according to the folders you created to use for this project in your google drive. \n",
        "\n",
        "      `project_path = \"/content/drive/My Drive/DLCP/\"`\n",
        "\n",
        "4. Now, as we mount the drive the images will be available to use for training and testing but in zip format.\n",
        "\n",
        "5. So, lets extract the images from the zipfiles by using the code given of zipfile module.\n",
        "\n",
        "\n",
        "\n",
        "\n",
        "\n"
      ]
    },
    {
      "cell_type": "code",
      "metadata": {
        "colab_type": "code",
        "id": "T2du37JKdpAK",
        "colab": {}
      },
      "source": [
        "from google.colab import drive"
      ],
      "execution_count": 0,
      "outputs": []
    },
    {
      "cell_type": "code",
      "metadata": {
        "colab_type": "code",
        "id": "mXRPqaDfdr1P",
        "outputId": "896d41e2-6577-462c-f313-910ae539229f",
        "colab": {
          "base_uri": "https://localhost:8080/",
          "height": 34
        }
      },
      "source": [
        "drive.mount('/content/drive')"
      ],
      "execution_count": 0,
      "outputs": [
        {
          "output_type": "stream",
          "text": [
            "Drive already mounted at /content/drive; to attempt to forcibly remount, call drive.mount(\"/content/drive\", force_remount=True).\n"
          ],
          "name": "stdout"
        }
      ]
    },
    {
      "cell_type": "code",
      "metadata": {
        "colab_type": "code",
        "id": "KM1QVQ2pduPE",
        "colab": {}
      },
      "source": [
        "project_path = \"/content/drive/My Drive/Face Detection/\""
      ],
      "execution_count": 0,
      "outputs": []
    },
    {
      "cell_type": "code",
      "metadata": {
        "colab_type": "code",
        "id": "F-pOMEK8pCPS",
        "colab": {}
      },
      "source": [
        "train_images_path = project_path + 'WIDER_train.zip'\n",
        "test_images_path = project_path + 'WIDER_val.zip'"
      ],
      "execution_count": 0,
      "outputs": []
    },
    {
      "cell_type": "code",
      "metadata": {
        "colab_type": "code",
        "id": "5uIDTr5ApCR7",
        "colab": {}
      },
      "source": [
        "import zipfile\n",
        "archive = zipfile.ZipFile(train_images_path, 'r')\n",
        "archive.extractall()"
      ],
      "execution_count": 0,
      "outputs": []
    },
    {
      "cell_type": "code",
      "metadata": {
        "colab_type": "code",
        "id": "BhqDPEEfpCUr",
        "colab": {}
      },
      "source": [
        "archive = zipfile.ZipFile(test_images_path, 'r')\n",
        "archive.extractall()"
      ],
      "execution_count": 0,
      "outputs": []
    },
    {
      "cell_type": "markdown",
      "metadata": {
        "colab_type": "text",
        "id": "-iCibT8AYiJ7"
      },
      "source": [
        "### Now, the images are available. The next thing we need is to get the labels for these images, so that we can use this information while training for detecting faces with the given model using transfer learning. \n",
        "\n",
        "#### Follow the below steps to get those labels available.\n",
        "\n",
        "\n",
        "Load the  '' `wider_train_small.npy`'' file given to check the information given about the dataset. In this file you can see the information about each image in the dataset in a list with following elemets:\n",
        "      \n",
        "\n",
        "        1.   Image filename (str)\n",
        "        2.   Image filename (str)\n",
        "        3.   Image size (list) [height, width]\n",
        "        4.   List of bounding box co-ordinates and Class label (list) [[a,b,c,d], Class label, ...]\n",
        "        \n",
        "        where,\n",
        "        a,b,c,d are the four co-ordinates of the bounding box\n",
        "        Class label is the position of object as mentioned in `class_names` list above."
      ]
    },
    {
      "cell_type": "code",
      "metadata": {
        "id": "jJNpwqn0dGI0",
        "colab_type": "code",
        "outputId": "2e24da0e-759f-48c7-88a5-ad6dcfcc43c9",
        "colab": {
          "base_uri": "https://localhost:8080/",
          "height": 374
        }
      },
      "source": [
        "!pip install numpy==1.16.1"
      ],
      "execution_count": 0,
      "outputs": [
        {
          "output_type": "stream",
          "text": [
            "Collecting numpy==1.16.1\n",
            "\u001b[?25l  Downloading https://files.pythonhosted.org/packages/f5/bf/4981bcbee43934f0adb8f764a1e70ab0ee5a448f6505bd04a87a2fda2a8b/numpy-1.16.1-cp36-cp36m-manylinux1_x86_64.whl (17.3MB)\n",
            "\u001b[K     |████████████████████████████████| 17.3MB 4.8MB/s \n",
            "\u001b[31mERROR: yellowbrick 0.9.1 has requirement scipy>=1.0.0, but you'll have scipy 0.19.1 which is incompatible.\u001b[0m\n",
            "\u001b[31mERROR: plotnine 0.5.1 has requirement scipy>=1.0.0, but you'll have scipy 0.19.1 which is incompatible.\u001b[0m\n",
            "\u001b[31mERROR: mir-eval 0.5 has requirement scipy>=1.0.0, but you'll have scipy 0.19.1 which is incompatible.\u001b[0m\n",
            "\u001b[31mERROR: librosa 0.6.3 has requirement scipy>=1.0.0, but you'll have scipy 0.19.1 which is incompatible.\u001b[0m\n",
            "\u001b[31mERROR: datascience 0.10.6 has requirement folium==0.2.1, but you'll have folium 0.8.3 which is incompatible.\u001b[0m\n",
            "\u001b[31mERROR: cvxpy 1.0.15 has requirement scipy>=1.1.0, but you'll have scipy 0.19.1 which is incompatible.\u001b[0m\n",
            "\u001b[31mERROR: albumentations 0.1.12 has requirement imgaug<0.2.7,>=0.2.5, but you'll have imgaug 0.2.9 which is incompatible.\u001b[0m\n",
            "\u001b[?25hInstalling collected packages: numpy\n",
            "  Found existing installation: numpy 1.16.4\n",
            "    Uninstalling numpy-1.16.4:\n",
            "      Successfully uninstalled numpy-1.16.4\n",
            "Successfully installed numpy-1.16.1\n"
          ],
          "name": "stdout"
        },
        {
          "output_type": "display_data",
          "data": {
            "application/vnd.colab-display-data+json": {
              "pip_warning": {
                "packages": [
                  "numpy"
                ]
              }
            }
          },
          "metadata": {
            "tags": []
          }
        }
      ]
    },
    {
      "cell_type": "code",
      "metadata": {
        "id": "m6ys2Zf1dTPi",
        "colab_type": "code",
        "colab": {}
      },
      "source": [
        "import numpy as np"
      ],
      "execution_count": 0,
      "outputs": []
    },
    {
      "cell_type": "code",
      "metadata": {
        "id": "bhIpnVkCbprX",
        "colab_type": "code",
        "colab": {}
      },
      "source": [
        "data = np.load('./wider_train_small.npy').item()"
      ],
      "execution_count": 0,
      "outputs": []
    },
    {
      "cell_type": "code",
      "metadata": {
        "id": "WCyc9D07zy7b",
        "colab_type": "code",
        "colab": {}
      },
      "source": [
        "from google.colab import drive\n",
        "drive.mount('/content/drive')"
      ],
      "execution_count": 0,
      "outputs": []
    },
    {
      "cell_type": "code",
      "metadata": {
        "colab_type": "code",
        "id": "Q2Fd8RY3pCJS",
        "outputId": "b2107c82-3425-4101-ce55-afb15f9d4675",
        "colab": {
          "base_uri": "https://localhost:8080/",
          "height": 70
        }
      },
      "source": [
        "### Printed first element to check the above given information.\n",
        "\n",
        "for key in data:\n",
        "    print (key)\n",
        "    print (data[key])\n",
        "    break"
      ],
      "execution_count": 0,
      "outputs": [
        {
          "output_type": "stream",
          "text": [
            "52--Photographers/52_Photographers_photographertakingphoto_52_582.jpg\n",
            "['WIDER_train/images/52--Photographers/52_Photographers_photographertakingphoto_52_582.jpg', 'WIDER_train/images/52--Photographers/52_Photographers_photographertakingphoto_52_582.jpg', [300, 300], [[21, 667, 9, 655], 1]]\n"
          ],
          "name": "stdout"
        }
      ]
    },
    {
      "cell_type": "markdown",
      "metadata": {
        "colab_type": "text",
        "id": "vlTpXziHZwws"
      },
      "source": [
        " As we can see from the above output all the information mentioned above is there for all the images."
      ]
    },
    {
      "cell_type": "markdown",
      "metadata": {
        "colab_type": "text",
        "id": "m2NBAZGqaec9"
      },
      "source": [
        "### Now, load the files `wider_trian.npy` and `wider_val.npy`"
      ]
    },
    {
      "cell_type": "code",
      "metadata": {
        "colab_type": "code",
        "id": "_kfX49vXas4f",
        "colab": {}
      },
      "source": [
        "train_data = 'wider_train_small.npy'\n",
        "test_data = 'wider_val_small.npy'\n",
        "\n",
        "x = np.load(train_data)"
      ],
      "execution_count": 0,
      "outputs": []
    },
    {
      "cell_type": "markdown",
      "metadata": {
        "colab_type": "text",
        "id": "v2KdmbvGblC3"
      },
      "source": [
        "### Now, call the imported model with the given parameters and freeze all the layers in the model with names not having ''`detection`'' word as prefix.\n",
        "\n",
        "As we are not training the model from scratch, we are freezing all the above layers in the model having only last few layers while training to update their weights according to the problem in hand. This is called as **Transfer Learning**."
      ]
    },
    {
      "cell_type": "code",
      "metadata": {
        "colab_type": "code",
        "id": "cHwplT2ggR-1",
        "outputId": "ac95c1e3-f81c-4221-a861-1feb1803adda",
        "colab": {
          "base_uri": "https://localhost:8080/",
          "height": 289
        }
      },
      "source": [
        "# build the keras model\n",
        "# this model is not retrained, we are doing it from scratch \n",
        "\n",
        "K.clear_session()\n",
        "model, model_layer, img_input, predictor_sizes = mn_model(image_size=(img_height, img_width, img_channels), \n",
        "                                                                      n_classes = n_classes,\n",
        "                                                                      min_scale = None, \n",
        "                                                                      max_scale = None, \n",
        "                                                                      scales = scales, \n",
        "                                                                      aspect_ratios_global = None, \n",
        "                                                                      aspect_ratios_per_layer = aspect_ratios, \n",
        "                                                                      two_boxes_for_ar1= two_boxes_for_ar1, \n",
        "                                                                      limit_boxes=limit_boxes, \n",
        "                                                                      variances= variances, \n",
        "                                                                      coords=coords, \n",
        "                                                                      normalize_coords=normalize_coords)"
      ],
      "execution_count": 0,
      "outputs": [
        {
          "output_type": "stream",
          "text": [
            "WARNING: Logging before flag parsing goes to stderr.\n",
            "W0803 07:53:12.429792 140462352267136 deprecation_wrapper.py:119] From /usr/local/lib/python3.6/dist-packages/keras/backend/tensorflow_backend.py:95: The name tf.reset_default_graph is deprecated. Please use tf.compat.v1.reset_default_graph instead.\n",
            "\n",
            "W0803 07:53:12.431821 140462352267136 deprecation_wrapper.py:119] From /usr/local/lib/python3.6/dist-packages/keras/backend/tensorflow_backend.py:98: The name tf.placeholder_with_default is deprecated. Please use tf.compat.v1.placeholder_with_default instead.\n",
            "\n",
            "W0803 07:53:12.523676 140462352267136 deprecation_wrapper.py:119] From /usr/local/lib/python3.6/dist-packages/keras/backend/tensorflow_backend.py:102: The name tf.get_default_graph is deprecated. Please use tf.compat.v1.get_default_graph instead.\n",
            "\n",
            "W0803 07:53:12.529527 140462352267136 deprecation_wrapper.py:119] From /usr/local/lib/python3.6/dist-packages/keras/backend/tensorflow_backend.py:517: The name tf.placeholder is deprecated. Please use tf.compat.v1.placeholder instead.\n",
            "\n",
            "W0803 07:53:12.544142 140462352267136 deprecation_wrapper.py:119] From /usr/local/lib/python3.6/dist-packages/keras/backend/tensorflow_backend.py:4138: The name tf.random_uniform is deprecated. Please use tf.random.uniform instead.\n",
            "\n"
          ],
          "name": "stderr"
        },
        {
          "output_type": "stream",
          "text": [
            "====> Model Specific data\n",
            "====> Height, Width, Channels : 512 512 3\n"
          ],
          "name": "stdout"
        },
        {
          "output_type": "stream",
          "text": [
            "W0803 07:53:12.994009 140462352267136 deprecation_wrapper.py:119] From /usr/local/lib/python3.6/dist-packages/keras/backend/tensorflow_backend.py:1834: The name tf.nn.fused_batch_norm is deprecated. Please use tf.compat.v1.nn.fused_batch_norm instead.\n",
            "\n"
          ],
          "name": "stderr"
        }
      ]
    },
    {
      "cell_type": "markdown",
      "metadata": {
        "colab_type": "text",
        "id": "FfC4yNb_uCdT"
      },
      "source": [
        "#### Write code to freeze all the layers in the above model with names not having ''`detection`'' word as prefix."
      ]
    },
    {
      "cell_type": "code",
      "metadata": {
        "id": "lj0qlkOhJpeQ",
        "colab_type": "code",
        "colab": {}
      },
      "source": [
        "ALPHA = 1.0 # Width hyper parameter for MobileNet (0.25, 0.5, 0.75, 1.0). Higher width means more accurate but slower\n",
        "\n",
        "IMAGE_SIZE = 128 # Image sizes can vary (128, 160, 192, 224). MobileNetV2 can also take 96\n",
        "\n",
        "EPOCHS = 5 # Number of epochs. I got decent performance with just 5.\n",
        "BATCH_SIZE = 8 # Depends on your GPU or CPU RAM.\n",
        "PATIENCE = 50 # Patience for early stopping\n",
        "\n",
        "MULTI_PROCESSING = False # I have a 2 core computer without GPU\n",
        "THREADS = 1 # I have a 2 core computer without GPU\n"
      ],
      "execution_count": 0,
      "outputs": []
    },
    {
      "cell_type": "code",
      "metadata": {
        "id": "Tw3zh8JU_iJo",
        "colab_type": "code",
        "colab": {}
      },
      "source": [
        "def create_model(trainable=True):\n",
        "    model = MobileNet(input_shape=(IMAGE_SIZE, IMAGE_SIZE, 3), include_top=False, alpha=ALPHA) # Load pre-trained mobilenet\n",
        "    # Do not include classification (top) layer\n",
        "\n",
        "    # to freeze layers, except the new top layer, of course, which will be added below\n",
        "    for layer in model.layers:\n",
        "        layer.trainable = trainable\n",
        "\n",
        "    # Add new top layer which is a conv layer of the same size as the previous layer so that only 4 coords of BBox can be output\n",
        "    x = model.layers[-1].output\n",
        "    x = Conv2D(4, kernel_size=4, name=\"coords\")(x)\n",
        "    # In the line above kernel size should be 3 for img size 96, 4 for img size 128, 5 for img size 160 etc.\n",
        "    x = Reshape((4,))(x) # These are the 4 predicted coordinates of one BBox\n",
        "\n",
        "    return Model(inputs=model.input, outputs=x)"
      ],
      "execution_count": 0,
      "outputs": []
    },
    {
      "cell_type": "markdown",
      "metadata": {
        "colab_type": "text",
        "id": "n1IIGWM2c3x-"
      },
      "source": [
        "### After making the model ready for transfer learning, load the weights of the model given in file ''`mobilenet_1_0_224_tf.h5`''"
      ]
    },
    {
      "cell_type": "code",
      "metadata": {
        "id": "tKAnI8IfFpix",
        "colab_type": "code",
        "colab": {}
      },
      "source": [
        "checkpoint = ModelCheckpoint(\"mobilenet_1_0_224_tf.h5\", monitor=\"val_iou\", verbose=1, save_best_only=True,\n",
        "                             save_weights_only=True, mode=\"max\", period=1)"
      ],
      "execution_count": 0,
      "outputs": []
    },
    {
      "cell_type": "markdown",
      "metadata": {
        "colab_type": "text",
        "id": "73KNzDSCf6Rh"
      },
      "source": [
        "#### Using the functions given in the model, we are trying to divide the dataset into train and validation samples. Run the below code."
      ]
    },
    {
      "cell_type": "code",
      "metadata": {
        "colab_type": "code",
        "id": "4_pZEU8TfBoR",
        "outputId": "1c3aee1b-5c93-4acd-9e74-65df97010b12",
        "colab": {
          "base_uri": "https://localhost:8080/",
          "height": 218
        }
      },
      "source": [
        "batch_size = 32\n",
        "ssd_box_encoder = SSDBoxEncoder(img_height=img_height,\n",
        "                                img_width=img_width,\n",
        "                                n_classes=n_classes, \n",
        "                                predictor_sizes=predictor_sizes,\n",
        "                                min_scale=None,\n",
        "                                max_scale=None,\n",
        "                                scales=scales,\n",
        "                                aspect_ratios_global=None,\n",
        "                                aspect_ratios_per_layer=aspect_ratios,\n",
        "                                two_boxes_for_ar1=two_boxes_for_ar1,\n",
        "                                limit_boxes=limit_boxes,\n",
        "                                variances=variances,\n",
        "                                pos_iou_threshold=0.5,\n",
        "                                neg_iou_threshold=0.2,\n",
        "                                coords=coords,\n",
        "                                normalize_coords=normalize_coords)\n",
        "\n",
        "train_dataset = BatchGenerator(images_path=train_data, \n",
        "                include_classes='all', \n",
        "                box_output_format = ['class_id', 'xmin', 'xmax', 'ymin', 'ymax'])\n",
        "\n",
        "print (\"==>TRAINING DATA\")\n",
        "print (\"==> Parsing XML files ...\")\n",
        "\n",
        "train_dataset.parse_xml(\n",
        "                  annotations_path=train_data,\n",
        "                  image_set_path='None',\n",
        "                  image_set='None',\n",
        "                  classes = class_names, \n",
        "                  exclude_truncated=False,\n",
        "                  exclude_difficult=False,\n",
        "                  ret=False, \n",
        "                  debug = False)\n",
        "print(\"==>Parsing XML Finished.\")\n",
        "\n",
        "print (\"==>Generate training batches...\")\n",
        "train_generator = train_dataset.generate(\n",
        "                 batch_size=batch_size,\n",
        "                 train=True,\n",
        "                 ssd_box_encoder=ssd_box_encoder,\n",
        "                 equalize=True,\n",
        "                 brightness=(0.5,2,0.5),\n",
        "                 flip=0.5,\n",
        "                 translate=((0, 20), (0, 30), 0.5),\n",
        "                 scale=(0.75, 1.2, 0.5),\n",
        "                 crop=False,\n",
        "                 #random_crop = (img_height,img_width,1,3), \n",
        "                 random_crop=False,\n",
        "                 resize=(img_height, img_width),\n",
        "                 #resize=False,\n",
        "                 gray=False,\n",
        "                 limit_boxes=True,\n",
        "                 include_thresh=0.4,\n",
        "                 diagnostics=False)\n",
        "\n",
        "print (\"==>Training batch generation complete\")\n",
        "\n",
        "n_train_samples = train_dataset.get_n_samples()\n",
        "\n",
        "print (\"==>Total number of training samples = {}\".format(n_train_samples))\n",
        "\n",
        "# Now repeat above steps for validation data \n",
        "\n",
        "print (\"==>VALIDATION\")\n",
        "\n",
        "val_dataset = BatchGenerator(images_path=test_data, include_classes='all', \n",
        "                box_output_format = ['class_id', 'xmin', 'xmax', 'ymin', 'ymax'])\n",
        "\n",
        "print (\"==> Parsing XML files ...\")\n",
        "\n",
        "\n",
        "val_dataset.parse_xml(\n",
        "                  annotations_path=test_data,\n",
        "                  image_set_path='None',\n",
        "                  image_set='None',\n",
        "                  classes = class_names, \n",
        "                  exclude_truncated=False,\n",
        "                  exclude_difficult=False,\n",
        "                  ret=False, \n",
        "                  debug = False)\n",
        "\n",
        "\n",
        "print(\"==>Parsing XML Finished.\")\n",
        "\n",
        "\n",
        "print (\"==>Generate training batches...\")\n",
        "val_generator = val_dataset.generate(\n",
        "                 batch_size=batch_size,\n",
        "                 train=True,\n",
        "                 ssd_box_encoder=ssd_box_encoder,\n",
        "                 equalize=False,\n",
        "                 brightness=False,\n",
        "                 flip=False,\n",
        "                 translate=False,\n",
        "                 scale=False,\n",
        "                 crop=False,\n",
        "                 #random_crop = (img_height,img_width,1,3), \n",
        "                 random_crop=False, \n",
        "                 resize=(img_height, img_width), \n",
        "                 #resize=False, \n",
        "                 gray=False,\n",
        "                 limit_boxes=True,\n",
        "                 include_thresh=0.4,\n",
        "                 diagnostics=False)\n",
        "\n",
        "\n",
        "print (\"==>Training batch generation complete\")\n",
        "\n",
        "n_val_samples = val_dataset.get_n_samples()\n",
        "\n",
        "print (\"==>Total number of validation samples = {}\".format(n_val_samples))"
      ],
      "execution_count": 0,
      "outputs": [
        {
          "output_type": "stream",
          "text": [
            "==>TRAINING DATA\n",
            "==> Parsing XML files ...\n",
            "==>Parsing XML Finished.\n",
            "==>Generate training batches...\n",
            "==>Training batch generation complete\n",
            "==>Total number of training samples = 128\n",
            "==>VALIDATION\n",
            "==> Parsing XML files ...\n",
            "==>Parsing XML Finished.\n",
            "==>Generate training batches...\n",
            "==>Training batch generation complete\n",
            "==>Total number of validation samples = 60\n"
          ],
          "name": "stdout"
        }
      ]
    },
    {
      "cell_type": "markdown",
      "metadata": {
        "colab_type": "text",
        "id": "4KtkdFTQhKlE"
      },
      "source": [
        "### Now, lets setup things for training by initilaizing required variables like learning rate, epochs, optimizer and loss function(SSDLoss) to compile the model"
      ]
    },
    {
      "cell_type": "code",
      "metadata": {
        "colab_type": "code",
        "id": "g1-3OOPmgmxk",
        "outputId": "901aa924-898c-4b58-d9c9-f82973f46dbd",
        "colab": {
          "base_uri": "https://localhost:8080/",
          "height": 222
        }
      },
      "source": [
        "# setting up training \n",
        "\n",
        "# batch_size and no.of epochs\n",
        "\n",
        "batch_size = 16\n",
        "num_epochs = 10\n",
        "\n",
        "#Learning rate\n",
        "base_lr = 0.002\n",
        "\n",
        "# Optimizer\n",
        "adam = Adam(lr=base_lr, beta_1=0.9, beta_2=0.999, epsilon=1e-6, decay = 0.0)\n",
        "\n",
        "# Loss\n",
        "ssd_loss = SSDLoss(neg_pos_ratio=2, n_neg_min=0, alpha=1.0, beta = 1.0)\n",
        "\n",
        "# Compile\n",
        "model.compile(optimizer=adam, loss=ssd_loss.compute_loss)"
      ],
      "execution_count": 0,
      "outputs": [
        {
          "output_type": "stream",
          "text": [
            "W0803 07:53:42.845955 140462352267136 deprecation_wrapper.py:119] From /usr/local/lib/python3.6/dist-packages/keras/optimizers.py:790: The name tf.train.Optimizer is deprecated. Please use tf.compat.v1.train.Optimizer instead.\n",
            "\n",
            "W0803 07:53:42.869299 140462352267136 deprecation.py:323] From /content/keras_ssd_loss.py:129: to_float (from tensorflow.python.ops.math_ops) is deprecated and will be removed in a future version.\n",
            "Instructions for updating:\n",
            "Use `tf.cast` instead.\n",
            "W0803 07:53:42.886454 140462352267136 deprecation.py:323] From /content/keras_ssd_loss.py:76: add_dispatch_support.<locals>.wrapper (from tensorflow.python.ops.array_ops) is deprecated and will be removed in a future version.\n",
            "Instructions for updating:\n",
            "Use tf.where in 2.0, which has the same broadcast rule as np.where\n",
            "W0803 07:53:42.905636 140462352267136 deprecation.py:323] From /content/keras_ssd_loss.py:162: to_int32 (from tensorflow.python.ops.math_ops) is deprecated and will be removed in a future version.\n",
            "Instructions for updating:\n",
            "Use `tf.cast` instead.\n"
          ],
          "name": "stderr"
        }
      ]
    },
    {
      "cell_type": "markdown",
      "metadata": {
        "colab_type": "text",
        "id": "vt_RxSHJitPR"
      },
      "source": [
        "### Lets add early stopping and model checkpoint layers on validation loss with some patience values and using fit_generator function to train the model on data generated batch-by-batch by a Python generator, `train_generator` object as generator.\n",
        "\n",
        "\n",
        "We are using checkpoint to save the best model based on validation accuracy."
      ]
    },
    {
      "cell_type": "code",
      "metadata": {
        "id": "C0F6S3vQKdsf",
        "colab_type": "code",
        "colab": {}
      },
      "source": [
        "model.fit_generator(generator=train_datagen,\n",
        "                    epochs=EPOCHS,\n",
        "                    callbacks=[validation_datagen, checkpoint, reduce_lr, stop],\n",
        "                    workers=THREADS,\n",
        "                    use_multiprocessing=MULTI_PROCESSING,\n",
        "                    shuffle=True,\n",
        "                    verbose=1)"
      ],
      "execution_count": 0,
      "outputs": []
    },
    {
      "cell_type": "markdown",
      "metadata": {
        "colab_type": "text",
        "id": "ugJ68M7_vDqy"
      },
      "source": [
        "#### Write code for early_stopping and model_checkpoint layers. Using model.fit_generator train the model and save the best weight file."
      ]
    },
    {
      "cell_type": "code",
      "metadata": {
        "colab_type": "code",
        "id": "EeO-T9jwi8be",
        "colab": {}
      },
      "source": [
        "\n",
        "stop = EarlyStopping(monitor=\"val_iou\", patience=PATIENCE, mode=\"max\")"
      ],
      "execution_count": 0,
      "outputs": []
    },
    {
      "cell_type": "markdown",
      "metadata": {
        "colab_type": "text",
        "id": "U3FHrp77jdOx"
      },
      "source": [
        "### Load the best saved model from above step and check predictions for test data using test_generator object to generate batches."
      ]
    },
    {
      "cell_type": "markdown",
      "metadata": {
        "colab_type": "text",
        "id": "S7eP30cxvcEA"
      },
      "source": [
        "#### Write code in the below cell to load best saved model in the above step."
      ]
    },
    {
      "cell_type": "code",
      "metadata": {
        "colab_type": "code",
        "id": "nh7tMrxFjR4B",
        "colab": {}
      },
      "source": [
        ""
      ],
      "execution_count": 0,
      "outputs": []
    },
    {
      "cell_type": "markdown",
      "metadata": {
        "colab_type": "text",
        "id": "6dD7q7pzqvnh"
      },
      "source": [
        "### Use the below function to plot the boundingbox in the test image to show the predictions."
      ]
    },
    {
      "cell_type": "code",
      "metadata": {
        "colab_type": "code",
        "id": "h89fe5NGqwI9",
        "colab": {}
      },
      "source": [
        "def save_bb(path, filename, results, prediction=True):\n",
        "  \n",
        "  # print filename\n",
        "\n",
        "  img = image.load_img(filename, target_size=(img_height, img_width))\n",
        "  img = image.img_to_array(img)\n",
        "\n",
        "  filename = filename.split(\"/\")[-1]\n",
        "\n",
        "  if(not prediction):\n",
        "    filename = filename[:-4] + \"_gt\" + \".jpg\"\n",
        "\n",
        "  #fig,currentAxis = plt.subplots(1)\n",
        "  currentAxis = plt.gca()\n",
        "\n",
        " # Get detections with confidence higher than 0.6.\n",
        "  colors = plt.cm.hsv(np.linspace(0, 1, 25)).tolist()\n",
        "  color_code = min(len(results), 16)\n",
        "  print (colored(\"total number of bbs: %d\" % len(results), \"yellow\"))\n",
        "  for result in results:\n",
        "    # Parse the outputs.\n",
        "\n",
        "    if(prediction):\n",
        "      det_label = result[0]\n",
        "      det_conf = result[1]\n",
        "      det_xmin = result[2]\n",
        "      det_xmax = result[3]\n",
        "      det_ymin = result[4]\n",
        "      det_ymax = result[5]\n",
        "    else :\n",
        "      det_label = result[0]\n",
        "      det_xmin = result[1]\n",
        "      det_xmax = result[2]\n",
        "      det_ymin = result[3]\n",
        "      det_ymax = result[4]\n",
        "\n",
        "    xmin = int(det_xmin)\n",
        "    ymin = int(det_ymin)\n",
        "    xmax = int(det_xmax)\n",
        "    ymax = int(det_ymax)\n",
        "\n",
        "    if(prediction):\n",
        "      score = det_conf\n",
        "    \n",
        "    plt.imshow(img / 255.)\n",
        "    \n",
        "    label = int(int(det_label))\n",
        "    label_name = class_names[label]\n",
        "    # print label_name \n",
        "    # print label\n",
        "\n",
        "    if(prediction):\n",
        "      display_txt = '{:0.2f}'.format(score)\n",
        "    else:\n",
        "      display_txt = '{}'.format(label_name)\n",
        "\n",
        "      \n",
        "    # print (xmin, ymin, ymin, ymax)\n",
        "    coords = (xmin, ymin), (xmax-xmin), (ymax-ymin)\n",
        "    color_code = color_code-1 \n",
        "    color = colors[color_code]\n",
        "    currentAxis.add_patch(plt.Rectangle(*coords, fill=False, edgecolor=color, linewidth=2))\n",
        "    currentAxis.text(xmin, ymin, display_txt, bbox={'facecolor':color, 'alpha':0.2})\n",
        "\n",
        "  # y\n",
        "  currentAxis.axes.get_yaxis().set_visible(False)\n",
        "  # x\n",
        "  currentAxis.axes.get_xaxis().set_visible(False)\n",
        "  plt.savefig(path + filename, bbox_inches='tight')\n",
        "\n",
        "  print ('saved' , path + filename)\n",
        "\n",
        "  plt.clf()\n"
      ],
      "execution_count": 0,
      "outputs": []
    },
    {
      "cell_type": "markdown",
      "metadata": {
        "colab_type": "text",
        "id": "RrMdNhMtwE3t"
      },
      "source": [
        "#### Run the below code to create a folder with name output_test and get the predictions for the test images using model.predict()"
      ]
    },
    {
      "cell_type": "code",
      "metadata": {
        "colab_type": "code",
        "id": "1Sep0lG3vR0R",
        "colab": {}
      },
      "source": [
        "!mkdir output_test"
      ],
      "execution_count": 0,
      "outputs": []
    },
    {
      "cell_type": "code",
      "metadata": {
        "colab_type": "code",
        "id": "70s6RPuInpqo",
        "colab": {}
      },
      "source": [
        "from keras.preprocessing import image\n",
        "from matplotlib import pyplot as plt\n",
        "\n",
        "test_size = 16\n",
        "test_generator = val_dataset.generate(\n",
        "                 batch_size=test_size,\n",
        "                 train=False,\n",
        "                 ssd_box_encoder=ssd_box_encoder,\n",
        "                 equalize=False,\n",
        "                 brightness=False,\n",
        "                 flip=False,\n",
        "                 translate=False,\n",
        "                 scale=False,\n",
        "                 crop=False,\n",
        "                 #random_crop = (img_height,img_width,1,3), \n",
        "                 random_crop=False, \n",
        "                 resize=(img_height, img_width), \n",
        "                 #resize=False,\n",
        "                 gray=False,\n",
        "                 limit_boxes=True,\n",
        "                 include_thresh=0.4,\n",
        "                 diagnostics=False)\n",
        "\n",
        "print (colored(\"done.\", \"green\"))\n",
        "\n",
        "print (colored(\"now predicting...\", \"yellow\"))\n",
        "\n",
        "_CONF = 0.60 \n",
        "_IOU = 0.15\n",
        "\n",
        "for i in range(test_size):\n",
        "    X, y, filenames = next(test_generator)\n",
        "\n",
        "    y_pred = model.predict(X)\n",
        "    y_pred_decoded = decode_y2(y_pred,\n",
        "                             confidence_thresh=_CONF,\n",
        "                            iou_threshold=_IOU,\n",
        "                            top_k='all',\n",
        "                            input_coords=coords,\n",
        "                            normalize_coords=normalize_coords,\n",
        "                            img_height=img_height,\n",
        "                            img_width=img_width)\n",
        "\n",
        "\n",
        "    np.set_printoptions(suppress=True)\n",
        "\n",
        "    save_bb(\"./output_test/\", filenames[i], y_pred_decoded[i])\n",
        "    save_bb(\"./output_test/\", filenames[i], y[i], prediction=False)\n"
      ],
      "execution_count": 0,
      "outputs": []
    },
    {
      "cell_type": "markdown",
      "metadata": {
        "colab_type": "text",
        "id": "qLKgtPCJwena"
      },
      "source": [
        "In the above step all the test images along with predictions are stored in output_test folder in this notebook environment. You can check the folder in Files section of the menu to left-side of screen in colab.\n",
        "\n",
        "Each test image is used for predictions and is stored as 2 files.\n",
        "\n",
        "one file is the original ground truth with <filename_gt.jpg>\n",
        "second file is the prediction of the model on the image. with <filename.jpg>"
      ]
    },
    {
      "cell_type": "markdown",
      "metadata": {
        "colab_type": "text",
        "id": "TFzb3Vj9kDGH"
      },
      "source": [
        "### Visualize a test image to check predictions\n",
        "\n",
        "\n",
        "#### Write code to show images: Using cv2.imshow() or matplotlib show any 3 test images and their predictions."
      ]
    },
    {
      "cell_type": "code",
      "metadata": {
        "colab_type": "code",
        "id": "zA1lMnX4-edG",
        "colab": {}
      },
      "source": [
        "# Pick a test image, run model, show image, and show predicted bounding box overlaid on the image\n",
        "\n",
        "filename = \n",
        "\n",
        "unscaled = cv2.imread(filename) # Original image for display\n",
        "\n",
        "image_height, image_width, _ = unscaled.shape\n",
        "image = cv2.resize(unscaled, (IMAGE_SIZE, IMAGE_SIZE)) # Rescaled image to run the network\n",
        "feat_scaled = preprocess_input(np.array(image, dtype=np.float32))\n",
        "\n",
        "region = model.predict(x=np.array([feat_scaled]))[0] # Predict the BBox\n",
        "\n",
        "x0 = int(region[0] * image_width / IMAGE_SIZE) # Scale the BBox\n",
        "y0 = int(region[1] * image_height / IMAGE_SIZE)\n",
        "\n",
        "x1 = int((region[0] + region[2]) * image_width / IMAGE_SIZE)\n",
        "y1 = int((region[1] + region[3]) * image_height / IMAGE_SIZE)\n",
        "\n",
        "cv2.rectangle(unscaled, (x0, y0), (x1, y1), (0, 0, 255), 1) # Show the BBox\n",
        "cv2.imshow(\"image\", unscaled) # Show the image\n",
        "cv2.waitKey(0) # wait for user pressing a key\n",
        "cv2.destroyAllWindows() # Close the window"
      ],
      "execution_count": 0,
      "outputs": []
    }
  ]
}