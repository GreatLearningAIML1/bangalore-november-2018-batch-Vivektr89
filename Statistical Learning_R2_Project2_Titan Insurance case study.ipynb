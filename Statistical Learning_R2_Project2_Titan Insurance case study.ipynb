{
 "cells": [
  {
   "cell_type": "code",
   "execution_count": 1,
   "metadata": {},
   "outputs": [],
   "source": [
    "import pandas as pd\n",
    "import random\n",
    "import numpy as np\n",
    "import os\n",
    "import statistics\n",
    "from scipy import stats\n",
    "from math import sqrt\n",
    "from scipy.stats import t\n",
    "os.chdir(\"C:/Users/Bhanushree/Downloads/PGAIML/Statistics_learning\")\n",
    "bc_df = Titan = pd.read_csv(\"Titan.csv\")"
   ]
  },
  {
   "cell_type": "code",
   "execution_count": 2,
   "metadata": {},
   "outputs": [
    {
     "name": "stdout",
     "output_type": "stream",
     "text": [
      "Mean of Old Scheme is 68033.33333333333\n"
     ]
    }
   ],
   "source": [
    "μ1 = bc_df.Old_Scheme.mean()\n",
    "print('Mean of Old Scheme is',μ1)"
   ]
  },
  {
   "cell_type": "code",
   "execution_count": 3,
   "metadata": {},
   "outputs": [
    {
     "name": "stdout",
     "output_type": "stream",
     "text": [
      "Mean of New Scheme is 72033.33333333333\n"
     ]
    }
   ],
   "source": [
    "μ2 = bc_df.New_Scheme.mean()\n",
    "print('Mean of New Scheme is',μ2)"
   ]
  },
  {
   "cell_type": "code",
   "execution_count": 4,
   "metadata": {},
   "outputs": [
    {
     "name": "stdout",
     "output_type": "stream",
     "text": [
      "TStat Value is  1.5559143823544377\n",
      "P Value is  0.06528776980668838\n",
      "Since 0.05> 0.0652, we accept (fail to reject) NULL hypothesis. The new scheme has NOT significantly raised outputs.\n"
     ]
    }
   ],
   "source": [
    "#Null Hypothesis : There is no significant difference in sales with the new scheme\n",
    "#Alternate Hypothesis : There is a significant difference in sales with the new scheme\n",
    "#μ1 = Average sums assured by salesperson BEFORE changeover. μ2 = Average sums assured by salesperson AFTER changeover.\n",
    "#H0: μ1 = μ2  ; μ2 – μ1  = 0\n",
    "#HA: μ1 < μ2   ; μ2 – μ1  > 0 ; true difference of means is greater than zero.\n",
    "from scipy.stats import ttest_rel\n",
    "N = len(bc_df) #this is the sample size \n",
    "df = N-1\n",
    "tstat,p = ttest_rel(bc_df.New_Scheme, bc_df.Old_Scheme)\n",
    "print('TStat Value is ',tstat)\n",
    "pvalue = 1-(stats.t.cdf(tstat,df))\n",
    "print('P Value is ',pvalue)\n",
    "print ('Since 0.05> 0.0652, we accept (fail to reject) NULL hypothesis. The new scheme has NOT significantly raised outputs.')"
   ]
  },
  {
   "cell_type": "code",
   "execution_count": 5,
   "metadata": {},
   "outputs": [
    {
     "name": "stdout",
     "output_type": "stream",
     "text": [
      "alpha which is the probability of a type 1 error is 0.05\n"
     ]
    }
   ],
   "source": [
    "# What is the p-value of the hypothesis test if we test for a difference of $5000\n",
    "#Let  μ2 = Average sums assured by salesperson AFTER changeover.\n",
    "\n",
    "#μ1 = Average sums assured by salesperson BEFORE changeover.\n",
    "\n",
    "#μd = μ2 – μ1   H0: μd ≤ 5000  HA: μd > 5000\n",
    "alpha = 0.05\n",
    "print('alpha which is the probability of a type 1 error is 0.05')"
   ]
  },
  {
   "cell_type": "code",
   "execution_count": 6,
   "metadata": {},
   "outputs": [
    {
     "name": "stdout",
     "output_type": "stream",
     "text": [
      "Critical Value of T is 1.6991270265334972\n"
     ]
    }
   ],
   "source": [
    "# define critical value T.\n",
    "p = 1- alpha\n",
    "value = t.ppf(p, df)\n",
    "print('Critical Value of T is',value)"
   ]
  },
  {
   "cell_type": "code",
   "execution_count": 10,
   "metadata": {},
   "outputs": [
    {
     "data": {
      "text/plain": [
       "0.09032058913876151"
      ]
     },
     "execution_count": 10,
     "metadata": {},
     "output_type": "execute_result"
    }
   ],
   "source": [
    "#H0(null hypothesis): μd ≤ 5000  HA(Alternate Hypothesis): μd > 5000\n",
    "xbar_1 = μ1\n",
    "mu = xbar_1 + 5000\n",
    "sd = statistics.stdev(bc_df.Old_Scheme)\n",
    "n = 30\n",
    "se = sd/sqrt(n)\n",
    "z = (mu-xbar_1)/se\n",
    "p = 1- stats.norm.cdf(z)\n",
    "p"
   ]
  },
  {
   "cell_type": "code",
   "execution_count": 11,
   "metadata": {},
   "outputs": [
    {
     "name": "stdout",
     "output_type": "stream",
     "text": [
      "Power of Test is 0.40379725247943166\n"
     ]
    }
   ],
   "source": [
    "# c) Power of the test\n",
    "μ0 = 0\n",
    "μd = 5000\n",
    "titandiff = bc_df.New_Scheme - bc_df.Old_Scheme\n",
    "SE = statistics.stdev(titandiff)/sqrt(N)\n",
    "xbar = μ0 + value*SE\n",
    "t_stat = (xbar-μd)/SE\n",
    "p = (stats.t.cdf(t_stat,df=df))\n",
    "print('Power of Test is',p)"
   ]
  }
 ],
 "metadata": {
  "kernelspec": {
   "display_name": "Python 3",
   "language": "python",
   "name": "python3"
  },
  "language_info": {
   "codemirror_mode": {
    "name": "ipython",
    "version": 3
   },
   "file_extension": ".py",
   "mimetype": "text/x-python",
   "name": "python",
   "nbconvert_exporter": "python",
   "pygments_lexer": "ipython3",
   "version": "3.7.0"
  }
 },
 "nbformat": 4,
 "nbformat_minor": 2
}
