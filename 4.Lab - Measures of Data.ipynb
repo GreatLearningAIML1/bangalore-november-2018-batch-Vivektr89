{
 "cells": [
  {
   "cell_type": "markdown",
   "metadata": {},
   "source": [
    "## Lab Brief - Statistical Learning with Python"
   ]
  },
  {
   "cell_type": "markdown",
   "metadata": {},
   "source": [
    "### Part-1"
   ]
  },
  {
   "cell_type": "markdown",
   "metadata": {},
   "source": [
    "## Measures of Data"
   ]
  },
  {
   "cell_type": "markdown",
   "metadata": {},
   "source": [
    "Descriptive Statistcs are measures that summarize important features of data. Producing these descriptive statistics is a common first step to take after cleaning and preparing a dataset for further analysis. Examples are like calculating Mean or Median. In this lab, we will be looking into some of these functions and explore several new ones."
   ]
  },
  {
   "cell_type": "markdown",
   "metadata": {},
   "source": [
    "#### Measures of Central Tendency"
   ]
  },
  {
   "cell_type": "markdown",
   "metadata": {},
   "source": [
    "Whenever you measure things of the same kind, a fairly large number of such measurements will tend to cluster around the middle value. Such a value is called a measure of \"Central Tendency\". The other terms that are used synonymously are \"Measures of Location\", or \"Statistical Averages\". "
   ]
  },
  {
   "cell_type": "code",
   "execution_count": 3,
   "metadata": {},
   "outputs": [],
   "source": [
    "import numpy as np\n",
    "import pandas as pd\n",
    "import matplotlib.pyplot as plt\n",
    "\n",
    "mtcars = pd.read_csv('mtcars.csv')"
   ]
  },
  {
   "cell_type": "markdown",
   "metadata": {},
   "source": [
    "##### Using the mtcars dataset.\n",
    "\n",
    "For the below set of questions, we will be using the cars data from [Motor Trend Car Road Tests](http://stat.ethz.ch/R-manual/R-devel/library/datasets/html/mtcars.html)\n",
    "\n",
    "The data was extracted from the 1974 Motor Trend US magazine, and comprises fuel consumption and 10 aspects of automobile design and performance for 32 automobiles (1973–74 models). \n",
    "\n",
    "\n",
    "Details :\n",
    "    \n",
    "A data frame with 32 observations on 11 (numeric) variables.\n",
    "\n",
    "[, 1] \tmpg \tMiles/(US) gallon\n",
    "\n",
    "[, 2] \tcyl \tNumber of cylinders\n",
    "\n",
    "[, 3] \tdisp \tDisplacement (cu.in.)\n",
    "\n",
    "[, 4] \thp \tGross horsepower\n",
    "\n",
    "[, 5] \tdrat \tRear axle ratio\n",
    "\n",
    "[, 6] \twt \tWeight (1000 lbs)\n",
    "\n",
    "[, 7] \tqsec \t1/4 mile time\n",
    "\n",
    "[, 8] \tvs \tEngine (0 = V-shaped, 1 = straight)\n",
    "\n",
    "[, 9] \tam \tTransmission (0 = automatic, 1 = manual)\n",
    "\n",
    "[,10] \tgear \tNumber of forward gears\n",
    "\n",
    "[,11] \tcarb \tNumber of carburetors "
   ]
  },
  {
   "cell_type": "markdown",
   "metadata": {},
   "source": [
    "#### Explore the data - Setting the index"
   ]
  },
  {
   "cell_type": "code",
   "execution_count": 4,
   "metadata": {},
   "outputs": [
    {
     "data": {
      "text/html": [
       "<div>\n",
       "<style scoped>\n",
       "    .dataframe tbody tr th:only-of-type {\n",
       "        vertical-align: middle;\n",
       "    }\n",
       "\n",
       "    .dataframe tbody tr th {\n",
       "        vertical-align: top;\n",
       "    }\n",
       "\n",
       "    .dataframe thead th {\n",
       "        text-align: right;\n",
       "    }\n",
       "</style>\n",
       "<table border=\"1\" class=\"dataframe\">\n",
       "  <thead>\n",
       "    <tr style=\"text-align: right;\">\n",
       "      <th></th>\n",
       "      <th>name</th>\n",
       "      <th>mpg</th>\n",
       "      <th>cyl</th>\n",
       "      <th>disp</th>\n",
       "      <th>hp</th>\n",
       "      <th>drat</th>\n",
       "      <th>wt</th>\n",
       "      <th>qsec</th>\n",
       "      <th>vs</th>\n",
       "      <th>am</th>\n",
       "      <th>gear</th>\n",
       "      <th>carb</th>\n",
       "    </tr>\n",
       "    <tr>\n",
       "      <th>name</th>\n",
       "      <th></th>\n",
       "      <th></th>\n",
       "      <th></th>\n",
       "      <th></th>\n",
       "      <th></th>\n",
       "      <th></th>\n",
       "      <th></th>\n",
       "      <th></th>\n",
       "      <th></th>\n",
       "      <th></th>\n",
       "      <th></th>\n",
       "      <th></th>\n",
       "    </tr>\n",
       "  </thead>\n",
       "  <tbody>\n",
       "    <tr>\n",
       "      <th>Mazda RX4</th>\n",
       "      <td>Mazda RX4</td>\n",
       "      <td>21.0</td>\n",
       "      <td>6</td>\n",
       "      <td>160.0</td>\n",
       "      <td>110</td>\n",
       "      <td>3.90</td>\n",
       "      <td>2.620</td>\n",
       "      <td>16.46</td>\n",
       "      <td>0</td>\n",
       "      <td>1</td>\n",
       "      <td>4</td>\n",
       "      <td>4</td>\n",
       "    </tr>\n",
       "    <tr>\n",
       "      <th>Mazda RX4 Wag</th>\n",
       "      <td>Mazda RX4 Wag</td>\n",
       "      <td>21.0</td>\n",
       "      <td>6</td>\n",
       "      <td>160.0</td>\n",
       "      <td>110</td>\n",
       "      <td>3.90</td>\n",
       "      <td>2.875</td>\n",
       "      <td>17.02</td>\n",
       "      <td>0</td>\n",
       "      <td>1</td>\n",
       "      <td>4</td>\n",
       "      <td>4</td>\n",
       "    </tr>\n",
       "    <tr>\n",
       "      <th>Datsun 710</th>\n",
       "      <td>Datsun 710</td>\n",
       "      <td>22.8</td>\n",
       "      <td>4</td>\n",
       "      <td>108.0</td>\n",
       "      <td>93</td>\n",
       "      <td>3.85</td>\n",
       "      <td>2.320</td>\n",
       "      <td>18.61</td>\n",
       "      <td>1</td>\n",
       "      <td>1</td>\n",
       "      <td>4</td>\n",
       "      <td>1</td>\n",
       "    </tr>\n",
       "    <tr>\n",
       "      <th>Hornet 4 Drive</th>\n",
       "      <td>Hornet 4 Drive</td>\n",
       "      <td>21.4</td>\n",
       "      <td>6</td>\n",
       "      <td>258.0</td>\n",
       "      <td>110</td>\n",
       "      <td>3.08</td>\n",
       "      <td>3.215</td>\n",
       "      <td>19.44</td>\n",
       "      <td>1</td>\n",
       "      <td>0</td>\n",
       "      <td>3</td>\n",
       "      <td>1</td>\n",
       "    </tr>\n",
       "    <tr>\n",
       "      <th>Hornet Sportabout</th>\n",
       "      <td>Hornet Sportabout</td>\n",
       "      <td>18.7</td>\n",
       "      <td>8</td>\n",
       "      <td>360.0</td>\n",
       "      <td>175</td>\n",
       "      <td>3.15</td>\n",
       "      <td>3.440</td>\n",
       "      <td>17.02</td>\n",
       "      <td>0</td>\n",
       "      <td>0</td>\n",
       "      <td>3</td>\n",
       "      <td>2</td>\n",
       "    </tr>\n",
       "  </tbody>\n",
       "</table>\n",
       "</div>"
      ],
      "text/plain": [
       "                                name   mpg  cyl   disp   hp  drat     wt  \\\n",
       "name                                                                       \n",
       "Mazda RX4                  Mazda RX4  21.0    6  160.0  110  3.90  2.620   \n",
       "Mazda RX4 Wag          Mazda RX4 Wag  21.0    6  160.0  110  3.90  2.875   \n",
       "Datsun 710                Datsun 710  22.8    4  108.0   93  3.85  2.320   \n",
       "Hornet 4 Drive        Hornet 4 Drive  21.4    6  258.0  110  3.08  3.215   \n",
       "Hornet Sportabout  Hornet Sportabout  18.7    8  360.0  175  3.15  3.440   \n",
       "\n",
       "                    qsec  vs  am  gear  carb  \n",
       "name                                          \n",
       "Mazda RX4          16.46   0   1     4     4  \n",
       "Mazda RX4 Wag      17.02   0   1     4     4  \n",
       "Datsun 710         18.61   1   1     4     1  \n",
       "Hornet 4 Drive     19.44   1   0     3     1  \n",
       "Hornet Sportabout  17.02   0   0     3     2  "
      ]
     },
     "execution_count": 4,
     "metadata": {},
     "output_type": "execute_result"
    }
   ],
   "source": [
    "mtcars.index = mtcars[\"name\"]\n",
    "mtcars.head()\n",
    "# mtcars.mean() #By default this will give the mean of each column"
   ]
  },
  {
   "cell_type": "markdown",
   "metadata": {},
   "source": [
    "### Question 1\n",
    "\n",
    "What is the first car name given in mtcars?\n",
    "\n",
    "** Make use of index which has been set previously **\n",
    "\n",
    "**Hint**: Use .loc function\n"
   ]
  },
  {
   "cell_type": "code",
   "execution_count": 5,
   "metadata": {},
   "outputs": [
    {
     "data": {
      "text/plain": [
       "'Mazda RX4'"
      ]
     },
     "execution_count": 5,
     "metadata": {},
     "output_type": "execute_result"
    }
   ],
   "source": [
    "mtcars['name'][0]"
   ]
  },
  {
   "cell_type": "markdown",
   "metadata": {},
   "source": [
    "### Question 2\n",
    "What is the highest difference between the hp and cyl?\n",
    "\n",
    "**Hint:** You can use **max()** function to find the difference"
   ]
  },
  {
   "cell_type": "code",
   "execution_count": 6,
   "metadata": {},
   "outputs": [
    {
     "data": {
      "text/plain": [
       "327"
      ]
     },
     "execution_count": 6,
     "metadata": {},
     "output_type": "execute_result"
    }
   ],
   "source": [
    "mtcars.hp.max()-mtcars.cyl.max()"
   ]
  },
  {
   "cell_type": "markdown",
   "metadata": {},
   "source": [
    "### Question 3\n",
    "What are the cars having highest weight(wt) and lowest weight(wt)?\n",
    "\n",
    "**Hint:** Use idxmax() and idxmin() to locate the row\n",
    "\n",
    "Use **.iloc** function to print the  row\n",
    "\n",
    "**Note:** Both idxmax and idxmin belong to pandas"
   ]
  },
  {
   "cell_type": "code",
   "execution_count": 7,
   "metadata": {},
   "outputs": [
    {
     "data": {
      "text/plain": [
       "name    Lincoln Continental\n",
       "mpg                    10.4\n",
       "cyl                       8\n",
       "disp                    460\n",
       "hp                      215\n",
       "drat                      3\n",
       "wt                    5.424\n",
       "qsec                  17.82\n",
       "vs                        0\n",
       "am                        0\n",
       "gear                      3\n",
       "carb                      4\n",
       "Name: Lincoln Continental, dtype: object"
      ]
     },
     "execution_count": 7,
     "metadata": {},
     "output_type": "execute_result"
    }
   ],
   "source": [
    "mtcars.loc[mtcars.wt.idxmax()]"
   ]
  },
  {
   "cell_type": "code",
   "execution_count": 8,
   "metadata": {},
   "outputs": [
    {
     "data": {
      "text/plain": [
       "name    Lotus Europa\n",
       "mpg             30.4\n",
       "cyl                4\n",
       "disp            95.1\n",
       "hp               113\n",
       "drat            3.77\n",
       "wt             1.513\n",
       "qsec            16.9\n",
       "vs                 1\n",
       "am                 1\n",
       "gear               5\n",
       "carb               2\n",
       "Name: Lotus Europa, dtype: object"
      ]
     },
     "execution_count": 8,
     "metadata": {},
     "output_type": "execute_result"
    }
   ],
   "source": [
    "mtcars.loc[mtcars.wt.idxmin()]"
   ]
  },
  {
   "cell_type": "markdown",
   "metadata": {},
   "source": [
    "### Question 4\n",
    "\n",
    "Find the mean of each row and each column in the given dataset.\n",
    "\n",
    "**Hint:** Use .mean() function. To operate on rows use **axis=0**, on columns use **axis=1**"
   ]
  },
  {
   "cell_type": "code",
   "execution_count": 9,
   "metadata": {},
   "outputs": [
    {
     "data": {
      "text/plain": [
       "name    (1.9470064700811806e-308+1.4603023323907456e-3...\n",
       "mpg                               (20.090624999999996+0j)\n",
       "cyl                                           (6.1875+0j)\n",
       "disp                              (230.72187500000004+0j)\n",
       "hp                                          (146.6875+0j)\n",
       "drat                              (3.5965625000000006+0j)\n",
       "wt                                (3.2172499999999995+0j)\n",
       "qsec                              (17.848750000000003+0j)\n",
       "vs                                            (0.4375+0j)\n",
       "am                                           (0.40625+0j)\n",
       "gear                                          (3.6875+0j)\n",
       "carb                                          (2.8125+0j)\n",
       "dtype: complex128"
      ]
     },
     "execution_count": 9,
     "metadata": {},
     "output_type": "execute_result"
    }
   ],
   "source": [
    "import numpy as np\n",
    "mtcars.mean()"
   ]
  },
  {
   "cell_type": "markdown",
   "metadata": {},
   "source": [
    "### Question 5\n",
    "\n",
    "Plot mpg values of mtcards dataframe using matplotlib.\n",
    "\n",
    "**Hint: Use plt.plot function**"
   ]
  },
  {
   "cell_type": "code",
   "execution_count": 10,
   "metadata": {},
   "outputs": [
    {
     "data": {
      "text/plain": [
       "[<matplotlib.lines.Line2D at 0x7ab12c54a8>]"
      ]
     },
     "execution_count": 10,
     "metadata": {},
     "output_type": "execute_result"
    },
    {
     "data": {
      "image/png": "[encoded data removed]",
      "text/plain": [
       "<Figure size 432x288 with 1 Axes>"
      ]
     },
     "metadata": {
      "needs_background": "light"
     },
     "output_type": "display_data"
    }
   ],
   "source": [
    "plt.plot(mtcars.mpg)"
   ]
  },
  {
   "cell_type": "markdown",
   "metadata": {},
   "source": [
    "## Part 2"
   ]
  },
  {
   "cell_type": "markdown",
   "metadata": {},
   "source": [
    "## Measures of Dispersion"
   ]
  },
  {
   "cell_type": "markdown",
   "metadata": {},
   "source": [
    "Measures of Dispersion (Spread) are statistics that describe how data varies. Measure of dispersion gives us the sense of how much the data tends to diverge from the central tendency."
   ]
  },
  {
   "cell_type": "markdown",
   "metadata": {},
   "source": [
    "### Question 6\n",
    "\n",
    "What the range of `mpg` in the given dataset?\n",
    "\n",
    "**Hint:** Range = max-min"
   ]
  },
  {
   "cell_type": "code",
   "execution_count": 11,
   "metadata": {},
   "outputs": [
    {
     "data": {
      "text/plain": [
       "23.5"
      ]
     },
     "execution_count": 11,
     "metadata": {},
     "output_type": "execute_result"
    }
   ],
   "source": [
    "mtcars.mpg.max()-mtcars.mpg.min()"
   ]
  },
  {
   "cell_type": "markdown",
   "metadata": {},
   "source": [
    "### Question 7\n",
    "\n",
    "Calculate the 25th quantile (lower quantile)for `mpg` in the given dataset.\n",
    "\n",
    "**Hint:** Use **.quantile()**"
   ]
  },
  {
   "cell_type": "code",
   "execution_count": 12,
   "metadata": {},
   "outputs": [
    {
     "data": {
      "text/plain": [
       "mpg      15.42500\n",
       "cyl       4.00000\n",
       "disp    120.82500\n",
       "hp       96.50000\n",
       "drat      3.08000\n",
       "wt        2.58125\n",
       "qsec     16.89250\n",
       "vs        0.00000\n",
       "am        0.00000\n",
       "gear      3.00000\n",
       "carb      2.00000\n",
       "Name: 0.25, dtype: float64"
      ]
     },
     "execution_count": 12,
     "metadata": {},
     "output_type": "execute_result"
    }
   ],
   "source": [
    "mtcars.quantile(0.25)"
   ]
  },
  {
   "cell_type": "markdown",
   "metadata": {},
   "source": [
    "### Question 8\n",
    "\n",
    "Calculate the Inter-Quartile Range(IQR) for `mpg` in the given dataset."
   ]
  },
  {
   "cell_type": "markdown",
   "metadata": {},
   "source": [
    "Interquartile range (IQR) is another common measure of spread. IQR is the distance between the 3rd quartile and the 1st quartile.\n",
    "\n",
    "**Hint:** IQR = Q3 - Q1"
   ]
  },
  {
   "cell_type": "code",
   "execution_count": 13,
   "metadata": {},
   "outputs": [
    {
     "data": {
      "text/plain": [
       "7.375"
      ]
     },
     "execution_count": 13,
     "metadata": {},
     "output_type": "execute_result"
    }
   ],
   "source": [
    "mtcars.mpg.quantile(0.75)-mtcars.mpg.quantile(0.25)"
   ]
  },
  {
   "cell_type": "markdown",
   "metadata": {},
   "source": [
    "### Question 9\n",
    "\n",
    "Calculate the Variance, Standard Deviation and Median Absolute Deviation for `mpg`."
   ]
  },
  {
   "cell_type": "markdown",
   "metadata": {},
   "source": [
    "Variance and Standard Deviation are two other common measure of dispersion.\n",
    "\n",
    "**Hint:** Use .var() and .std()"
   ]
  },
  {
   "cell_type": "markdown",
   "metadata": {},
   "source": [
    "**Hint:** Median Absolute Deviation - alternative measure of spread based on the median. It is the median of the absolute value of the deviations from the median. "
   ]
  },
  {
   "cell_type": "code",
   "execution_count": 14,
   "metadata": {},
   "outputs": [
    {
     "data": {
      "text/plain": [
       "mpg        36.324103\n",
       "cyl         3.189516\n",
       "disp    15360.799829\n",
       "hp       4700.866935\n",
       "drat        0.285881\n",
       "wt          0.957379\n",
       "qsec        3.193166\n",
       "vs          0.254032\n",
       "am          0.248992\n",
       "gear        0.544355\n",
       "carb        2.608871\n",
       "dtype: float64"
      ]
     },
     "execution_count": 14,
     "metadata": {},
     "output_type": "execute_result"
    }
   ],
   "source": [
    "mtcars.var()"
   ]
  },
  {
   "cell_type": "code",
   "execution_count": 15,
   "metadata": {},
   "outputs": [
    {
     "data": {
      "text/plain": [
       "mpg       6.026948\n",
       "cyl       1.785922\n",
       "disp    123.938694\n",
       "hp       68.562868\n",
       "drat      0.534679\n",
       "wt        0.978457\n",
       "qsec      1.786943\n",
       "vs        0.504016\n",
       "am        0.498991\n",
       "gear      0.737804\n",
       "carb      1.615200\n",
       "dtype: float64"
      ]
     },
     "execution_count": 15,
     "metadata": {},
     "output_type": "execute_result"
    }
   ],
   "source": [
    "mtcars.std()"
   ]
  },
  {
   "cell_type": "code",
   "execution_count": 18,
   "metadata": {},
   "outputs": [
    {
     "data": {
      "text/plain": [
       "mpg       4.714453\n",
       "cyl       1.585938\n",
       "disp    108.785742\n",
       "hp       56.480469\n",
       "drat      0.453242\n",
       "wt        0.730187\n",
       "qsec      1.376172\n",
       "vs        0.492188\n",
       "am        0.482422\n",
       "gear      0.644531\n",
       "carb      1.300781\n",
       "dtype: float64"
      ]
     },
     "execution_count": 18,
     "metadata": {},
     "output_type": "execute_result"
    }
   ],
   "source": [
    "mtcars.mad()"
   ]
  },
  {
   "cell_type": "markdown",
   "metadata": {},
   "source": [
    "## Part 3"
   ]
  },
  {
   "cell_type": "markdown",
   "metadata": {},
   "source": [
    "## Probability Distributions"
   ]
  },
  {
   "cell_type": "markdown",
   "metadata": {},
   "source": [
    "The probability distribution describes how a random variable is distributed. It tells us which values a variable is most likely to take on and which values are less likely to take on. "
   ]
  },
  {
   "cell_type": "markdown",
   "metadata": {},
   "source": [
    "Each value in the given range is equally likely to occur. "
   ]
  },
  {
   "cell_type": "code",
   "execution_count": 16,
   "metadata": {},
   "outputs": [],
   "source": [
    "import scipy.stats as stats # Many functions for probability distributions in python are in scipy.stats"
   ]
  },
  {
   "cell_type": "markdown",
   "metadata": {},
   "source": [
    "### Question 10\n",
    "\n",
    "Generate 1000 datapoints with standard normal distribution with mean 0 and standard deviation 1. "
   ]
  },
  {
   "cell_type": "markdown",
   "metadata": {},
   "source": [
    "#### Normal Distribution"
   ]
  },
  {
   "cell_type": "markdown",
   "metadata": {},
   "source": [
    "The normal or Gaussian Distribution is a continuos probability distribution given by a symmetric bell shaped curve. It is defined its center(mean) and spread(std)."
   ]
  },
  {
   "cell_type": "markdown",
   "metadata": {},
   "source": [
    "The bulk of the observations generated from a normal distribution lie near the mean which lies at the center. About 68% of the data lies within 1 std, 95% lies within 2 stds and 99.7% lies within 3 stds.\n",
    "\n",
    "**Hint:** You can use **np.random.normal()** function to generate normal distribution"
   ]
  },
  {
   "cell_type": "code",
   "execution_count": 21,
   "metadata": {},
   "outputs": [
    {
     "data": {
      "text/plain": [
       "array([-1.41059125e+00,  4.08005337e-01,  8.79404191e-01,  9.72347746e-01,\n",
       "       -2.96749658e-01, -4.36122135e-01, -6.00640753e-01, -1.47536301e-01,\n",
       "        5.07682535e-01, -1.32028567e+00,  2.02126139e+00,  3.72180104e-01,\n",
       "       -1.07264592e+00, -8.00687556e-01, -3.06549084e-01,  9.92258294e-01,\n",
       "        4.93188017e-01,  4.20120852e-01, -1.83980516e+00,  6.57026073e-01,\n",
       "        2.95874555e-01, -1.11695186e+00, -1.42173313e+00, -4.10578133e-01,\n",
       "        1.84944449e+00, -2.23743249e+00, -5.90351489e-01, -1.13434958e-01,\n",
       "        5.71179284e-01,  1.34120214e-01, -2.13577416e-01, -9.44809836e-01,\n",
       "       -5.00490891e-01, -3.04400982e-01, -7.28925886e-01,  4.13126003e-01,\n",
       "       -1.13188064e+00,  1.91001745e+00,  1.18705043e-01, -1.44598453e+00,\n",
       "       -1.37403045e+00, -3.58832349e-01,  2.34635250e-01,  1.30503766e+00,\n",
       "       -1.08919657e+00, -1.81624974e+00, -1.67693428e+00,  2.80970916e-01,\n",
       "       -1.13019636e+00,  8.45352791e-01, -2.06118464e-01,  4.98102821e-01,\n",
       "       -6.52841254e-01, -2.92838833e+00, -6.49083157e-01,  6.52508739e-01,\n",
       "       -2.26271266e-01,  3.03085041e-01,  7.37293185e-01, -4.22259308e-01,\n",
       "        1.66393100e-01,  2.97895241e-01, -6.33140201e-02, -7.01551398e-01,\n",
       "       -1.10777668e+00, -8.78869181e-01,  3.90254885e-01, -9.07145349e-02,\n",
       "       -2.69894233e-01,  1.25437087e-01, -6.77103998e-01,  1.79693233e-01,\n",
       "        2.29704454e-01, -3.94375569e-01,  9.67240253e-01,  1.95689269e-01,\n",
       "        3.59260552e-01,  2.24105611e-01,  3.03792923e-01, -1.10588774e+00,\n",
       "        1.92531712e-01,  3.31274574e-01,  8.43856456e-01,  6.50805128e-01,\n",
       "        3.57524054e-01,  1.53627307e+00, -6.30642900e-01, -1.46201803e+00,\n",
       "       -5.89777808e-01,  4.36870714e-01, -2.33992878e-01,  1.17239579e+00,\n",
       "        5.19377117e-01,  7.56369332e-01, -1.05209894e+00,  8.04212010e-01,\n",
       "       -6.66157097e-01,  2.01158099e-01, -6.07610774e-02, -3.16580355e-02,\n",
       "       -6.38780333e-01,  2.15342413e-01, -7.55422404e-02, -9.54637588e-01,\n",
       "       -1.05278376e+00,  2.74561457e-01, -3.27893002e-01,  6.94569322e-01,\n",
       "       -1.88792504e+00,  7.42556953e-01, -1.57508508e+00, -3.69074295e-03,\n",
       "       -8.43961647e-01,  8.92841363e-01, -9.54702132e-01, -9.77325967e-01,\n",
       "       -2.67405203e-01, -2.37704038e-02,  1.15301291e+00,  3.99707176e-01,\n",
       "       -8.95779983e-01, -7.18728577e-01,  6.23093240e-01, -8.34490678e-01,\n",
       "        5.66730844e-01, -9.73319269e-01, -4.48722872e-01, -6.58282994e-01,\n",
       "        2.11478515e-01, -2.56394224e-01, -1.40756450e+00,  1.71458205e+00,\n",
       "       -1.11379454e-01,  8.09702419e-01,  4.94421286e-01,  1.04277730e+00,\n",
       "       -1.58241232e+00, -3.95241147e-01,  4.75333042e-01, -9.39710935e-02,\n",
       "        1.40638606e+00,  7.71687714e-01, -1.73669807e-01,  6.23557879e-01,\n",
       "       -1.22594162e+00, -9.86984128e-01,  3.50239323e-01, -4.48488797e-01,\n",
       "       -1.39331332e+00, -7.48945665e-03, -1.88062194e+00, -4.37482055e-01,\n",
       "       -1.01965665e+00,  8.64802000e-01,  6.67911228e-01, -1.50651028e+00,\n",
       "       -1.03640731e+00, -1.43504565e+00, -9.33844294e-01,  4.04041656e-01,\n",
       "       -8.76094601e-01, -3.37909079e-01, -1.44137358e+00,  9.68515734e-01,\n",
       "       -4.95035801e-01, -9.58410940e-01,  6.66200721e-01, -3.24723461e-01,\n",
       "       -1.72250726e-01,  1.14724372e+00, -1.05115455e+00,  1.56167963e+00,\n",
       "       -3.29107376e-01,  5.78996768e-01,  3.00166671e-01,  1.47615246e+00,\n",
       "        6.77207425e-01,  1.27211951e+00, -7.44278191e-01,  2.15249531e-01,\n",
       "       -5.43068258e-01,  6.21201068e-01, -1.93908378e-01, -1.83545774e+00,\n",
       "       -1.07270751e+00, -5.84322098e-02, -3.19275474e-01, -1.07767255e+00,\n",
       "       -1.99020034e-01, -2.36050391e-01, -6.49916302e-01, -3.81724565e-01,\n",
       "       -2.27949974e-02,  5.78596713e-01,  4.65182173e-01,  2.27265275e-01,\n",
       "        1.39908143e+00, -5.63910982e-02, -6.70628540e-01, -4.09416083e-01,\n",
       "        1.22635037e-01, -8.10724631e-01, -1.02056014e+00, -1.47348832e-01,\n",
       "        6.31728482e-01,  3.72811548e-01,  7.77604886e-01, -3.31699197e-01,\n",
       "       -4.40881791e-01, -1.21574579e+00,  2.28471277e+00,  8.71877781e-01,\n",
       "       -7.19731411e-01,  7.23661930e-01,  1.14837431e+00, -1.66089320e+00,\n",
       "        5.35633003e-01,  7.34391013e-01,  6.60932292e-01, -6.28095041e-01,\n",
       "        1.19283787e+00, -1.71077436e+00,  1.81012071e+00,  3.15142491e-01,\n",
       "       -4.78379258e-01,  1.32029081e+00, -2.00952568e-01, -8.39281433e-01,\n",
       "       -5.20993306e-01,  1.85032901e-01,  1.04273371e+00,  1.92330853e+00,\n",
       "       -3.83127072e-01, -8.16142917e-01,  4.11170669e-01, -2.82584312e+00,\n",
       "       -6.54461629e-01,  1.78850455e-01,  6.47997938e-02, -2.62956707e-02,\n",
       "        1.11770990e+00, -8.21385544e-01,  1.65491183e+00, -1.22497150e+00,\n",
       "        2.91577041e+00, -1.20640949e+00, -1.00307908e-03, -1.00788596e+00,\n",
       "        9.14526678e-01, -4.06035738e-01,  2.71048710e-01,  1.41891482e-01,\n",
       "        6.29740556e-01,  3.36381679e-02,  7.44059040e-02, -1.03992971e-01,\n",
       "        2.46577981e-01,  5.23572660e-01, -4.09621557e-01, -5.50975190e-03,\n",
       "        1.28296450e+00, -9.88863527e-02, -2.21848757e-01,  3.98040124e-01,\n",
       "       -4.50427373e-01, -1.03974125e-01,  1.06349454e+00,  6.50584065e-01,\n",
       "       -1.83806990e-01, -1.86343822e+00,  2.30244974e+00, -1.17855153e+00,\n",
       "       -1.95284083e+00,  1.06095131e+00, -1.45680802e-02, -3.77096937e-01,\n",
       "       -2.11372660e-01, -1.09532247e+00,  5.18345451e-02, -9.41357680e-02,\n",
       "       -4.60803899e-02,  5.83895901e-01,  2.86007074e-01,  8.88936216e-01,\n",
       "        1.26130278e-01,  9.41293205e-01, -1.37412477e+00, -9.45499251e-01,\n",
       "        4.35791008e-01,  6.42240573e-01,  1.66903003e+00, -7.53381487e-01,\n",
       "       -1.36621060e+00,  2.03165291e+00, -1.18425461e+00,  4.75226874e-01,\n",
       "        1.36071253e+00,  1.12452908e-01, -1.80490597e-01,  2.65798705e+00,\n",
       "        3.65727863e-01, -9.18930356e-01, -4.00244805e-02,  4.50658601e-01,\n",
       "        2.73782501e-01,  4.92261774e-01,  1.03294631e+00,  9.64823781e-01,\n",
       "        1.76218015e+00, -1.46803622e+00, -1.59586308e+00, -1.87348288e+00,\n",
       "        2.22710682e-01,  2.13563905e+00,  9.89056761e-01,  3.57040392e+00,\n",
       "        4.28099150e-01,  7.51660220e-02,  1.72243045e+00, -7.25328910e-01,\n",
       "       -5.42485417e-01, -2.11379291e+00, -2.27930012e+00, -6.13055743e-01,\n",
       "       -1.18651000e+00, -4.21501401e-01,  2.26224703e+00, -8.15787616e-01,\n",
       "        3.23273260e-01, -1.61989817e+00,  3.40982407e-02, -1.41085366e-01,\n",
       "       -5.32128535e-02, -1.15443576e+00, -9.10231022e-01, -9.07960698e-01,\n",
       "       -3.66584622e-01,  7.50819698e-01, -6.02460961e-01,  1.10468475e+00,\n",
       "        6.56027464e-01,  2.73477446e-01,  1.67508026e+00, -7.71704822e-02,\n",
       "        3.00523510e-01, -2.80055950e-02,  1.54659880e+00,  2.08245728e+00,\n",
       "       -6.44464690e-01,  1.39206078e+00, -2.19723078e+00, -8.02337164e-01,\n",
       "        9.84237840e-01, -1.48330413e+00, -9.62187606e-01, -9.59896652e-01,\n",
       "       -2.49413680e-01,  6.56912772e-01,  2.38444547e+00, -1.16107027e-01,\n",
       "       -1.52480383e+00, -1.59849572e+00,  5.04473085e-01,  4.80068456e-01,\n",
       "       -1.88691088e-01, -2.08881904e+00,  5.44226588e-01, -1.07366228e+00,\n",
       "       -7.06902046e-01, -1.08308495e-01,  1.98909745e+00,  7.00495680e-01,\n",
       "       -1.35881109e-01, -1.02113411e+00,  1.65068535e+00, -5.57287609e-01,\n",
       "        1.73815760e-01, -2.68726723e-01, -1.98103920e-01,  8.81603732e-01,\n",
       "        4.94152622e-02,  6.78768447e-02, -2.26745261e-01, -2.54248134e-01,\n",
       "        3.58506489e-01, -4.90342956e-01,  9.06802433e-01, -1.55375523e+00,\n",
       "       -2.57821719e-01, -6.56653184e-01,  5.87956307e-01, -1.47663474e+00,\n",
       "        1.92608846e+00,  5.14491705e-01, -5.20428525e-01,  5.69868391e-01,\n",
       "        3.97816993e-01,  8.22017470e-02,  1.78061939e+00, -1.90566601e-01,\n",
       "        9.65352666e-01,  1.94057806e+00,  3.41771084e-01,  1.38094972e-01,\n",
       "        1.09382492e+00,  4.72036006e-01,  9.29792899e-01, -1.44820723e+00,\n",
       "        6.99759467e-01,  1.67869166e+00, -6.54330680e-01, -1.12434500e+00,\n",
       "       -2.89350467e+00, -3.65432500e-01, -5.75304902e-01, -1.55509255e-01,\n",
       "        7.21311586e-01, -1.24770479e+00, -6.63218622e-01, -1.20609976e-01,\n",
       "        1.46552631e+00,  6.67408101e-01,  1.78670201e-01,  1.86170127e+00,\n",
       "        1.75939455e+00,  7.60369821e-01,  4.14393159e-01, -2.03510574e-01,\n",
       "       -8.91159087e-01, -2.24524585e+00, -4.61328467e-02, -2.19170648e-01,\n",
       "        6.36944647e-01, -1.17244127e-01,  1.08401483e+00, -8.94512629e-01,\n",
       "       -1.12003279e-01,  1.94136649e+00, -5.95371132e-01,  1.98420039e-01,\n",
       "        1.14622691e+00, -1.94801184e+00, -6.98787652e-01, -1.38893919e+00,\n",
       "        8.41738133e-01,  6.72062416e-01,  9.71787687e-01,  2.72816067e-01,\n",
       "        1.67609975e-01,  8.65355241e-01, -4.52773997e-01,  4.70881535e-01,\n",
       "        1.03946207e+00, -3.23535404e-01,  1.20332526e-01, -6.00234862e-01,\n",
       "       -5.51130429e-01,  1.34367063e+00,  1.22840263e+00,  2.15840601e-01,\n",
       "       -3.41107553e-01, -6.22573827e-01,  4.99741549e-01,  3.82476897e-01,\n",
       "       -7.62320048e-01, -8.38173861e-01, -1.15317897e+00,  6.19404991e-01,\n",
       "        1.10269880e-01, -5.97166755e-01,  7.83103250e-01, -4.58116953e-01,\n",
       "        3.37860899e-01, -2.27435670e+00,  5.56822860e-01, -5.04137896e-01,\n",
       "        5.52805909e-01, -8.95055535e-02, -3.28309907e-01,  1.69832424e+00,\n",
       "        8.67137660e-01, -4.05824523e-01, -6.09241069e-01,  4.29522922e-01,\n",
       "       -1.27771716e-01,  1.27608437e+00, -2.02196813e+00, -1.61011669e+00,\n",
       "        7.93005305e-01,  4.44875608e-01,  4.63987054e-01, -2.69794992e+00,\n",
       "        1.56272340e-01, -8.83631793e-01,  2.15412586e-02, -1.76551397e-01,\n",
       "       -1.25773370e+00,  9.35389692e-01,  2.82933282e+00,  4.38598537e-01,\n",
       "       -1.14533145e-01, -6.03004046e-01, -1.26051011e+00, -7.93819144e-01,\n",
       "        2.61553038e+00, -2.41320902e-01,  1.74063506e+00,  8.99726782e-01,\n",
       "        1.60245394e+00,  1.12399368e+00,  6.03100531e-01,  1.55077232e+00,\n",
       "        9.14297349e-02,  8.12463589e-01,  2.87829192e-01, -4.91590174e-01,\n",
       "       -1.38775507e+00,  1.64932045e+00, -2.12090919e-01, -4.85484851e-01,\n",
       "       -7.72059159e-01,  8.98074233e-02,  2.35043227e-01, -4.76205305e-01,\n",
       "       -1.24574574e+00,  2.19726499e-02, -2.94064295e-01,  1.08835533e-01,\n",
       "        8.24167285e-01,  1.40910189e+00, -1.69510989e+00,  1.83004931e-02,\n",
       "       -5.74216715e-01,  1.26288748e-01, -2.71682178e-01, -6.42474873e-01,\n",
       "       -1.55953024e-01, -5.38109967e-01,  3.30824314e-02, -1.16542619e+00,\n",
       "       -1.34113842e+00,  1.72091794e-01, -4.08378758e-01, -8.88013935e-01,\n",
       "        1.42774901e+00, -1.24125996e-01, -7.78773919e-01,  3.53871486e-01,\n",
       "        1.15413944e+00,  4.45671431e-01,  2.87331292e-01, -7.93331075e-01,\n",
       "        1.43354782e+00, -1.21321897e+00,  1.02442790e+00, -1.41045304e-01,\n",
       "        1.10528938e+00,  1.08503256e+00, -3.11548753e-01, -1.01095296e+00,\n",
       "        9.71555339e-01, -7.35884676e-02, -4.90532146e-02, -6.46671213e-01,\n",
       "        6.68371460e-01, -2.21990159e-01, -4.45249409e-01, -8.79990563e-01,\n",
       "       -1.86376340e+00,  1.07341082e-01,  4.03223257e-02, -4.04199819e-03,\n",
       "        1.57192764e-01,  1.18500739e+00,  1.80766605e+00, -1.43590785e-02,\n",
       "       -1.19581777e+00,  2.27315608e+00, -6.20755294e-01,  5.68107312e-01,\n",
       "        8.40943585e-01, -7.72518364e-02, -2.42470727e-01,  1.56970048e-01,\n",
       "       -2.98464464e-01, -2.98142625e-01,  5.87161001e-01,  2.47992657e-01,\n",
       "        7.69712719e-01,  2.86585049e-01, -1.86396781e+00,  4.34849006e-01,\n",
       "       -1.75030221e+00, -5.93460196e-01,  3.01244828e-02, -1.53415217e+00,\n",
       "        6.16820914e-01, -1.45659207e+00,  8.51658750e-01,  6.86558893e-01,\n",
       "       -1.04066658e-01,  5.90774190e-01, -7.39150146e-01,  9.47240676e-01,\n",
       "        1.51953112e+00,  4.56580478e-01, -1.73814354e-01,  3.32250339e-01,\n",
       "       -2.44053562e+00, -1.20131478e+00,  1.54141501e-01, -1.41419763e-01,\n",
       "        1.31145092e+00, -6.68588585e-01,  1.01607566e+00, -4.08256151e-01,\n",
       "        6.26559912e-02, -2.56562109e+00,  6.45872143e-01, -1.03812230e+00,\n",
       "        1.28840506e+00, -4.01798748e-01, -1.60114143e-01, -1.69279691e-01,\n",
       "       -2.33938273e+00,  1.02856582e+00, -2.15495549e-01, -7.45518891e-02,\n",
       "        1.81584310e+00, -7.80297724e-03, -9.59829508e-01, -1.32457609e+00,\n",
       "       -1.81316041e+00, -6.47317406e-01,  9.50872502e-02,  8.65477317e-01,\n",
       "       -1.05780052e-01, -1.83425565e+00,  1.06927353e+00, -2.25762349e+00,\n",
       "       -8.62621405e-01,  1.85451378e+00, -7.48924905e-01,  8.47245448e-01,\n",
       "        9.64471828e-01, -6.58543486e-01,  3.95268699e-01, -1.44407923e+00,\n",
       "        5.61317291e-02,  5.11632092e-01, -3.17120504e+00,  7.65013863e-01,\n",
       "       -6.07520856e-01, -2.30014684e-02,  6.88908620e-01,  2.53544992e+00,\n",
       "        8.81425925e-01, -6.99841494e-02,  1.86311419e-01,  4.83325272e-01,\n",
       "       -1.41871426e-01, -2.99092965e-01, -1.59547322e+00, -5.78838199e-01,\n",
       "       -4.85326507e-01, -8.40682890e-01,  1.05944498e-01,  5.86318170e-01,\n",
       "       -9.04887926e-01, -1.29555162e+00, -3.84628826e-01,  1.21207549e+00,\n",
       "       -1.17894261e+00, -4.65236242e-01, -3.22726801e-01, -4.86045614e-01,\n",
       "       -4.59360347e-01, -1.29733433e+00,  1.95251460e-01, -1.58165985e-01,\n",
       "       -3.54533725e-01,  7.18257355e-01,  1.86711613e+00, -8.40363856e-01,\n",
       "       -4.55026381e-01,  5.47634210e-02,  1.31673721e+00, -3.01699555e-01,\n",
       "       -8.80086287e-03, -2.76803170e-01, -1.41097482e+00,  1.05022675e+00,\n",
       "        2.60173031e-01, -2.25592037e-01, -4.71717768e-01,  5.46619661e-01,\n",
       "        2.60223079e+00,  1.40177898e+00,  2.90802310e-01,  1.25526298e-02,\n",
       "       -4.67165629e-01,  5.90771599e-01, -1.02172332e+00,  2.31631746e-01,\n",
       "       -8.09527658e-01,  3.08876407e-01, -6.95189713e-01,  4.76754375e-01,\n",
       "        2.18597077e+00,  1.88833884e+00,  7.12597349e-01,  1.44278412e+00,\n",
       "       -6.71633695e-01,  5.66115447e-01, -7.00713294e-02, -2.29838919e+00,\n",
       "       -4.39478558e-01, -6.13448097e-01,  3.76148776e-02,  1.22791892e+00,\n",
       "        6.47291736e-01,  8.02951567e-01,  1.03025039e+00, -7.13675217e-01,\n",
       "        1.78191406e-01,  9.46667877e-01, -4.07413039e-01, -6.43702732e-01,\n",
       "       -1.23608469e+00,  1.28061342e+00,  8.97128498e-01, -1.58222132e+00,\n",
       "        1.16550289e-02, -1.13946237e+00,  1.76284917e+00,  1.80289018e+00,\n",
       "        3.93652076e-02, -1.96592611e-02,  1.61451559e+00, -7.83811189e-01,\n",
       "        8.19127431e-01,  3.27847837e-01, -8.85408903e-01, -2.03957152e+00,\n",
       "       -4.53070556e-01, -5.65848374e-01, -2.04043976e-01,  7.24024796e-01,\n",
       "        1.28178399e+00, -4.70881604e-01,  3.14676310e-01,  1.09496767e-01,\n",
       "        7.32902568e-01,  6.61717083e-01, -1.42317241e+00,  6.43845507e-01,\n",
       "       -7.68303343e-01, -4.95957499e-01, -4.83258440e-02, -6.81946000e-01,\n",
       "       -1.20587544e-02, -1.10509541e+00,  6.30823465e-01,  1.41213185e+00,\n",
       "        2.18912623e+00,  9.80156900e-01, -3.26705346e-02,  1.51346479e-01,\n",
       "        2.01537804e+00,  1.35062458e+00, -2.98901694e-01, -1.63525697e-01,\n",
       "       -6.02305886e-01,  1.11787987e+00, -1.12618115e+00,  5.41645531e-02,\n",
       "       -1.95210070e+00,  1.21049424e+00, -6.35660727e-01, -1.11071974e+00,\n",
       "       -1.11253830e+00,  1.98780188e+00, -1.45887123e+00,  5.75092098e-01,\n",
       "        8.21722096e-01, -1.78079257e+00, -1.25489213e+00, -4.82935809e-02,\n",
       "        1.81186316e-01, -8.72363681e-01, -1.21666702e+00, -2.50286379e-01,\n",
       "       -9.76042987e-01,  1.44950577e+00, -8.51667555e-01,  7.57636534e-01,\n",
       "        1.52095117e+00, -2.22988936e+00,  1.28251227e+00,  1.29796983e+00,\n",
       "        8.57376667e-01, -2.62748170e+00,  1.22141444e-03, -2.00143460e+00,\n",
       "       -7.36606536e-01, -1.17988966e+00, -4.79432373e-01, -8.89432931e-01,\n",
       "       -1.12514632e+00,  6.92325960e-01,  9.82284073e-01,  2.02957768e+00,\n",
       "        1.10297949e+00,  7.99991282e-01,  8.38593665e-01, -6.37054809e-01,\n",
       "        3.11077182e-01, -1.09530024e+00,  5.12909621e-01,  1.08855151e+00,\n",
       "       -1.69029220e+00, -6.47669246e-01, -1.49491809e-01,  5.16485992e-01,\n",
       "       -2.81418246e-02,  8.12255846e-01,  1.42961099e+00, -1.62757948e-01,\n",
       "        2.04229238e-01, -1.38472625e+00, -5.29730153e-01, -1.53001229e+00,\n",
       "       -1.75823826e-01,  1.22369706e+00, -4.55012607e-01, -2.55112505e-01,\n",
       "       -1.30212004e+00,  5.29511936e-01, -1.09481432e+00,  6.66881141e-01,\n",
       "        1.65492682e+00, -1.25582898e+00,  1.29796541e-02, -1.87007104e-01,\n",
       "        1.00518368e+00,  1.38370851e+00,  1.46838706e+00, -1.11915011e+00,\n",
       "       -2.20743321e+00, -7.97139488e-01,  2.15454526e+00,  1.63290071e-01,\n",
       "       -5.92959622e-01,  1.07424549e+00, -1.49806671e+00,  3.64800815e-01,\n",
       "       -4.15495943e-01, -1.19297050e+00,  7.49558317e-01, -5.09592388e-01,\n",
       "       -7.66000649e-01, -5.58459532e-01, -7.51145473e-01, -3.29239762e-01,\n",
       "       -5.61075852e-01,  1.93419026e+00, -1.41845811e+00,  1.11174824e+00,\n",
       "       -8.78445412e-01, -9.31961261e-01, -5.29441806e-01, -2.80744533e-01,\n",
       "        7.03424067e-01,  1.27667395e+00,  2.17421436e-01, -6.15253656e-02,\n",
       "       -1.05899847e+00, -6.64547026e-01, -8.91655688e-01,  6.72128461e-01,\n",
       "        4.71409850e-01,  3.93224613e-01, -3.58040036e-01,  1.17008204e+00,\n",
       "        4.08606026e-02,  8.13843602e-01, -7.02824136e-01, -6.96762073e-01,\n",
       "       -9.15345856e-01,  7.19761106e-01,  3.40515017e-01,  3.07001266e-01,\n",
       "        1.54752058e+00,  6.11811711e-01, -1.05533333e+00,  7.05361951e-01,\n",
       "       -2.90742214e-01,  6.78080620e-01,  7.57916660e-01, -3.45310799e-01,\n",
       "        2.40119009e+00,  2.58143699e+00,  1.93038508e-01,  8.56814731e-01,\n",
       "       -1.24826884e+00, -1.84547680e-01, -2.60329796e-01, -2.24501436e-01,\n",
       "       -3.86453710e-01,  2.45749468e-01,  2.82007650e+00,  1.14590365e+00,\n",
       "       -5.83982922e-02, -5.66735264e-01,  1.07917656e-01,  2.82529190e-01,\n",
       "       -7.31232557e-01,  3.57612089e+00,  9.01402361e-01, -1.74078428e-01,\n",
       "       -1.71234038e+00, -1.11315607e+00,  3.07305954e-01,  4.90053140e-01,\n",
       "       -1.65714834e-01, -3.71256814e-01,  7.19617285e-01, -6.53090579e-01,\n",
       "       -8.21515077e-01, -3.86649753e-01,  2.02169937e-01, -2.44878450e-01,\n",
       "        5.44061059e-01, -5.46015335e-01, -1.16225213e-02,  1.93511233e-01,\n",
       "        2.74241816e-01,  7.16409856e-01, -1.12699752e+00,  6.48212411e-01,\n",
       "        3.73851115e-01, -1.09722118e+00,  5.66614343e-01, -8.17254388e-01,\n",
       "       -3.47463453e-01, -4.01966142e-01,  4.49430214e-01, -1.72904529e-01,\n",
       "        1.01842258e+00, -1.33562601e+00, -4.10449513e-01, -4.10887980e-01,\n",
       "       -3.10758371e-01,  6.16762168e-01,  5.03385544e-01, -5.68924396e-01,\n",
       "       -4.42046842e-01, -3.75866412e-01,  4.86616902e-01,  1.10473808e+00,\n",
       "        6.14676406e-01, -7.47238787e-01,  6.27186149e-01,  2.10018157e-02,\n",
       "       -1.25534606e+00,  1.00080583e+00,  1.80359503e-01, -6.83863391e-01,\n",
       "        1.04514126e+00, -2.85865946e+00,  2.70081643e-01,  1.17968149e+00,\n",
       "        1.66134926e+00, -9.38220361e-01, -7.31201497e-01,  9.72042447e-01,\n",
       "       -8.70637257e-01, -2.45878842e+00,  8.72167918e-01, -1.23829216e+00,\n",
       "       -5.46964186e-01,  1.35295289e+00, -6.54288936e-01,  6.23519682e-01,\n",
       "        9.22700553e-04,  6.97204376e-01, -2.41670310e-01,  6.54322866e-01,\n",
       "       -3.52823004e-01, -8.13246288e-01, -1.11097120e+00, -2.58383331e-01,\n",
       "        1.67722519e+00,  2.27352776e-01, -5.62036628e-01,  5.45182104e-01,\n",
       "        9.41223783e-01,  2.39481947e+00, -5.88136413e-01,  5.28314381e-01])"
      ]
     },
     "execution_count": 21,
     "metadata": {},
     "output_type": "execute_result"
    }
   ],
   "source": [
    "mu, sigma = 0, 1 # mean and standard deviation\n",
    "s = np.random.normal(mu, sigma, 1000)\n",
    "s"
   ]
  },
  {
   "cell_type": "markdown",
   "metadata": {},
   "source": [
    "## Question 11\n",
    "\n",
    "Generate binomial distribution data for fair coin flipping of size 100. Assume `0` for head and `1` for tail.\n",
    "\n",
    "[ **Hint:** For fair coin flip `p=0.5` ]"
   ]
  },
  {
   "cell_type": "markdown",
   "metadata": {},
   "source": [
    "#### Binomial Distribution"
   ]
  },
  {
   "cell_type": "markdown",
   "metadata": {},
   "source": [
    "It is defined by 2 parameters: the probability of success and the number of trails. It tells about how likely it is possible to get a given number of successes in n trails."
   ]
  },
  {
   "cell_type": "code",
   "execution_count": 11,
   "metadata": {},
   "outputs": [
    {
     "data": {
      "text/plain": [
       "array([46, 51, 46, 45, 52, 50, 50, 48, 50, 43, 45, 47, 49, 53, 53, 48, 50,\n",
       "       45, 59, 48, 42, 54, 39, 54, 50, 50, 48, 50, 59, 49, 49, 38, 58, 59,\n",
       "       53, 56, 48, 47, 47, 49, 47, 50, 40, 44, 41, 53, 58, 47, 50, 38, 51,\n",
       "       58, 52, 47, 53, 41, 58, 50, 42, 35, 51, 54, 51, 49, 54, 52, 58, 59,\n",
       "       43, 56, 49, 55, 51, 60, 43, 55, 50, 47, 52, 54, 43, 58, 45, 44, 52,\n",
       "       46, 43, 52, 50, 57, 44, 33, 40, 53, 54, 39, 51, 51, 48, 35, 44, 55,\n",
       "       49, 44, 46, 54, 48, 54, 49, 49, 49, 54, 57, 47, 50, 53, 43, 60, 47,\n",
       "       49, 48, 44, 47, 55, 47, 45, 51, 50, 45, 44, 53, 48, 52, 51, 42, 55,\n",
       "       43, 58, 47, 62, 50, 55, 38, 46, 52, 53, 54, 50, 53, 53, 56, 49, 50,\n",
       "       42, 53, 47, 46, 53, 49, 55, 46, 51, 49, 48, 52, 41, 53, 44, 50, 46,\n",
       "       50, 48, 55, 51, 45, 48, 45, 45, 55, 44, 46, 56, 55, 46, 52, 47, 52,\n",
       "       54, 56, 53, 41, 49, 43, 53, 43, 45, 52, 42, 49, 49, 54, 55, 53, 49,\n",
       "       55, 53, 45, 49, 45, 43, 56, 52, 49, 51, 51, 54, 44, 49, 58, 50, 52,\n",
       "       50, 48, 54, 45, 51, 43, 48, 49, 57, 53, 49, 44, 48, 46, 49, 57, 35,\n",
       "       41, 51, 48, 50, 50, 48, 53, 58, 52, 46, 44, 52, 56, 50, 50, 51, 54,\n",
       "       52, 47, 50, 53, 45, 56, 54, 44, 43, 51, 48, 40, 51, 48, 50, 42, 53,\n",
       "       48, 36, 48, 51, 49, 53, 52, 49, 54, 57, 50, 55, 50, 51, 46, 61, 52,\n",
       "       54, 50, 38, 42, 56, 56, 51, 50, 49, 53, 49, 40, 52, 50, 65, 51, 48,\n",
       "       44, 52, 46, 42, 52, 57, 51, 52, 47, 52, 46, 53, 40, 46, 50, 40, 47,\n",
       "       50, 59, 54, 45, 47, 49, 46, 50, 50, 48, 57, 56, 51, 54, 58, 50, 49,\n",
       "       51, 48, 46, 44, 57, 56, 49, 43, 37, 60, 43, 42, 49, 51, 47, 52, 62,\n",
       "       42, 55, 54, 48, 43, 47, 60, 51, 50, 45, 45, 44, 53, 50, 45, 43, 51,\n",
       "       57, 48, 48, 45, 40, 54, 57, 59, 51, 56, 50, 49, 51, 44, 49, 47, 45,\n",
       "       46, 51, 50, 55, 53, 52, 56, 52, 45, 56, 46, 50, 52, 56, 48, 50, 55,\n",
       "       48, 44, 55, 56, 54, 51, 42, 46, 46, 55, 57, 54, 32, 42, 44, 49, 44,\n",
       "       56, 62, 36, 44, 42, 44, 51, 54, 48, 56, 53, 54, 42, 44, 47, 52, 50,\n",
       "       57, 52, 51, 47, 47, 41, 51, 61, 52, 54, 49, 53, 48, 57, 54, 54, 45,\n",
       "       49, 43, 46, 49, 52, 59, 53, 52, 44, 49, 50, 48, 48, 47, 46, 54, 49,\n",
       "       44, 46, 58, 52, 46, 55, 44, 53, 43, 50, 51, 44, 53, 47, 56, 50, 47,\n",
       "       55, 53, 48, 53, 54, 37, 50, 46, 42, 52, 56, 48, 46, 47, 51, 52, 42,\n",
       "       43, 58, 49, 45, 54, 54, 48, 42, 43, 45, 50, 53, 58, 59, 48, 46, 35,\n",
       "       50, 51, 56, 46, 59, 49, 51, 54, 55, 56, 55, 50, 51, 52, 49, 49, 54,\n",
       "       57, 48, 57, 47, 59, 53, 51, 47, 55, 58, 51, 56, 56, 43, 58, 58, 49,\n",
       "       54, 51, 54, 49, 50, 54, 61, 51, 48, 52, 48, 60, 50, 54, 47, 47, 54,\n",
       "       45, 48, 52, 48, 58, 56, 52, 47, 60, 45, 47, 56, 46, 48, 51, 51, 49,\n",
       "       47, 37, 51, 49, 52, 48, 50, 52, 64, 50, 52, 50, 54, 51, 55, 54, 53,\n",
       "       51, 47, 45, 45, 43, 56, 53, 56, 48, 55, 59, 53, 54, 50, 50, 44, 48,\n",
       "       50, 50, 45, 52, 53, 54, 49, 52, 47, 46, 44, 42, 49, 44, 48, 47, 47,\n",
       "       44, 52, 52, 43, 42, 51, 52, 48, 51, 45, 45, 55, 51, 52, 48, 53, 49,\n",
       "       50, 50, 48, 44, 54, 43, 44, 52, 44, 51, 53, 45, 49, 53, 47, 56, 53,\n",
       "       49, 42, 47, 54, 52, 47, 50, 44, 50, 48, 45, 49, 52, 48, 46, 51, 52,\n",
       "       50, 60, 51, 51, 48, 45, 45, 50, 52, 53, 49, 53, 49, 57, 51, 56, 49,\n",
       "       46, 43, 52, 41, 50, 58, 51, 53, 56, 48, 51, 50, 44, 44, 54, 53, 40,\n",
       "       57, 57, 41, 56, 53, 60, 48, 37, 50, 47, 54, 52, 51, 53, 51, 50, 54,\n",
       "       42, 53, 52, 47, 50, 50, 47, 52, 55, 59, 52, 47, 45, 45, 57, 51, 52,\n",
       "       52, 54, 47, 48, 42, 52, 53, 58, 48, 43, 52, 54, 47, 54, 47, 50, 47,\n",
       "       61, 49, 54, 49, 48, 48, 56, 50, 50, 48, 55, 54, 44, 55, 48, 56, 52,\n",
       "       41, 55, 53, 54, 53, 51, 50, 50, 42, 57, 43, 53, 53, 41, 51, 48, 41,\n",
       "       47, 45, 46, 44, 44, 48, 45, 53, 51, 50, 54, 51, 51, 43, 50, 60, 44,\n",
       "       51, 45, 56, 63, 50, 47, 51, 57, 44, 54, 51, 39, 46, 49, 52, 53, 49,\n",
       "       64, 49, 51, 42, 54, 53, 55, 49, 51, 47, 52, 53, 44, 58, 57, 50, 49,\n",
       "       45, 47, 49, 47, 52, 49, 38, 51, 49, 53, 51, 47, 53, 53, 50, 51, 52,\n",
       "       48, 49, 49, 56, 52, 44, 48, 50, 51, 55, 43, 41, 53, 49, 53, 46, 53,\n",
       "       46, 46, 51, 50, 51, 32, 54, 50, 57, 37, 42, 51, 51, 50, 46, 54, 40,\n",
       "       49, 48, 44, 51, 43, 51, 44, 56, 53, 55, 48, 39, 38, 48, 52, 55, 51,\n",
       "       47, 54, 56, 50, 54, 50, 55, 43, 42, 47, 51, 56, 60, 51, 49, 55, 50,\n",
       "       48, 45, 44, 52, 53, 56, 48, 60, 57, 44, 53, 51, 43, 63, 42, 52, 50,\n",
       "       58, 50, 50, 58, 49, 52, 51, 44, 52, 46, 54, 48, 54, 45, 50, 55, 56,\n",
       "       55, 50, 47, 58, 46, 47, 50, 45, 41, 48, 56, 42, 50, 57])"
      ]
     },
     "execution_count": 11,
     "metadata": {},
     "output_type": "execute_result"
    }
   ],
   "source": [
    "np.random.binomial(100,0.5,1000)"
   ]
  },
  {
   "cell_type": "markdown",
   "metadata": {},
   "source": [
    "#### Visualizing Poisson Distribution"
   ]
  },
  {
   "cell_type": "markdown",
   "metadata": {},
   "source": [
    "It models the probability of seeing certain number of successes within a time interval."
   ]
  },
  {
   "cell_type": "code",
   "execution_count": 133,
   "metadata": {},
   "outputs": [
    {
     "data": {
      "image/png": "[encoded data removed]",
      "text/plain": [
       "<matplotlib.figure.Figure at 0x7f7c10ffbe90>"
      ]
     },
     "metadata": {},
     "output_type": "display_data"
    }
   ],
   "source": [
    "poisson_data = stats.poisson.rvs(size=100,mu=10)\n",
    "\n",
    "pd.DataFrame(poisson_data).hist()\n",
    "\n",
    "plt.show()"
   ]
  }
 ],
 "metadata": {
  "kernelspec": {
   "display_name": "Python 3",
   "language": "python",
   "name": "python3"
  },
  "language_info": {
   "codemirror_mode": {
    "name": "ipython",
    "version": 3
   },
   "file_extension": ".py",
   "mimetype": "text/x-python",
   "name": "python",
   "nbconvert_exporter": "python",
   "pygments_lexer": "ipython3",
   "version": "3.7.0"
  }
 },
 "nbformat": 4,
 "nbformat_minor": 2
}
